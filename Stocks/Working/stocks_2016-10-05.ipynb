{
 "cells": [
  {
   "cell_type": "code",
   "execution_count": 7,
   "metadata": {
    "collapsed": false
   },
   "outputs": [],
   "source": [
    "import pandas as pd\n",
    "from pandas_datareader import data, wb\n",
    "import numpy as np\n",
    "import sklearn\n",
    "\n",
    "for pd_option in ['display.max_rows', 'display.max_colwidth', 'display.max_columns']:\n",
    "    pd.set_option(pd_option, 500)  # http://pandas.pydata.org/pandas-docs/stable/generated/pandas.set_option.html\n",
    "\n",
    "from IPython.core.pylabtools import figsize\n",
    "from matplotlib import pyplot as plt\n",
    "%matplotlib inline\n",
    "figsize(11, 9)\n",
    "\n",
    "import requests\n",
    "from bs4 import BeautifulSoup"
   ]
  },
  {
   "cell_type": "code",
   "execution_count": 16,
   "metadata": {
    "collapsed": false
   },
   "outputs": [
    {
     "data": {
      "text/html": [
       "<div>\n",
       "<table border=\"1\" class=\"dataframe\">\n",
       "  <thead>\n",
       "    <tr style=\"text-align: right;\">\n",
       "      <th></th>\n",
       "      <th>Ticker symbol</th>\n",
       "      <th>Security</th>\n",
       "      <th>SEC filings</th>\n",
       "      <th>GICS Sector</th>\n",
       "      <th>GICS Sub Industry</th>\n",
       "      <th>Address of Headquarters</th>\n",
       "      <th>Date first added</th>\n",
       "      <th>CIK</th>\n",
       "    </tr>\n",
       "  </thead>\n",
       "  <tbody>\n",
       "    <tr>\n",
       "      <th>1</th>\n",
       "      <td>MMM</td>\n",
       "      <td>3M Company</td>\n",
       "      <td>reports</td>\n",
       "      <td>Industrials</td>\n",
       "      <td>Industrial Conglomerates</td>\n",
       "      <td>St. Paul, Minnesota</td>\n",
       "      <td>NaN</td>\n",
       "      <td>0000066740</td>\n",
       "    </tr>\n",
       "    <tr>\n",
       "      <th>2</th>\n",
       "      <td>ABT</td>\n",
       "      <td>Abbott Laboratories</td>\n",
       "      <td>reports</td>\n",
       "      <td>Health Care</td>\n",
       "      <td>Health Care Equipment &amp; Services</td>\n",
       "      <td>North Chicago, Illinois</td>\n",
       "      <td>1964-03-31</td>\n",
       "      <td>0000001800</td>\n",
       "    </tr>\n",
       "    <tr>\n",
       "      <th>3</th>\n",
       "      <td>ABBV</td>\n",
       "      <td>AbbVie</td>\n",
       "      <td>reports</td>\n",
       "      <td>Health Care</td>\n",
       "      <td>Pharmaceuticals</td>\n",
       "      <td>North Chicago, Illinois</td>\n",
       "      <td>2012-12-31</td>\n",
       "      <td>0001551152</td>\n",
       "    </tr>\n",
       "    <tr>\n",
       "      <th>4</th>\n",
       "      <td>ACN</td>\n",
       "      <td>Accenture plc</td>\n",
       "      <td>reports</td>\n",
       "      <td>Information Technology</td>\n",
       "      <td>IT Consulting &amp; Other Services</td>\n",
       "      <td>Dublin, Ireland</td>\n",
       "      <td>2011-07-06</td>\n",
       "      <td>0001467373</td>\n",
       "    </tr>\n",
       "    <tr>\n",
       "      <th>5</th>\n",
       "      <td>ATVI</td>\n",
       "      <td>Activision Blizzard</td>\n",
       "      <td>reports</td>\n",
       "      <td>Information Technology</td>\n",
       "      <td>Home Entertainment Software</td>\n",
       "      <td>Santa Monica, California</td>\n",
       "      <td>2015-08-31</td>\n",
       "      <td>0000718877</td>\n",
       "    </tr>\n",
       "  </tbody>\n",
       "</table>\n",
       "</div>"
      ],
      "text/plain": [
       "0 Ticker symbol             Security SEC filings             GICS Sector  \\\n",
       "1           MMM           3M Company     reports             Industrials   \n",
       "2           ABT  Abbott Laboratories     reports             Health Care   \n",
       "3          ABBV               AbbVie     reports             Health Care   \n",
       "4           ACN        Accenture plc     reports  Information Technology   \n",
       "5          ATVI  Activision Blizzard     reports  Information Technology   \n",
       "\n",
       "0                 GICS Sub Industry   Address of Headquarters  \\\n",
       "1          Industrial Conglomerates       St. Paul, Minnesota   \n",
       "2  Health Care Equipment & Services   North Chicago, Illinois   \n",
       "3                   Pharmaceuticals   North Chicago, Illinois   \n",
       "4    IT Consulting & Other Services           Dublin, Ireland   \n",
       "5       Home Entertainment Software  Santa Monica, California   \n",
       "\n",
       "0 Date first added         CIK  \n",
       "1              NaN  0000066740  \n",
       "2       1964-03-31  0000001800  \n",
       "3       2012-12-31  0001551152  \n",
       "4       2011-07-06  0001467373  \n",
       "5       2015-08-31  0000718877  "
      ]
     },
     "execution_count": 16,
     "metadata": {},
     "output_type": "execute_result"
    }
   ],
   "source": [
    "# get a list of the S&P500 stocks from wikipedia\n",
    "sp_500_list = \"https://en.wikipedia.org/wiki/List_of_S%26P_500_companies\"\n",
    "response = requests.get(sp_500_list)\n",
    "wiki_page = response.content\n",
    "wiki_page_tables = pd.read_html(wiki_page)\n",
    "sp_500 = wiki_page_tables[0] # there is another table in there too\n",
    "sp_500.columns = sp_500.ix[0]\n",
    "sp_500.drop(0, inplace=True)\n",
    "sp_500.head()"
   ]
  },
  {
   "cell_type": "code",
   "execution_count": 17,
   "metadata": {
    "collapsed": false
   },
   "outputs": [
    {
     "data": {
      "text/plain": [
       "(504, 8)"
      ]
     },
     "execution_count": 17,
     "metadata": {},
     "output_type": "execute_result"
    }
   ],
   "source": [
    "sp_500.shape"
   ]
  },
  {
   "cell_type": "code",
   "execution_count": 18,
   "metadata": {
    "collapsed": false
   },
   "outputs": [
    {
     "data": {
      "text/html": [
       "<div>\n",
       "<table border=\"1\" class=\"dataframe\">\n",
       "  <thead>\n",
       "    <tr style=\"text-align: right;\">\n",
       "      <th></th>\n",
       "      <th>Ticker symbol</th>\n",
       "      <th>Security</th>\n",
       "      <th>SEC filings</th>\n",
       "      <th>GICS Sector</th>\n",
       "      <th>GICS Sub Industry</th>\n",
       "      <th>Address of Headquarters</th>\n",
       "      <th>Date first added</th>\n",
       "      <th>CIK</th>\n",
       "    </tr>\n",
       "  </thead>\n",
       "  <tbody>\n",
       "    <tr>\n",
       "      <th>500</th>\n",
       "      <td>YHOO</td>\n",
       "      <td>Yahoo Inc.</td>\n",
       "      <td>reports</td>\n",
       "      <td>Information Technology</td>\n",
       "      <td>Internet Software &amp; Services</td>\n",
       "      <td>Sunnyvale, California</td>\n",
       "      <td>NaN</td>\n",
       "      <td>0001011006</td>\n",
       "    </tr>\n",
       "    <tr>\n",
       "      <th>501</th>\n",
       "      <td>YUM</td>\n",
       "      <td>Yum! Brands Inc</td>\n",
       "      <td>reports</td>\n",
       "      <td>Consumer Discretionary</td>\n",
       "      <td>Restaurants</td>\n",
       "      <td>Louisville, Kentucky</td>\n",
       "      <td>1997-10-06</td>\n",
       "      <td>0001041061</td>\n",
       "    </tr>\n",
       "    <tr>\n",
       "      <th>502</th>\n",
       "      <td>ZBH</td>\n",
       "      <td>Zimmer Biomet Holdings</td>\n",
       "      <td>reports</td>\n",
       "      <td>Health Care</td>\n",
       "      <td>Health Care Equipment &amp; Services</td>\n",
       "      <td>Warsaw, Indiana</td>\n",
       "      <td>NaN</td>\n",
       "      <td>0001136869</td>\n",
       "    </tr>\n",
       "    <tr>\n",
       "      <th>503</th>\n",
       "      <td>ZION</td>\n",
       "      <td>Zions Bancorp</td>\n",
       "      <td>reports</td>\n",
       "      <td>Financials</td>\n",
       "      <td>Banks</td>\n",
       "      <td>Salt Lake City, Utah</td>\n",
       "      <td>NaN</td>\n",
       "      <td>0000109380</td>\n",
       "    </tr>\n",
       "    <tr>\n",
       "      <th>504</th>\n",
       "      <td>ZTS</td>\n",
       "      <td>Zoetis</td>\n",
       "      <td>reports</td>\n",
       "      <td>Health Care</td>\n",
       "      <td>Pharmaceuticals</td>\n",
       "      <td>Florham Park, New Jersey</td>\n",
       "      <td>2013-06-21</td>\n",
       "      <td>0001555280</td>\n",
       "    </tr>\n",
       "  </tbody>\n",
       "</table>\n",
       "</div>"
      ],
      "text/plain": [
       "0   Ticker symbol                Security SEC filings             GICS Sector  \\\n",
       "500          YHOO              Yahoo Inc.     reports  Information Technology   \n",
       "501           YUM         Yum! Brands Inc     reports  Consumer Discretionary   \n",
       "502           ZBH  Zimmer Biomet Holdings     reports             Health Care   \n",
       "503          ZION           Zions Bancorp     reports              Financials   \n",
       "504           ZTS                  Zoetis     reports             Health Care   \n",
       "\n",
       "0                   GICS Sub Industry   Address of Headquarters  \\\n",
       "500      Internet Software & Services     Sunnyvale, California   \n",
       "501                       Restaurants      Louisville, Kentucky   \n",
       "502  Health Care Equipment & Services           Warsaw, Indiana   \n",
       "503                             Banks      Salt Lake City, Utah   \n",
       "504                   Pharmaceuticals  Florham Park, New Jersey   \n",
       "\n",
       "0   Date first added         CIK  \n",
       "500              NaN  0001011006  \n",
       "501       1997-10-06  0001041061  \n",
       "502              NaN  0001136869  \n",
       "503              NaN  0000109380  \n",
       "504       2013-06-21  0001555280  "
      ]
     },
     "execution_count": 18,
     "metadata": {},
     "output_type": "execute_result"
    }
   ],
   "source": [
    "sp_500.tail()"
   ]
  },
  {
   "cell_type": "code",
   "execution_count": 23,
   "metadata": {
    "collapsed": false
   },
   "outputs": [
    {
     "data": {
      "text/html": [
       "<div>\n",
       "<table border=\"1\" class=\"dataframe\">\n",
       "  <thead>\n",
       "    <tr style=\"text-align: right;\">\n",
       "      <th></th>\n",
       "      <th>Open</th>\n",
       "      <th>High</th>\n",
       "      <th>Low</th>\n",
       "      <th>Close</th>\n",
       "      <th>Volume</th>\n",
       "      <th>Adj Close</th>\n",
       "    </tr>\n",
       "    <tr>\n",
       "      <th>Date</th>\n",
       "      <th></th>\n",
       "      <th></th>\n",
       "      <th></th>\n",
       "      <th></th>\n",
       "      <th></th>\n",
       "      <th></th>\n",
       "    </tr>\n",
       "  </thead>\n",
       "  <tbody>\n",
       "    <tr>\n",
       "      <th>2009-01-02</th>\n",
       "      <td>2.30</td>\n",
       "      <td>2.49</td>\n",
       "      <td>2.28</td>\n",
       "      <td>2.46</td>\n",
       "      <td>42052300</td>\n",
       "      <td>2.072571</td>\n",
       "    </tr>\n",
       "    <tr>\n",
       "      <th>2009-01-05</th>\n",
       "      <td>2.42</td>\n",
       "      <td>2.64</td>\n",
       "      <td>2.31</td>\n",
       "      <td>2.58</td>\n",
       "      <td>73031000</td>\n",
       "      <td>2.173672</td>\n",
       "    </tr>\n",
       "    <tr>\n",
       "      <th>2009-01-06</th>\n",
       "      <td>2.64</td>\n",
       "      <td>2.85</td>\n",
       "      <td>2.63</td>\n",
       "      <td>2.76</td>\n",
       "      <td>58945900</td>\n",
       "      <td>2.325323</td>\n",
       "    </tr>\n",
       "    <tr>\n",
       "      <th>2009-01-07</th>\n",
       "      <td>2.72</td>\n",
       "      <td>2.82</td>\n",
       "      <td>2.62</td>\n",
       "      <td>2.69</td>\n",
       "      <td>43931200</td>\n",
       "      <td>2.266348</td>\n",
       "    </tr>\n",
       "    <tr>\n",
       "      <th>2009-01-08</th>\n",
       "      <td>2.62</td>\n",
       "      <td>2.70</td>\n",
       "      <td>2.50</td>\n",
       "      <td>2.69</td>\n",
       "      <td>51174500</td>\n",
       "      <td>2.266348</td>\n",
       "    </tr>\n",
       "  </tbody>\n",
       "</table>\n",
       "</div>"
      ],
      "text/plain": [
       "            Open  High   Low  Close    Volume  Adj Close\n",
       "Date                                                    \n",
       "2009-01-02  2.30  2.49  2.28   2.46  42052300   2.072571\n",
       "2009-01-05  2.42  2.64  2.31   2.58  73031000   2.173672\n",
       "2009-01-06  2.64  2.85  2.63   2.76  58945900   2.325323\n",
       "2009-01-07  2.72  2.82  2.62   2.69  43931200   2.266348\n",
       "2009-01-08  2.62  2.70  2.50   2.69  51174500   2.266348"
      ]
     },
     "execution_count": 23,
     "metadata": {},
     "output_type": "execute_result"
    }
   ],
   "source": [
    "start = pd.to_datetime('2009-01-01')\n",
    "end = pd.to_datetime('2016-10-01')\n",
    "f = data.DataReader(\"F\", 'yahoo', start, end)\n",
    "f.head()"
   ]
  },
  {
   "cell_type": "code",
   "execution_count": 25,
   "metadata": {
    "collapsed": false
   },
   "outputs": [],
   "source": [
    "# options data ?\n",
    "# aapl = data.Options('aapl', 'yahoo')\n",
    "# apple_data = aapl.get_all_data()\n",
    "# apple_data.head()"
   ]
  },
  {
   "cell_type": "code",
   "execution_count": 26,
   "metadata": {
    "collapsed": false
   },
   "outputs": [
    {
     "data": {
      "text/html": [
       "<div>\n",
       "<table border=\"1\" class=\"dataframe\">\n",
       "  <thead>\n",
       "    <tr style=\"text-align: right;\">\n",
       "      <th></th>\n",
       "      <th>GDP</th>\n",
       "    </tr>\n",
       "    <tr>\n",
       "      <th>DATE</th>\n",
       "      <th></th>\n",
       "    </tr>\n",
       "  </thead>\n",
       "  <tbody>\n",
       "    <tr>\n",
       "      <th>2009-01-01</th>\n",
       "      <td>14383.9</td>\n",
       "    </tr>\n",
       "    <tr>\n",
       "      <th>2009-04-01</th>\n",
       "      <td>14340.4</td>\n",
       "    </tr>\n",
       "    <tr>\n",
       "      <th>2009-07-01</th>\n",
       "      <td>14384.1</td>\n",
       "    </tr>\n",
       "    <tr>\n",
       "      <th>2009-10-01</th>\n",
       "      <td>14566.5</td>\n",
       "    </tr>\n",
       "    <tr>\n",
       "      <th>2010-01-01</th>\n",
       "      <td>14681.1</td>\n",
       "    </tr>\n",
       "  </tbody>\n",
       "</table>\n",
       "</div>"
      ],
      "text/plain": [
       "                GDP\n",
       "DATE               \n",
       "2009-01-01  14383.9\n",
       "2009-04-01  14340.4\n",
       "2009-07-01  14384.1\n",
       "2009-10-01  14566.5\n",
       "2010-01-01  14681.1"
      ]
     },
     "execution_count": 26,
     "metadata": {},
     "output_type": "execute_result"
    }
   ],
   "source": [
    "gdp = data.DataReader(\"GDP\", \"fred\", start, end)\n",
    "gdp.head()"
   ]
  },
  {
   "cell_type": "code",
   "execution_count": 27,
   "metadata": {
    "collapsed": false
   },
   "outputs": [
    {
     "data": {
      "text/html": [
       "<div>\n",
       "<table border=\"1\" class=\"dataframe\">\n",
       "  <thead>\n",
       "    <tr style=\"text-align: right;\">\n",
       "      <th></th>\n",
       "      <th>Cnsmr</th>\n",
       "      <th>Manuf</th>\n",
       "      <th>HiTec</th>\n",
       "      <th>Hlth</th>\n",
       "      <th>Other</th>\n",
       "    </tr>\n",
       "    <tr>\n",
       "      <th>Date</th>\n",
       "      <th></th>\n",
       "      <th></th>\n",
       "      <th></th>\n",
       "      <th></th>\n",
       "      <th></th>\n",
       "    </tr>\n",
       "  </thead>\n",
       "  <tbody>\n",
       "    <tr>\n",
       "      <th>2010-01</th>\n",
       "      <td>-1.95</td>\n",
       "      <td>-4.02</td>\n",
       "      <td>-7.59</td>\n",
       "      <td>0.00</td>\n",
       "      <td>-1.67</td>\n",
       "    </tr>\n",
       "    <tr>\n",
       "      <th>2010-02</th>\n",
       "      <td>3.90</td>\n",
       "      <td>3.23</td>\n",
       "      <td>4.34</td>\n",
       "      <td>0.37</td>\n",
       "      <td>3.38</td>\n",
       "    </tr>\n",
       "    <tr>\n",
       "      <th>2010-03</th>\n",
       "      <td>6.35</td>\n",
       "      <td>4.74</td>\n",
       "      <td>6.86</td>\n",
       "      <td>3.61</td>\n",
       "      <td>8.42</td>\n",
       "    </tr>\n",
       "    <tr>\n",
       "      <th>2010-04</th>\n",
       "      <td>1.52</td>\n",
       "      <td>3.31</td>\n",
       "      <td>2.45</td>\n",
       "      <td>-2.23</td>\n",
       "      <td>2.16</td>\n",
       "    </tr>\n",
       "    <tr>\n",
       "      <th>2010-05</th>\n",
       "      <td>-5.70</td>\n",
       "      <td>-8.88</td>\n",
       "      <td>-7.27</td>\n",
       "      <td>-8.01</td>\n",
       "      <td>-8.83</td>\n",
       "    </tr>\n",
       "  </tbody>\n",
       "</table>\n",
       "</div>"
      ],
      "text/plain": [
       "         Cnsmr  Manuf  HiTec  Hlth   Other\n",
       "Date                                      \n",
       "2010-01  -1.95  -4.02  -7.59   0.00  -1.67\n",
       "2010-02   3.90   3.23   4.34   0.37   3.38\n",
       "2010-03   6.35   4.74   6.86   3.61   8.42\n",
       "2010-04   1.52   3.31   2.45  -2.23   2.16\n",
       "2010-05  -5.70  -8.88  -7.27  -8.01  -8.83"
      ]
     },
     "execution_count": 27,
     "metadata": {},
     "output_type": "execute_result"
    }
   ],
   "source": [
    "ip = data.DataReader(\"5_Industry_Portfolios\", \"famafrench\")\n",
    "ip[0].head()"
   ]
  },
  {
   "cell_type": "code",
   "execution_count": null,
   "metadata": {
    "collapsed": true
   },
   "outputs": [],
   "source": []
  }
 ],
 "metadata": {
  "kernelspec": {
   "display_name": "Python 2",
   "language": "python",
   "name": "python2"
  },
  "language_info": {
   "codemirror_mode": {
    "name": "ipython",
    "version": 2
   },
   "file_extension": ".py",
   "mimetype": "text/x-python",
   "name": "python",
   "nbconvert_exporter": "python",
   "pygments_lexer": "ipython2",
   "version": "2.7.11"
  }
 },
 "nbformat": 4,
 "nbformat_minor": 0
}
