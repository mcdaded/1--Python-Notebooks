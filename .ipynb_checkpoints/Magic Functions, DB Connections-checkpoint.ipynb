{
 "cells": [
  {
   "cell_type": "markdown",
   "metadata": {},
   "source": [
    "# Crazy imports"
   ]
  },
  {
   "cell_type": "code",
   "execution_count": 5,
   "metadata": {
    "collapsed": true
   },
   "outputs": [],
   "source": [
    "import pandas as pd\n",
    "import numpy as np\n",
    "import os\n",
    "import sys\n",
    "import re\n",
    "import traceback\n",
    "from sqlalchemy import create_engine, text\n",
    "\n",
    "from IPython.core.pylabtools import figsize\n",
    "from matplotlib import pyplot as plt\n",
    "%matplotlib inline\n",
    "figsize(11, 9)\n",
    "\n",
    "pd.set_option('display.max_rows', 500)\n",
    "pd.set_option('display.max_columns', 500)\n",
    "pd.set_option('precision', 5)\n",
    "pd.set_option('display.float_format', lambda x: '%.5f' % x)\n",
    "pd.set_option('display.max_colwidth', 500) # http://pandas.pydata.org/pandas-docs/stable/generated/pandas.set_option.html"
   ]
  },
  {
   "cell_type": "code",
   "execution_count": null,
   "metadata": {
    "collapsed": true
   },
   "outputs": [],
   "source": [
    "# run import from reference script (pandas, numpy, ect)\n",
    "import sys\n",
    "sys.path.append('C:\\\\Users\\\\dmcdade\\\\Documents\\\\Python Scripts\\\\references')\n",
    "from base_import import *\n",
    "\n",
    "import matplotlib.pyplot as plt\n",
    "%matplotlib inline\n",
    "\n",
    "from pandasql import *\n",
    "def pysqldf(q):\n",
    "    return sqldf(q, globals())"
   ]
  },
  {
   "cell_type": "code",
   "execution_count": null,
   "metadata": {
    "collapsed": true
   },
   "outputs": [],
   "source": [
    "# general notebook reference\n",
    "# https://blog.dominodatalab.com/lesser-known-ways-of-using-notebooks/\n",
    "\n",
    "# rpy2 / rmagics\n",
    "# http://rpy.sourceforge.net/rpy2/doc-2.4/html/interactive.html\n",
    "\n",
    "# sql\n",
    "# https://github.com/catherinedevlin/ipython-sql\n",
    "\n",
    "# timing/profiling code\n",
    "# http://pynash.org/2013/03/06/timing-and-profiling/"
   ]
  },
  {
   "cell_type": "markdown",
   "metadata": {},
   "source": [
    "## recreating some of the general notebook magic"
   ]
  },
  {
   "cell_type": "code",
   "execution_count": 5,
   "metadata": {
    "collapsed": false
   },
   "outputs": [
    {
     "name": "stdout",
     "output_type": "stream",
     "text": [
      "a\n",
      "b\n",
      "c\n"
     ]
    }
   ],
   "source": [
    "%%bash\n",
    "for i in a b c;\n",
    "do\n",
    "echo $i\n",
    "done"
   ]
  },
  {
   "cell_type": "markdown",
   "metadata": {},
   "source": [
    "## SQL"
   ]
  },
  {
   "cell_type": "code",
   "execution_count": 6,
   "metadata": {
    "collapsed": false
   },
   "outputs": [
    {
     "name": "stderr",
     "output_type": "stream",
     "text": [
      "C:\\Users\\dmcdade\\AppData\\Local\\Continuum\\Anaconda\\lib\\site-packages\\IPython\\config.py:13: ShimWarning: The `IPython.config` package has been deprecated. You should import from traitlets.config instead.\n",
      "  \"You should import from traitlets.config instead.\", ShimWarning)\n",
      "C:\\Users\\dmcdade\\AppData\\Local\\Continuum\\Anaconda\\lib\\site-packages\\IPython\\utils\\traitlets.py:5: UserWarning: IPython.utils.traitlets has moved to a top-level traitlets package.\n",
      "  warn(\"IPython.utils.traitlets has moved to a top-level traitlets package.\")\n"
     ]
    }
   ],
   "source": [
    "%load_ext sql"
   ]
  },
  {
   "cell_type": "code",
   "execution_count": 27,
   "metadata": {
    "collapsed": false,
    "scrolled": true
   },
   "outputs": [
    {
     "data": {
      "text/plain": [
       "u'Connected: root@insightsquared'"
      ]
     },
     "execution_count": 27,
     "metadata": {},
     "output_type": "execute_result"
    }
   ],
   "source": [
    "%sql mysql+pymysql://root:@localhost/insightsquared"
   ]
  },
  {
   "cell_type": "code",
   "execution_count": null,
   "metadata": {
    "collapsed": true
   },
   "outputs": [],
   "source": [
    "%sql sqlite:///"
   ]
  },
  {
   "cell_type": "code",
   "execution_count": 28,
   "metadata": {
    "collapsed": false
   },
   "outputs": [
    {
     "name": "stdout",
     "output_type": "stream",
     "text": [
      "216676 rows affected.\n"
     ]
    }
   ],
   "source": [
    "ischema = %sql SELECT table_name FROM information_schema.tables"
   ]
  },
  {
   "cell_type": "code",
   "execution_count": 31,
   "metadata": {
    "collapsed": false
   },
   "outputs": [],
   "source": [
    "ischema_df = ischema.DataFrame()"
   ]
  },
  {
   "cell_type": "code",
   "execution_count": 32,
   "metadata": {
    "collapsed": false
   },
   "outputs": [
    {
     "data": {
      "text/html": [
       "<div>\n",
       "<table border=\"1\" class=\"dataframe\">\n",
       "  <thead>\n",
       "    <tr style=\"text-align: right;\">\n",
       "      <th></th>\n",
       "      <th>table_name</th>\n",
       "    </tr>\n",
       "  </thead>\n",
       "  <tbody>\n",
       "    <tr>\n",
       "      <th>0</th>\n",
       "      <td>CHARACTER_SETS</td>\n",
       "    </tr>\n",
       "    <tr>\n",
       "      <th>1</th>\n",
       "      <td>CLIENT_STATISTICS</td>\n",
       "    </tr>\n",
       "    <tr>\n",
       "      <th>2</th>\n",
       "      <td>COLLATIONS</td>\n",
       "    </tr>\n",
       "    <tr>\n",
       "      <th>3</th>\n",
       "      <td>COLLATION_CHARACTER_SET_APPLICABILITY</td>\n",
       "    </tr>\n",
       "    <tr>\n",
       "      <th>4</th>\n",
       "      <td>COLUMNS</td>\n",
       "    </tr>\n",
       "  </tbody>\n",
       "</table>\n",
       "</div>"
      ],
      "text/plain": [
       "                              table_name\n",
       "0                         CHARACTER_SETS\n",
       "1                      CLIENT_STATISTICS\n",
       "2                             COLLATIONS\n",
       "3  COLLATION_CHARACTER_SET_APPLICABILITY\n",
       "4                                COLUMNS"
      ]
     },
     "execution_count": 32,
     "metadata": {},
     "output_type": "execute_result"
    }
   ],
   "source": [
    "ischema_df.head()"
   ]
  },
  {
   "cell_type": "markdown",
   "metadata": {},
   "source": [
    "## R"
   ]
  },
  {
   "cell_type": "code",
   "execution_count": null,
   "metadata": {
    "collapsed": true
   },
   "outputs": [],
   "source": [
    "# pip install ipython==4.2.0"
   ]
  },
  {
   "cell_type": "code",
   "execution_count": 1,
   "metadata": {
    "collapsed": false
   },
   "outputs": [],
   "source": [
    "%load_ext rpy2.ipython"
   ]
  },
  {
   "cell_type": "code",
   "execution_count": 2,
   "metadata": {
    "collapsed": false
   },
   "outputs": [
    {
     "data": {
      "text/plain": [
       "array([ 4.25])"
      ]
     },
     "execution_count": 2,
     "metadata": {},
     "output_type": "execute_result"
    }
   ],
   "source": [
    "%R X=c(1,4,5,7); sd(X); mean(X)"
   ]
  },
  {
   "cell_type": "code",
   "execution_count": 3,
   "metadata": {
    "collapsed": true
   },
   "outputs": [],
   "source": [
    "%%R\n",
    "\n",
    "X <- runif(10)\n",
    "Y <- runif(10)"
   ]
  },
  {
   "cell_type": "code",
   "execution_count": 10,
   "metadata": {
    "collapsed": false
   },
   "outputs": [
    {
     "data": {
      "image/png": "[encoded data removed]"
     },
     "metadata": {},
     "output_type": "display_data"
    }
   ],
   "source": [
    "%R plot(X, Y)"
   ]
  },
  {
   "cell_type": "code",
   "execution_count": 7,
   "metadata": {
    "collapsed": false
   },
   "outputs": [
    {
     "name": "stdout",
     "output_type": "stream",
     "text": [
      "[-0.63322497  2.03816464  0.45548225 -0.40362594  0.40037758]\n",
      "0.371434712001\n"
     ]
    }
   ],
   "source": [
    "X2 = np.random.randn(5)\n",
    "print X2\n",
    "print X2.mean()"
   ]
  },
  {
   "cell_type": "code",
   "execution_count": 8,
   "metadata": {
    "collapsed": false
   },
   "outputs": [
    {
     "data": {
      "text/plain": [
       "array([ 0.37143471])"
      ]
     },
     "execution_count": 8,
     "metadata": {},
     "output_type": "execute_result"
    }
   ],
   "source": [
    "%Rpush X2\n",
    "%Rpull X\n",
    "%R mean(X2)"
   ]
  },
  {
   "cell_type": "code",
   "execution_count": 11,
   "metadata": {
    "collapsed": false
   },
   "outputs": [
    {
     "data": {
      "text/plain": [
       "array([ 0.98087153,  0.91296205,  0.45708192,  0.33398596,  0.60396844,\n",
       "        0.68352971,  0.3421952 ,  0.90116527,  0.07013715,  0.40145962])"
      ]
     },
     "execution_count": 11,
     "metadata": {},
     "output_type": "execute_result"
    }
   ],
   "source": [
    "X"
   ]
  },
  {
   "cell_type": "code",
   "execution_count": 12,
   "metadata": {
    "collapsed": false
   },
   "outputs": [
    {
     "data": {
      "text/plain": [
       "{'ALLUSERSPROFILE': 'C:\\\\ProgramData',\n",
       " 'ANACONDA': 'C:\\\\Users\\\\dmcdade\\\\AppData\\\\Local\\\\Continuum\\\\Anaconda',\n",
       " 'ANACONDA_ENVS': 'C:\\\\Users\\\\dmcdade\\\\AppData\\\\Local\\\\Continuum\\\\Anaconda\\\\envs',\n",
       " 'ANACONDA_SCRIPTS': 'C:\\\\Users\\\\dmcdade\\\\AppData\\\\Local\\\\Continuum\\\\Anaconda\\\\Scripts',\n",
       " 'APPDATA': 'C:\\\\Users\\\\dmcdade\\\\AppData\\\\Roaming',\n",
       " 'CLICOLOR': '1',\n",
       " 'COMMONPROGRAMFILES': 'C:\\\\Program Files\\\\Common Files',\n",
       " 'COMMONPROGRAMFILES(X86)': 'C:\\\\Program Files (x86)\\\\Common Files',\n",
       " 'COMMONPROGRAMW6432': 'C:\\\\Program Files\\\\Common Files',\n",
       " 'COMMPATH': 'C:\\\\Program Files\\\\Lenovo\\\\Communications Utility',\n",
       " 'COMPUTERNAME': 'LAP-DMCDADE',\n",
       " 'COMSPEC': 'C:\\\\WINDOWS\\\\system32\\\\cmd.exe',\n",
       " 'CONFIGSETROOT': 'C:\\\\WINDOWS\\\\ConfigSetRoot',\n",
       " 'CYGWIN': 'tty',\n",
       " 'DOCKER_TOOLBOX_INSTALL_PATH': 'C:\\\\Program Files\\\\Docker Toolbox',\n",
       " 'EASYPLUSSDK': '\"C:\\\\Program Files (x86)\\\\Common Files\\\\lenovo\\\\easyplussdk\\\\bin\"',\n",
       " 'FP_NO_HOST_CHECK': 'NO',\n",
       " 'GDAL_DATA': 'C:\\\\Program Files (x86)\\\\PostgreSQL\\\\9.4\\\\gdal-data',\n",
       " 'GIT_PAGER': 'cat',\n",
       " 'HOMEDRIVE': 'C:',\n",
       " 'HOMEPATH': '\\\\Users\\\\dmcdade',\n",
       " 'IPY_INTERRUPT_EVENT': '1596',\n",
       " 'JPY_INTERRUPT_EVENT': '1596',\n",
       " 'JPY_PARENT_PID': '1600',\n",
       " 'LOCALAPPDATA': 'C:\\\\Users\\\\dmcdade\\\\AppData\\\\Local',\n",
       " 'LOGONSERVER': '\\\\\\\\SER-ACTDIR',\n",
       " 'NUMBER_OF_PROCESSORS': '4',\n",
       " 'OPENSSL_CONF': 'C:\\\\Program Files (x86)\\\\PostgreSQL\\\\psqlODBC\\\\0903\\\\etc\\\\openssl.cnf',\n",
       " 'OS': 'Windows_NT',\n",
       " 'PAGER': 'cat',\n",
       " 'PATH': 'C:\\\\Users\\\\dmcdade\\\\AppData\\\\Local\\\\Continuum\\\\Anaconda\\\\Library\\\\bin;C:\\\\Users\\\\dmcdade\\\\AppData\\\\Local\\\\Continuum\\\\Anaconda\\\\Library\\\\bin;C:\\\\Users\\\\dmcdade\\\\AppData\\\\Local\\\\Continuum\\\\Anaconda\\\\Library\\\\bin;C:\\\\Users\\\\dmcdade\\\\AppData\\\\Local\\\\Continuum\\\\Anaconda;C:\\\\Users\\\\dmcdade\\\\AppData\\\\Local\\\\Continuum\\\\Anaconda\\\\Scripts;C:\\\\Program Files (x86)\\\\OpenSSH\\\\bin;C:\\\\Users\\\\dmcdade\\\\AppData\\\\Local\\\\Continuum\\\\Anaconda;C:\\\\Users\\\\dmcdade\\\\AppData\\\\Local\\\\Continuum\\\\Anaconda\\\\Scripts;C:\\\\Users\\\\dmcdade\\\\AppData\\\\Local\\\\Continuum\\\\Anaconda3;C:\\\\Users\\\\dmcdade\\\\AppData\\\\Local\\\\Continuum\\\\Anaconda3\\\\Scripts;C:\\\\Users\\\\dmcdade\\\\AppData\\\\Local\\\\Continuum\\\\Anaconda3\\\\Library\\\\bin;C:\\\\Program Files (x86)\\\\Graphviz2.38\\\\bin;C:\\\\Program Files\\\\Docker Toolbox;C:\\\\Users\\\\dmcdade\\\\AppData\\\\Local\\\\Pandoc\\\\;C:\\\\Program Files (x86)\\\\OpenVPN\\\\bin;C:\\\\Users\\\\dmcdade\\\\AppData\\\\Local\\\\atom\\\\bin;C:\\\\Program Files (x86)\\\\Microsoft Web Driver\\\\MicrosoftWebDriver.exe;C:\\\\Users\\\\dmcdade\\\\AppData\\\\Local\\\\Box\\\\Box Edit\\\\;C:\\\\Program Files\\\\R\\\\R-3.3.1\\\\bin\\\\x64;C:\\\\Program Files\\\\R\\\\R-3.3.1\\\\bin\\\\x64;C:\\\\Program Files\\\\R\\\\R-3.3.1\\\\modules\\\\x64;C:\\\\Program Files\\\\R\\\\R-3.3.1\\\\lib',\n",
       " 'PATHEXT': '.COM;.EXE;.BAT;.CMD;.VBS;.VBE;.JS;.JSE;.WSF;.WSH;.MSC;.PY',\n",
       " 'POSTGIS_ENABLE_OUTDB_RASTERS': '1',\n",
       " 'POSTGIS_GDAL_ENABLED_DRIVERS': 'GTiff PNG JPEG GIF XYZ DTED USGSDEM AAIGrid',\n",
       " 'PROCESSOR_ARCHITECTURE': 'AMD64',\n",
       " 'PROCESSOR_IDENTIFIER': 'Intel64 Family 6 Model 61 Stepping 4, GenuineIntel',\n",
       " 'PROCESSOR_LEVEL': '6',\n",
       " 'PROCESSOR_REVISION': '3d04',\n",
       " 'PROGRAMDATA': 'C:\\\\ProgramData',\n",
       " 'PROGRAMFILES': 'C:\\\\Program Files',\n",
       " 'PROGRAMFILES(X86)': 'C:\\\\Program Files (x86)',\n",
       " 'PROGRAMW6432': 'C:\\\\Program Files',\n",
       " 'PROMPT': '$P$G',\n",
       " 'PSMODULEPATH': 'C:\\\\WINDOWS\\\\system32\\\\WindowsPowerShell\\\\v1.0\\\\Modules\\\\',\n",
       " 'PUBLIC': 'C:\\\\Users\\\\Public',\n",
       " 'READYAPPS': 'C:\\\\ProgramData\\\\Lenovo\\\\ReadyApps',\n",
       " 'R_HOME': 'C:\\\\Program Files\\\\R\\\\R-3.3.1',\n",
       " 'R_USER': 'C:\\\\Users\\\\dmcdade',\n",
       " 'SESSIONNAME': 'Console',\n",
       " 'SWSHARE': 'C:\\\\SWSHARE',\n",
       " 'SYSTEMDRIVE': 'C:',\n",
       " 'SYSTEMROOT': 'C:\\\\WINDOWS',\n",
       " 'TCL_LIBRARY': 'C:\\\\Users\\\\dmcdade\\\\AppData\\\\Local\\\\Continuum\\\\Anaconda\\\\tcl\\\\tcl8.5',\n",
       " 'TEMP': 'C:\\\\Users\\\\dmcdade\\\\AppData\\\\Local\\\\Temp',\n",
       " 'TERM': 'xterm-color',\n",
       " 'THEANO_FLAGS': 'floatX=float32,device=cpu,blas.ldflags=',\n",
       " 'TIX_LIBRARY': 'C:\\\\Users\\\\dmcdade\\\\AppData\\\\Local\\\\Continuum\\\\Anaconda\\\\tcl\\\\tix8.4.3',\n",
       " 'TK_LIBRARY': 'C:\\\\Users\\\\dmcdade\\\\AppData\\\\Local\\\\Continuum\\\\Anaconda\\\\tcl\\\\tk8.5',\n",
       " 'TMP': 'C:\\\\Users\\\\dmcdade\\\\AppData\\\\Local\\\\Temp',\n",
       " 'TVT': 'C:\\\\Program Files (x86)\\\\Lenovo',\n",
       " 'TVTCOMMON': 'C:\\\\Program Files (x86)\\\\Common Files\\\\Lenovo',\n",
       " 'USERDNSDOMAIN': 'BOS.INSIGHTSQUARED.COM',\n",
       " 'USERDOMAIN': 'BOS',\n",
       " 'USERDOMAIN_ROAMINGPROFILE': 'BOS',\n",
       " 'USERNAME': 'dmcdade',\n",
       " 'USERPROFILE': 'C:\\\\Users\\\\dmcdade',\n",
       " 'VBOX_MSI_INSTALL_PATH': 'C:\\\\Program Files\\\\Oracle\\\\VirtualBox\\\\',\n",
       " 'VS140COMNTOOLS': 'C:\\\\Program Files (x86)\\\\Microsoft Visual Studio 14.0\\\\Common7\\\\Tools\\\\',\n",
       " 'WINDIR': 'C:\\\\WINDOWS',\n",
       " 'WINDOWS_TRACING_FLAGS': '3',\n",
       " 'WINDOWS_TRACING_LOGFILE': 'C:\\\\BVTBin\\\\Tests\\\\installpackage\\\\csilogfile.log'}"
      ]
     },
     "execution_count": 12,
     "metadata": {},
     "output_type": "execute_result"
    }
   ],
   "source": [
    "%env"
   ]
  },
  {
   "cell_type": "code",
   "execution_count": null,
   "metadata": {
    "collapsed": true
   },
   "outputs": [],
   "source": [
    "# start up a python consol in the same location"
   ]
  },
  {
   "cell_type": "code",
   "execution_count": null,
   "metadata": {
    "collapsed": true
   },
   "outputs": [],
   "source": [
    "%qtconsole"
   ]
  },
  {
   "cell_type": "code",
   "execution_count": 13,
   "metadata": {
    "collapsed": false
   },
   "outputs": [
    {
     "data": {
      "application/json": {
       "cell": {
        "!": "OSMagics",
        "HTML": "Other",
        "R": "RMagics",
        "SVG": "Other",
        "bash": "Other",
        "capture": "ExecutionMagics",
        "cmd": "Other",
        "debug": "ExecutionMagics",
        "file": "Other",
        "html": "DisplayMagics",
        "javascript": "DisplayMagics",
        "latex": "DisplayMagics",
        "perl": "Other",
        "prun": "ExecutionMagics",
        "pypy": "Other",
        "python": "Other",
        "python2": "Other",
        "python3": "Other",
        "ruby": "Other",
        "script": "ScriptMagics",
        "sh": "Other",
        "sql": "SqlMagic",
        "svg": "DisplayMagics",
        "sx": "OSMagics",
        "system": "OSMagics",
        "time": "ExecutionMagics",
        "timeit": "ExecutionMagics",
        "writefile": "OSMagics"
       },
       "line": {
        "R": "RMagics",
        "Rdevice": "RMagics",
        "Rget": "RMagics",
        "Rpull": "RMagics",
        "Rpush": "RMagics",
        "alias": "OSMagics",
        "alias_magic": "BasicMagics",
        "autocall": "AutoMagics",
        "automagic": "AutoMagics",
        "autosave": "KernelMagics",
        "bookmark": "OSMagics",
        "cd": "OSMagics",
        "clear": "KernelMagics",
        "cls": "KernelMagics",
        "colors": "BasicMagics",
        "config": "ConfigMagics",
        "connect_info": "KernelMagics",
        "copy": "Other",
        "ddir": "Other",
        "debug": "ExecutionMagics",
        "dhist": "OSMagics",
        "dirs": "OSMagics",
        "doctest_mode": "BasicMagics",
        "echo": "Other",
        "ed": "Other",
        "edit": "KernelMagics",
        "env": "OSMagics",
        "gui": "BasicMagics",
        "hist": "Other",
        "history": "HistoryMagics",
        "install_default_config": "DeprecatedMagics",
        "install_ext": "ExtensionMagics",
        "install_profiles": "DeprecatedMagics",
        "killbgscripts": "ScriptMagics",
        "ldir": "Other",
        "less": "KernelMagics",
        "load": "CodeMagics",
        "load_ext": "ExtensionMagics",
        "loadpy": "CodeMagics",
        "logoff": "LoggingMagics",
        "logon": "LoggingMagics",
        "logstart": "LoggingMagics",
        "logstate": "LoggingMagics",
        "logstop": "LoggingMagics",
        "ls": "Other",
        "lsmagic": "BasicMagics",
        "macro": "ExecutionMagics",
        "magic": "BasicMagics",
        "matplotlib": "PylabMagics",
        "mkdir": "Other",
        "more": "KernelMagics",
        "notebook": "BasicMagics",
        "page": "BasicMagics",
        "pastebin": "CodeMagics",
        "pdb": "ExecutionMagics",
        "pdef": "NamespaceMagics",
        "pdoc": "NamespaceMagics",
        "pfile": "NamespaceMagics",
        "pinfo": "NamespaceMagics",
        "pinfo2": "NamespaceMagics",
        "popd": "OSMagics",
        "pprint": "BasicMagics",
        "precision": "BasicMagics",
        "profile": "BasicMagics",
        "prun": "ExecutionMagics",
        "psearch": "NamespaceMagics",
        "psource": "NamespaceMagics",
        "pushd": "OSMagics",
        "pwd": "OSMagics",
        "pycat": "OSMagics",
        "pylab": "PylabMagics",
        "qtconsole": "KernelMagics",
        "quickref": "BasicMagics",
        "recall": "HistoryMagics",
        "rehashx": "OSMagics",
        "reload_ext": "ExtensionMagics",
        "ren": "Other",
        "rep": "Other",
        "rerun": "HistoryMagics",
        "reset": "NamespaceMagics",
        "reset_selective": "NamespaceMagics",
        "rmdir": "Other",
        "run": "ExecutionMagics",
        "save": "CodeMagics",
        "sc": "OSMagics",
        "set_env": "OSMagics",
        "sql": "SqlMagic",
        "store": "StoreMagics",
        "sx": "OSMagics",
        "system": "OSMagics",
        "tb": "ExecutionMagics",
        "time": "ExecutionMagics",
        "timeit": "ExecutionMagics",
        "unalias": "OSMagics",
        "unload_ext": "ExtensionMagics",
        "who": "NamespaceMagics",
        "who_ls": "NamespaceMagics",
        "whos": "NamespaceMagics",
        "xdel": "NamespaceMagics",
        "xmode": "BasicMagics"
       }
      },
      "text/plain": [
       "Available line magics:\n",
       "%R  %Rdevice  %Rget  %Rpull  %Rpush  %alias  %alias_magic  %autocall  %automagic  %autosave  %bookmark  %cd  %clear  %cls  %colors  %config  %connect_info  %copy  %ddir  %debug  %dhist  %dirs  %doctest_mode  %echo  %ed  %edit  %env  %gui  %hist  %history  %install_default_config  %install_ext  %install_profiles  %killbgscripts  %ldir  %less  %load  %load_ext  %loadpy  %logoff  %logon  %logstart  %logstate  %logstop  %ls  %lsmagic  %macro  %magic  %matplotlib  %mkdir  %more  %notebook  %page  %pastebin  %pdb  %pdef  %pdoc  %pfile  %pinfo  %pinfo2  %popd  %pprint  %precision  %profile  %prun  %psearch  %psource  %pushd  %pwd  %pycat  %pylab  %qtconsole  %quickref  %recall  %rehashx  %reload_ext  %ren  %rep  %rerun  %reset  %reset_selective  %rmdir  %run  %save  %sc  %set_env  %sql  %store  %sx  %system  %tb  %time  %timeit  %unalias  %unload_ext  %who  %who_ls  %whos  %xdel  %xmode\n",
       "\n",
       "Available cell magics:\n",
       "%%!  %%HTML  %%R  %%SVG  %%bash  %%capture  %%cmd  %%debug  %%file  %%html  %%javascript  %%latex  %%perl  %%prun  %%pypy  %%python  %%python2  %%python3  %%ruby  %%script  %%sh  %%sql  %%svg  %%sx  %%system  %%time  %%timeit  %%writefile\n",
       "\n",
       "Automagic is ON, % prefix IS NOT needed for line magics."
      ]
     },
     "execution_count": 13,
     "metadata": {},
     "output_type": "execute_result"
    }
   ],
   "source": [
    "%lsmagic"
   ]
  },
  {
   "cell_type": "markdown",
   "metadata": {},
   "source": [
    "## Shell commands"
   ]
  },
  {
   "cell_type": "code",
   "execution_count": 14,
   "metadata": {
    "collapsed": false
   },
   "outputs": [
    {
     "name": "stdout",
     "output_type": "stream",
     "text": [
      " Volume in drive C is Windows7_OS\n",
      " Volume Serial Number is F06C-A741\n",
      "\n",
      " Directory of C:\\Users\\dmcdade\\Documents\\Python Scripts\n",
      "\n",
      "07/27/2016  02:20 PM    <DIR>          .\n",
      "07/27/2016  02:20 PM    <DIR>          ..\n",
      "07/27/2016  02:15 PM    <DIR>          .ipynb_checkpoints\n",
      "02/08/2016  04:22 PM    <DIR>          1) data\n",
      "01/25/2016  10:57 AM    <DIR>          100) github scripts\n",
      "10/29/2015  03:00 PM    <DIR>          2) Sprints\n",
      "11/16/2015  12:21 PM    <DIR>          99) additional libraries\n",
      "08/13/2015  08:58 AM            47,481 Account ARR Distribution.ipynb\n",
      "05/25/2016  02:34 PM    <DIR>          Account Based Marketing 2016-05-24\n",
      "01/14/2016  04:56 PM    <DIR>          Ad Hoc\n",
      "07/18/2016  04:39 PM    <DIR>          Ad_Hoc_2\n",
      "07/27/2016  01:07 PM    <DIR>          Ad_Hoc_Jeremy\n",
      "06/23/2016  09:39 AM    <DIR>          archive\n",
      "03/21/2016  07:12 PM    <DIR>          Benchmarking - 2015-12-04\n",
      "04/19/2016  06:06 PM    <DIR>          Benchmarking Automated Report - 2015-10-05\n",
      "05/19/2016  03:48 PM    <DIR>          Benchmarking Performance with Funding - 2016-05-19\n",
      "06/20/2016  07:16 PM    <DIR>          Benchmarking Sales Talking Points - 20160224\n",
      "08/10/2015  04:16 PM             4,090 Bing Linked In Searcher.py\n",
      "03/15/2016  08:15 AM    <DIR>          CCHS (Comprehesive Client Health Score) - 2016-01-11\n",
      "07/26/2016  11:48 AM    <DIR>          CDI Settings and Config - 2016-04-20\n",
      "09/02/2015  12:58 PM             9,155 Closed Lost and Closed Won Accounts 2015-09-01.ipynb\n",
      "09/01/2015  11:40 AM            85,201 Closed Won & Closed Lost Upsells 2015-09-01.csv\n",
      "02/08/2016  07:14 PM    <DIR>          Configuration Data\n",
      "06/21/2016  12:58 PM    <DIR>          CS Metrics 2015-12-14\n",
      "07/20/2016  09:14 AM    <DIR>          CSM Pricing Assessment - 2016-07-19\n",
      "05/04/2016  09:20 AM    <DIR>          CSM Usage and Engagement Report - 2016-01-22\n",
      "09/28/2015  04:00 PM    <DIR>          Custom Salesforce Object - Project The Fast and The Furious 2015-09-08\n",
      "08/28/2015  03:36 PM    <DIR>          Customer Personas Project - 2015-08-05\n",
      "06/28/2016  09:04 AM            93,650 customers_info.csv\n",
      "07/13/2016  10:26 AM    <DIR>          DataSync - 2016-02-04\n",
      "09/04/2015  08:21 AM             1,539 dtree2.dot\n",
      "08/07/2015  01:37 PM               440 environment setup.txt\n",
      "09/02/2015  01:11 PM            40,842 Gone Contacts (final) 2015-09-02.csv\n",
      "09/02/2015  01:11 PM            24,380 Gone Contacts.ipynb\n",
      "07/27/2016  02:20 PM            26,396 Magic Functions, DB Connections.ipynb\n",
      "05/25/2016  06:33 PM    <DIR>          Marketing\n",
      "07/26/2016  03:51 PM    <DIR>          Markit Subgoals New 2016-07-25\n",
      "04/21/2016  09:24 AM    <DIR>          Markit Usage Tracking - 2016-01-29\n",
      "02/01/2016  02:28 PM    <DIR>          MarkitGoals - 2016-01-20\n",
      "05/03/2016  01:21 PM    <DIR>          networkfleet_usage_tracking\n",
      "03/22/2016  04:25 PM    <DIR>          Newmarkit Usage Tracking - 2016-03-22\n",
      "06/27/2016  03:25 PM    <DIR>          Opportunity Pipeline Model - 2016-06-23\n",
      "04/29/2016  09:01 AM    <DIR>          Opportunity Scrubbing - 2016-04-22\n",
      "06/21/2016  04:36 PM            24,940 opp_owner_cnts.csv\n",
      "06/21/2016  02:58 PM        15,694,103 pricing_details.xlsx\n",
      "11/05/2015  02:20 PM             2,682 primary_environment.txt\n",
      "11/05/2015  02:19 PM             2,682 primary_environment.yml\n",
      "04/28/2016  08:42 AM    <DIR>          QBR - 2016-04-28\n",
      "07/27/2016  02:12 PM            16,207 Reference Magic Functions, DB Connections.ipynb\n",
      "06/15/2016  06:01 PM    <DIR>          references\n",
      "04/28/2016  10:57 AM    <DIR>          Renewal Forecast Report\n",
      "01/08/2016  02:08 PM    <DIR>          Renewal Model - 2016-01-04\n",
      "12/08/2015  09:37 AM    <DIR>          Renewal Onboarding Analysis - Compuware (JK 2015-11-17)\n",
      "01/05/2016  06:56 PM    <DIR>          Renewal Onboarding Report - Project Back To The Future 2015-08-24\n",
      "01/05/2016  08:09 PM    <DIR>          Renewals Metrics - Project Reservoir Dogs - 2015-08-05\n",
      "01/21/2016  01:55 PM    <DIR>          Retention Update - 2016-01-18\n",
      "07/11/2016  02:06 PM    <DIR>          Sales\n",
      "07/06/2016  09:07 AM    <DIR>          Salesforce Account Module Update Automation\n",
      "12/04/2015  02:54 PM    <DIR>          Salesforce Instance Classification\n",
      "10/29/2015  08:47 AM             2,727 SalesforceDataPullMRR.py\n",
      "06/21/2016  04:53 PM           246,569 screens_enabled_pvt.csv\n",
      "09/11/2015  11:19 AM    <DIR>          Skilljar\n",
      "07/27/2016  12:55 PM            46,409 ssh tunnel ref.ipynb\n",
      "07/26/2016  05:21 PM               954 ssh_tunnel_ref\n",
      "07/26/2016  05:25 PM               954 ssh_tunnel_ref.py\n",
      "06/17/2016  04:36 PM    <DIR>          Territory Assignment Automation - 2016-05-17\n",
      "09/03/2015  02:18 PM             1,505 tree.dot\n",
      "09/04/2015  09:33 AM            56,867 tree2.png\n",
      "09/04/2015  09:07 AM             1,604 tree3.dot\n",
      "09/08/2015  08:54 AM                72 Untitled.ipynb\n",
      "11/11/2015  08:21 PM            15,954 Untitled1.ipynb\n",
      "04/20/2016  03:16 PM                72 Untitled2.ipynb\n",
      "04/14/2016  11:31 AM    <DIR>          Updating Drip (bolt) & Usage Analytics - 2015-11-03\n",
      "01/06/2016  09:46 AM    <DIR>          Usage and Engagement Tracking\n",
      "06/30/2016  08:27 AM    <DIR>          Usage Reporting - Redshift - 2016-06-23\n",
      "04/07/2016  10:24 AM    <DIR>          Usage Tracking Datameer - 2016-04-07\n",
      "04/08/2016  04:26 PM    <DIR>          Usage Tracking Network Fleet - 2016-04-08\n",
      "05/03/2016  03:30 PM    <DIR>          Veracode Usage Tracking - 2016-05-03\n",
      "09/04/2015  09:02 AM           395,787 working.ipynb\n",
      "              27 File(s)     16,843,262 bytes\n",
      "              52 Dir(s)  216,028,983,296 bytes free\n"
     ]
    }
   ],
   "source": [
    "!dir"
   ]
  },
  {
   "cell_type": "code",
   "execution_count": null,
   "metadata": {
    "collapsed": true
   },
   "outputs": [],
   "source": []
  }
 ],
 "metadata": {
  "kernelspec": {
   "display_name": "Python 2",
   "language": "python",
   "name": "python2"
  },
  "language_info": {
   "codemirror_mode": {
    "name": "ipython",
    "version": 2
   },
   "file_extension": ".py",
   "mimetype": "text/x-python",
   "name": "python",
   "nbconvert_exporter": "python",
   "pygments_lexer": "ipython2",
   "version": "2.7.11"
  }
 },
 "nbformat": 4,
 "nbformat_minor": 0
}
