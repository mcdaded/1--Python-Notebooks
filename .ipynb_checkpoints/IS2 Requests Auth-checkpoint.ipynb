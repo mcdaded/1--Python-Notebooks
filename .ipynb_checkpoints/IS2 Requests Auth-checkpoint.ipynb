{
 "cells": [
  {
   "cell_type": "code",
   "execution_count": 1,
   "metadata": {
    "collapsed": true
   },
   "outputs": [],
   "source": [
    "import requests\n",
    "from lxml import html\n",
    "from bs4 import BeautifulSoup\n",
    "import yaml\n",
    "import os\n",
    "import sys"
   ]
  },
  {
   "cell_type": "code",
   "execution_count": 2,
   "metadata": {
    "collapsed": false
   },
   "outputs": [],
   "source": [
    "with open('D:\\\\Documents\\\\data_sources\\\\is2_creds.yml', 'r') as cred_file:\n",
    "    cred = yaml.load(cred_file)\n"
   ]
  },
  {
   "cell_type": "code",
   "execution_count": 3,
   "metadata": {
    "collapsed": false
   },
   "outputs": [],
   "source": [
    "login_payload = {\n",
    "    'id__email': cred['username'],\n",
    "    'id__password': cred['password']\n",
    "}"
   ]
  },
  {
   "cell_type": "code",
   "execution_count": 4,
   "metadata": {
    "collapsed": true
   },
   "outputs": [],
   "source": [
    "def get_token(session, login_url='https://clients.insightsquared.com/login/'):\n",
    "    # get the unique token code\n",
    "    login_resp = session.get(login_url)\n",
    "    token = BeautifulSoup(login_resp.text, 'lxml').find('input', attrs={'name': 'csrfmiddlewaretoken'}).attrs['value'] \n",
    "    return token\n",
    "\n",
    "def get_client(base_page):\n",
    "    client_picker = BeautifulSoup(base_page.text, 'lxml').find('client-picker').attrs['params']\n",
    "    client_yaml = yaml.load(client_picker[16:].replace('}', '') + '}')  # need to deal with crummy string formatting\n",
    "    # client_yaml['abbreviation'], client_yaml['id'], client_yaml['name'], client_yaml['site'] \n",
    "    return client_yaml\n",
    "\n",
    "def login(payload=login_payload):\n",
    "    # begin a web session and visit the IS2 webpage\n",
    "    session = requests.session()\n",
    "    login_url = 'https://clients.insightsquared.com/login/'\n",
    "    token = get_token(session)\n",
    "    payload['csrfmiddlewaretoken'] = token  # append token to payload dict\n",
    "    # get an authenticated session and verity results\n",
    "    login_response = session.post(\n",
    "        login_url, \n",
    "        data=payload, \n",
    "        headers=dict(referer=login_url)\n",
    "    )\n",
    "    # check that the login worked\n",
    "    print BeautifulSoup(login_response.text, 'lxml').find('title')\n",
    "    print get_client(login_response)\n",
    "    return session, token"
   ]
  },
  {
   "cell_type": "code",
   "execution_count": 23,
   "metadata": {
    "collapsed": false
   },
   "outputs": [
    {
     "name": "stdout",
     "output_type": "stream",
     "text": [
      "<title> My Dashboard | InsightSquared</title>\n",
      "{'abbreviation': 'is2dev', 'id': 289, 'name': 'InsightSquared Development', 'site_url': 'https://clients.insightsquared.com/'}\n"
     ]
    }
   ],
   "source": [
    "session, token = login()"
   ]
  },
  {
   "cell_type": "code",
   "execution_count": 24,
   "metadata": {
    "collapsed": false
   },
   "outputs": [
    {
     "data": {
      "text/plain": [
       "'RHkvDPEwzDdoopkamK4ldowN0rA8GGFL'"
      ]
     },
     "execution_count": 24,
     "metadata": {},
     "output_type": "execute_result"
    }
   ],
   "source": [
    "token"
   ]
  },
  {
   "cell_type": "code",
   "execution_count": 25,
   "metadata": {
    "collapsed": true
   },
   "outputs": [],
   "source": [
    "url = 'https://clients.insightsquared.com/settings/tags/Employee/'"
   ]
  },
  {
   "cell_type": "code",
   "execution_count": 26,
   "metadata": {
    "collapsed": false
   },
   "outputs": [],
   "source": [
    "filters_page = session.get(url)"
   ]
  },
  {
   "cell_type": "code",
   "execution_count": 27,
   "metadata": {
    "collapsed": false
   },
   "outputs": [
    {
     "data": {
      "text/plain": [
       "<title> Tag Management | InsightSquared</title>"
      ]
     },
     "execution_count": 27,
     "metadata": {},
     "output_type": "execute_result"
    }
   ],
   "source": [
    "soup = BeautifulSoup(filters_page.text, 'lxml')\n",
    "soup.find('title')"
   ]
  },
  {
   "cell_type": "code",
   "execution_count": null,
   "metadata": {
    "collapsed": true
   },
   "outputs": [],
   "source": [
    "# onclick=\"IS.Tag.newTag()\n",
    "# onsubmit=\"IS.Tag.newTagSubmit()"
   ]
  },
  {
   "cell_type": "code",
   "execution_count": 28,
   "metadata": {
    "collapsed": false
   },
   "outputs": [],
   "source": [
    "payload = {\n",
    "    #'onclick': 'IS.Tag.newTag()',\n",
    "    'new_tag_name': 'NewTestFilter2',\n",
    "    #'onsubmit': 'IS.Tag.newTagSubmit()',\n",
    "    'csrfmiddlewaretoken': token\n",
    "    # 'ui-button ui-widget ui-state-default ui-corner-all ui-button-text-only': 'submit'\n",
    "}"
   ]
  },
  {
   "cell_type": "code",
   "execution_count": 14,
   "metadata": {
    "collapsed": false
   },
   "outputs": [
    {
     "data": {
      "text/plain": [
       "<Response [200]>"
      ]
     },
     "execution_count": 14,
     "metadata": {},
     "output_type": "execute_result"
    }
   ],
   "source": [
    "resp = session.get(\n",
    "    url, \n",
    "    data=payload, \n",
    "    headers=dict(referer=url)\n",
    ")\n",
    "resp"
   ]
  },
  {
   "cell_type": "code",
   "execution_count": null,
   "metadata": {
    "collapsed": true
   },
   "outputs": [],
   "source": []
  },
  {
   "cell_type": "code",
   "execution_count": 15,
   "metadata": {
    "collapsed": false
   },
   "outputs": [
    {
     "data": {
      "text/plain": [
       "<title> Tag Management | InsightSquared</title>"
      ]
     },
     "execution_count": 15,
     "metadata": {},
     "output_type": "execute_result"
    }
   ],
   "source": [
    "soup = BeautifulSoup(resp.text, 'lxml')\n",
    "soup.find('title')"
   ]
  },
  {
   "cell_type": "code",
   "execution_count": null,
   "metadata": {
    "collapsed": true
   },
   "outputs": [],
   "source": []
  },
  {
   "cell_type": "code",
   "execution_count": 16,
   "metadata": {
    "collapsed": false
   },
   "outputs": [
    {
     "data": {
      "text/plain": [
       "[<input autocomplete=\"off\" class=\"search-input\" data-bind=\"hasFocus: search_has_focus\" id=\"search\" placeholder=\"Search\" type=\"text\"/>,\n",
       " <input data-bind=\"textInput: dashboard_name\" maxlength=\"255\"/>,\n",
       " <input autofocus=\"autofocus\" data-bind=\"recipientAutocomplete: recipients, recipientFilter: filter_recipients, recipientSelect: select_shareitem\" id=\"shared_dashboard_person\" name=\"person\" placeholder=\"Employee or Team\" size=\"20\" type=\"text\"/>,\n",
       " <input data-bind=\"checked:set_as_default\" id=\"shared_dashboard_set_default\" name=\"set_default\" type=\"checkbox\"/>,\n",
       " <input id=\"send_report_to\" name=\"send_report_to\" type=\"text\"/>,\n",
       " <input id=\"send_report_weekly_sunday\" type=\"checkbox\" value=\"7\"/>,\n",
       " <input id=\"send_report_weekly_monday\" type=\"checkbox\" value=\"1\"/>,\n",
       " <input id=\"send_report_weekly_tuesday\" type=\"checkbox\" value=\"2\"/>,\n",
       " <input id=\"send_report_weekly_wednesday\" type=\"checkbox\" value=\"3\"/>,\n",
       " <input id=\"send_report_weekly_thursday\" type=\"checkbox\" value=\"4\"/>,\n",
       " <input id=\"send_report_weekly_friday\" type=\"checkbox\" value=\"5\"/>,\n",
       " <input id=\"send_report_weekly_saturday\" type=\"checkbox\" value=\"6\"/>,\n",
       " <input id=\"new_tag_name\" size=\"20\" type=\"text\"/>,\n",
       " <input id=\"edit_tag_new_name\" size=\"20\" type=\"text\"/>,\n",
       " <input id=\"edit_tag_id\" size=\"20\" type=\"hidden\"/>,\n",
       " <input data-bind=\"textInput: from\" disabled=\"\" type=\"text\"/>,\n",
       " <input data-bind=\"textInput: new_recipient, recipientAutocomplete: recipients, recipientSelect: select_recipient, showSearchTerm: true\" placeholder=\"Add recipient...\" type=\"text\"/>,\n",
       " <input data-bind=\"textInput: subject\" size=\"50\" type=\"text\"/>,\n",
       " <input id=\"fullscreen_modal_url\" name=\"url\" type=\"hidden\" value=\"\"/>,\n",
       " <input checked=\"true\" class=\"fullscreen_radio_btn\" name=\"fullscreen_container\" type=\"radio\" value=\"em%E2%80%94dash\"/>,\n",
       " <input class=\"fullscreen_radio_btn\" name=\"fullscreen_container\" type=\"radio\" value=\"default\"/>,\n",
       " <input name=\"csrfmiddlewaretoken\" type=\"hidden\" value=\"AXOxrmiyqd8RDHS5erTNVjko8ZS4vGfw\"/>]"
      ]
     },
     "execution_count": 16,
     "metadata": {},
     "output_type": "execute_result"
    }
   ],
   "source": [
    "soup.findAll('input')"
   ]
  },
  {
   "cell_type": "code",
   "execution_count": 31,
   "metadata": {
    "collapsed": false
   },
   "outputs": [
    {
     "data": {
      "text/plain": [
       "[<form onsubmit=\"return false;\">\\n<table>\\n<tr>\\n<td>\\n<label>Rename</label>\\n</td>\\n<td>\\n<input data-bind=\"textInput: dashboard_name\" maxlength=\"255\"/>\\n</td>\\n</tr>\\n</table>\\n</form>,\n",
       " <form onsubmit=\"return false;\">\\n<table>\\n<tr>\\n<td>\\n<label>Dashboard</label>\\n</td>\\n<td>\\n<span data-bind=\"text:dashboard_name\" id=\"shared_dashboard_name\"></span>\\n</td>\\n</tr>\\n<!-- ko if: shareitem_shared_with_list().length -->\\n<tr>\\n<td colspan=\"2\">\\n<div class=\"shared_dashboard_with\">\\n<p>Currently shared with...</p>\\n<ul class=\"shared_dashboard_persons selection tags person_names\" data-bind=\"foreach:shareitem_shared_with_list\">\\n<li class=\"tag \" data-bind=\"click:$parent.unselect_shareitem\">\\n<div class=\"label\">\\n<a data-bind=\"text:name\"></a>\\n</div>\\n</li>\\n</ul>\\n</div>\\n<hr/>\\n</td>\\n</tr>\\n<!-- /ko -->\\n<tr>\\n<td>\\n<label for=\"person\">Share with</label>\\n</td>\\n<td>\\n<input autofocus=\"autofocus\" data-bind=\"recipientAutocomplete: recipients, recipientFilter: filter_recipients, recipientSelect: select_shareitem\" id=\"shared_dashboard_person\" name=\"person\" placeholder=\"Employee or Team\" size=\"20\" type=\"text\"/>\\n</td>\\n</tr>\\n<tr class=\"names_row\">\\n<td></td>\\n<td>\\n<ul class=\"shared_dashboard_persons selection tags person_names\" data-bind=\"foreach:shareitem_shared_list\">\\n<li class=\"tag \" data-bind=\"click:$parent.unselect_shareitem, css:{TEAM:is_team}\">\\n<div class=\"label\">\\n<a data-bind=\"text: name\"></a>\\n</div>\\n</li>\\n</ul>\\n<div class=\"team_warning\" data-bind=\"visible:sending_to_team\">\\n<span class=\"context_warning\">Dashboard will be shared with each current member of a team.</span>\\n</div>\\n</td>\\n</tr>\\n<tr>\\n<td>\\n<label class=\"check\" for=\"set_default\">Set as default</label>\\n</td>\\n<td>\\n<input data-bind=\"checked:set_as_default\" id=\"shared_dashboard_set_default\" name=\"set_default\" type=\"checkbox\"/>\\n</td>\\n</tr>\\n<tr class=\"comment_row\">\\n<td>\\n<label for=\"person\">Comments</label>\\n</td>\\n<td>\\n<textarea data-bind=\"value:comment\" id=\"shared_dashboard_comments\" name=\"comment\"></textarea>\\n</td>\\n</tr>\\n</table>\\n</form>,\n",
       " <form onsubmit=\"send_report(); return false\">\\n<div class=\"top_inputs\">\\n<label>Subject</label>\\n<p class=\"subject\" id=\"report_name\"></p>\\n<label>From</label><p class=\"from\">Dan McDade</p>\\n<label>To</label><input id=\"send_report_to\" name=\"send_report_to\" type=\"text\"/>\\n<p class=\"instructions\">Start typing an email address.</p>\\n<ul class=\"selection tags to_addresses\" id=\"to_address_list\"></ul>\\n<label>Frequency</label><select id=\"send_report_frequency\" name=\"send_report_frequency\">\\n<option class=\"render_frequency\" value=\"once\">Once</option>\\n<option class=\"render_frequency\" value=\"daily\">Daily</option>\\n<option class=\"render_frequency\" value=\"weekly\">Weekly</option>\\n<option class=\"render_frequency\" value=\"monthly\">Monthly</option>\\n</select>\\n<div class=\"send_report_offset\" id=\"send_report_weekly_offset\">\\n<span>on</span>\\n<div class=\"day_checkboxes\">\\n<div class=\"day_input\">\\n<input id=\"send_report_weekly_sunday\" type=\"checkbox\" value=\"7\"/>\\n<label for=\"send_report_weekly_sunday\">S</label>\\n</div>\\n<div class=\"day_input\">\\n<input id=\"send_report_weekly_monday\" type=\"checkbox\" value=\"1\"/>\\n<label for=\"send_report_weekly_monday\">M</label>\\n</div>\\n<div class=\"day_input\">\\n<input id=\"send_report_weekly_tuesday\" type=\"checkbox\" value=\"2\"/>\\n<label for=\"send_report_weekly_tuesday\">T</label>\\n</div>\\n<div class=\"day_input\">\\n<input id=\"send_report_weekly_wednesday\" type=\"checkbox\" value=\"3\"/>\\n<label for=\"send_report_weekly_wednesday\">W</label>\\n</div>\\n<div class=\"day_input\">\\n<input id=\"send_report_weekly_thursday\" type=\"checkbox\" value=\"4\"/>\\n<label for=\"send_report_weekly_thursday\">T</label>\\n</div>\\n<div class=\"day_input\">\\n<input id=\"send_report_weekly_friday\" type=\"checkbox\" value=\"5\"/>\\n<label for=\"send_report_weekly_friday\">F</label>\\n</div>\\n<div class=\"day_input\">\\n<input id=\"send_report_weekly_saturday\" type=\"checkbox\" value=\"6\"/>\\n<label for=\"send_report_weekly_saturday\">S</label>\\n</div>\\n</div>\\n</div>\\n<div class=\"send_report_offset\" id=\"send_report_monthly_offset\" name=\"send_report_monthly_offset\">\\n<span>on the</span>\\n<select>\\n<option value=\"1\">First</option>\\n<option value=\"-3\">3rd to Last</option>\\n<option value=\"-2\">2nd to Last</option>\\n<option value=\"-1\">Last</option>\\n</select>\\n<span>day of the month</span>\\n</div>\\n</div>\\n<label>Comments</label><textarea cols=\"42\" id=\"send_report_comments\" name=\"send_report_comments\" rows=\"6\"></textarea>\\n<br class=\"clear\"/>\\n</form>,\n",
       " <form onsubmit=\"IS.Tag.newTagSubmit(); return false\">\\n<span>New Tag Name</span>\\n<input id=\"new_tag_name\" size=\"20\" type=\"text\"/>\\n</form>,\n",
       " <form onsubmit=\"IS.Tag.editTagSubmit(); return false\">\\n<h4>New tag name</h4>\\n<input id=\"edit_tag_new_name\" size=\"20\" type=\"text\"/>\\n<input id=\"edit_tag_id\" size=\"20\" type=\"hidden\"/>\\n</form>,\n",
       " <form action=\"/settings/fullscreen/add_report/\" method=\"POST\">\\n<input id=\"fullscreen_modal_url\" name=\"url\" type=\"hidden\" value=\"\"/>\\n<ul>\\n<li class=\"nonrotating\">\\n<input checked=\"true\" class=\"fullscreen_radio_btn\" name=\"fullscreen_container\" type=\"radio\" value=\"em%E2%80%94dash\"/>Em\\u2014Dash\\n            </li>\\n<li class=\"nonrotating\">\\n<input class=\"fullscreen_radio_btn\" name=\"fullscreen_container\" type=\"radio\" value=\"default\"/>Default\\n            </li>\\n</ul>\\n<input name=\"csrfmiddlewaretoken\" type=\"hidden\" value=\"Pe3Xa2wHWfjuO0qnEA0Uj9Dds4L1LHXw\"/>\\n</form>]"
      ]
     },
     "execution_count": 31,
     "metadata": {},
     "output_type": "execute_result"
    }
   ],
   "source": [
    "# soup.findAll('form', attrs={'method': 'post'})\n",
    "soup.findAll('form')"
   ]
  },
  {
   "cell_type": "code",
   "execution_count": 19,
   "metadata": {
    "collapsed": true
   },
   "outputs": [],
   "source": [
    "session2 = requests.session()"
   ]
  },
  {
   "cell_type": "code",
   "execution_count": 20,
   "metadata": {
    "collapsed": true
   },
   "outputs": [],
   "source": [
    "login_url = 'https://clients.insightsquared.com/login/'\n",
    "new = session2.get(login_url)"
   ]
  },
  {
   "cell_type": "code",
   "execution_count": 21,
   "metadata": {
    "collapsed": true
   },
   "outputs": [],
   "source": [
    "new_soup = BeautifulSoup(new.text, 'lxml')"
   ]
  },
  {
   "cell_type": "code",
   "execution_count": 22,
   "metadata": {
    "collapsed": false
   },
   "outputs": [
    {
     "data": {
      "text/plain": [
       "[<form action=\"#\" class=\"right_label login shadow\" enctype=\"multipart/form-data\" id=\"login_form\" method=\"post\">\\n<input name=\"csrfmiddlewaretoken\" type=\"hidden\" value=\"saevPswZkF5gHXame6qY1D6JG3quRSlK\"/>\\n<div class=\"login_logo\"></div>\\n<div class=\"form_content\">\\n<ul>\\n<li>\\n<div class=\"container\"> <!-- simple_container.html -->\\n<input class=\"field text\" id=\"id__email\" name=\"id__email\" onblur=\"this.placeholder='Email'\" onfocus=\"this.placeholder=''\" placeholder=\"Email\" type=\"text\" value=\"\"/>\\n<label class=\"input_label\" for=\"id__email\">Email</label>\\n<!-- errors.html -->\\n<!-- /errors.html -->\\n<p class=\"clearfix\"></p>\\n</div> <!-- /simple_container.html -->\\n</li>\\n<li>\\n<div class=\"container\"> <!-- simple_container.html -->\\n<input autocomplete=\"off\" class=\"field password\" id=\"id__password\" name=\"id__password\" onblur=\"this.placeholder='Password'\" onfocus=\"this.placeholder=''\" placeholder=\"Password\" type=\"password\" value=\"\"/>\\n<label class=\"input_label\" for=\"id__password\">Password</label>\\n<!-- errors.html -->\\n<!-- /errors.html -->\\n<p class=\"clearfix\"></p>\\n</div> <!-- /simple_container.html -->\\n</li>\\n</ul>\\n<div class=\"checkbox_container\">\\n<input class=\"checkbox-custom\" id=\"id__remember\" name=\"id__remember\" type=\"checkbox\" value=\"1\"/>\\n<label class=\"checkbox-custom-label\" for=\"id__remember\">Stay Signed In</label>\\n</div>\\n<button class=\"login_button is2_login\">Login</button>\\n<span class=\"login_options\">OR</span>\\n<a class=\"sfdc-merged-button\" href=\"/login/sfdc/\">\\n<div class=\"sfdc-merged-button-icon\">\\n<img src=\"/img/salesforce_logo.svg\"/>\\n</div>\\n<span class=\"sfdc-merged-button-message\">Login With Salesforce</span>\\n</a>\\n<div class=\"login_settings_wrap\">\\n<a class=\"forgot_pw left_aligned\" href=\"#\">Forgot your password?</a>\\n<a class=\"privacy_policy right_aligned\" href=\"http://insightsquared.com/privacypolicy/\" target=\"_blank\">Privacy Policy</a>\\n</div>\\n</div>\\n</form>]"
      ]
     },
     "execution_count": 22,
     "metadata": {},
     "output_type": "execute_result"
    }
   ],
   "source": [
    "new_soup.findAll('form', attrs={'method': 'post'})"
   ]
  },
  {
   "cell_type": "markdown",
   "metadata": {},
   "source": [
    "# doing process as lxml"
   ]
  },
  {
   "cell_type": "code",
   "execution_count": null,
   "metadata": {
    "collapsed": true
   },
   "outputs": [],
   "source": [
    "#lxml html\n",
    "#login_tree = html.fromstring(login_resp.text)\n",
    "#authenticity_token_tree = login_tree.xpath(\"//input[@name='csrfmiddlewaretoken']/@value\")[0]"
   ]
  },
  {
   "cell_type": "code",
   "execution_count": null,
   "metadata": {
    "collapsed": true
   },
   "outputs": [],
   "source": [
    "tree = html.fromstring(result.content)\n",
    "bucket_elems = tree.findall(\".//span[@class='repo-name']/\")\n",
    "bucket_names = [bucket.text_content.replace(\"\\n\", \"\").strip() for bucket in bucket_elems]\n",
    "\n",
    "print bucket_names"
   ]
  }
 ],
 "metadata": {
  "kernelspec": {
   "display_name": "Python 2",
   "language": "python",
   "name": "python2"
  },
  "language_info": {
   "codemirror_mode": {
    "name": "ipython",
    "version": 2
   },
   "file_extension": ".py",
   "mimetype": "text/x-python",
   "name": "python",
   "nbconvert_exporter": "python",
   "pygments_lexer": "ipython2",
   "version": "2.7.11"
  }
 },
 "nbformat": 4,
 "nbformat_minor": 0
}
