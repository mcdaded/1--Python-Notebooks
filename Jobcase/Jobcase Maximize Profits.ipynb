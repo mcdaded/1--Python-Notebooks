{
 "cells": [
  {
   "cell_type": "markdown",
   "metadata": {},
   "source": [
    "## Problem: Maximize Profit from these members. \n",
    "### Where to go from here? - questions? observations? directions?\n",
    "#### • emails.tsv: a tab-separated file of all emails sent to a subset of our members from the JobsRadar brand in September\n",
    "Column1: email_id\n",
    "Column2: email_send_time (EST)\n",
    "Column3: email_type\n",
    "\tT plus 1 is a campaign sent 1 day after a member joins\n",
    "\tT plus N are campaigns sent N days after a member joins\n",
    "\tTransactional Forgot Password Email\n",
    "\tTransactional JR Welcome Email\n",
    "Column4: email_variant\n",
    "\tFirst Part:\n",
    "\t\tfixed_keyword_cloud = keyword cloud email (See samples)\n",
    "\t\tjob_alert = custom job listings (see samples)\n",
    "\t2nd part:\n",
    "\t\ttplusN helps with time since joined (joined N days ago)\n",
    "\t\tage22+ goes to people age 22+ (includes anyone 22-999, meaning everyone except under 22),\n",
    "\t\tage35+ likewise\n",
    "\t\t1opened goes to people that opened at least once before.\n",
    "Column5: member_id\n",
    "\n",
    "job_alert_s1_v1 is a specific “version” of a “job alert” type of email we send.\n",
    "tplus2 means this message was sent to members that joined our site 2 days ago\n",
    "tplus201 means this message was sent to members that joined our site 201 days ago\n",
    "age22+ means it was sent to people that were at least 22 years old.\n",
    "1opened means it was sent to people that had opened at least 1 message from us in the past (“Openers”)\n",
    "\n",
    "#### • email_responses.tsv: a tab-separated file of open, click, and unsubscribe events that resulted from those emails\n",
    "#### • members.tsv: a tab-separated file of information about the members to whom those emails were sent\n",
    "#### • *.png: sample images of each of the email variants sent in this set (as identified by either the \"variant\" or \"campaign\" column in emails.tsv)\n",
    "#### • *.eml: Outlook export files of same\n",
    "\n",
    "#### A) we make 0.12 per click event \n",
    "#### B) it costs us 0.40 for every 1,000 emails sent.\n",
    "   "
   ]
  },
  {
   "cell_type": "markdown",
   "metadata": {},
   "source": [
    " "
   ]
  },
  {
   "cell_type": "code",
   "execution_count": 1,
   "metadata": {},
   "outputs": [],
   "source": [
    "# Import some useful python modules\n",
    "import matplotlib as plt\n",
    "import seaborn as sns\n",
    "%matplotlib inline\n",
    "\n",
    "import numpy as np\n",
    "import pandas as pd\n",
    "import os\n",
    "import datetime\n",
    "import sqlite3\n",
    "from sqlalchemy import create_engine, text\n",
    "import nltk\n",
    "\n",
    "def sqldf(query, sql_engine):\n",
    "    query_text = text(query)\n",
    "    results = pd.read_sql_query(query_text, con=sql_engine)\n",
    "    return results\n",
    "\n",
    "def sqlraw():\n",
    "    conn = sqlite3.connect('jobcase.db')\n",
    "    return conn"
   ]
  },
  {
   "cell_type": "code",
   "execution_count": 48,
   "metadata": {
    "collapsed": true
   },
   "outputs": [],
   "source": [
    "nltk.download()"
   ]
  },
  {
   "cell_type": "code",
   "execution_count": 2,
   "metadata": {},
   "outputs": [],
   "source": [
    "# change working directory into folder with data, view what is available\n",
    "os.chdir(os.getcwd() + '\\data')"
   ]
  },
  {
   "cell_type": "code",
   "execution_count": 3,
   "metadata": {},
   "outputs": [],
   "source": [
    "conn = sqlite3.connect('jobcase.db')\n",
    "engine = create_engine('sqlite:///C:\\\\Users\\\\Dan\\\\1) Python Notebooks\\\\Jobcase\\\\data\\\\jobcase.db')\n",
    "engine.raw_connection().connection.text_factory = str\n",
    "conn.close()\n",
    "connection = engine.connect()"
   ]
  },
  {
   "cell_type": "code",
   "execution_count": 3,
   "metadata": {
    "scrolled": true
   },
   "outputs": [],
   "source": [
    "# Parse data into Pandas DataFrames\n",
    "# emails\n",
    "emails = pd.read_table('emails.tsv', header=None)\n",
    "emails.columns = ['email_id','timestamp','email_type','email_variant','member_id']\n",
    "emails.email_variant = emails.email_variant.apply(lambda x: str(x).replace('\\\\N', 'NONE')) \n",
    "emails['email_variant_first_part'] = emails['email_variant'].apply(lambda x: x.split(':')[0] if not pd.isnull(x) else np.nan)\n",
    "emails['email_variant_second_part'] = emails['email_variant'].apply(lambda x: x.split(':')[1] if not pd.isnull(x) and len(x.split(':')) > 1 else np.nan)\n",
    "emails.member_id = emails.member_id.astype(str)\n",
    "\n",
    "# email responses\n",
    "email_responses = pd.read_table('email_responses.tsv', header=0)"
   ]
  },
  {
   "cell_type": "code",
   "execution_count": 4,
   "metadata": {
    "scrolled": true
   },
   "outputs": [
    {
     "data": {
      "text/plain": [
       "open     1099755\n",
       "click     436201\n",
       "unsub      22653\n",
       "dtype: int64"
      ]
     },
     "execution_count": 4,
     "metadata": {},
     "output_type": "execute_result"
    }
   ],
   "source": [
    "email_responses['action'].value_counts()"
   ]
  },
  {
   "cell_type": "code",
   "execution_count": null,
   "metadata": {
    "collapsed": true
   },
   "outputs": [],
   "source": []
  },
  {
   "cell_type": "code",
   "execution_count": 75,
   "metadata": {},
   "outputs": [
    {
     "name": "stdout",
     "output_type": "stream",
     "text": [
      "52344.12\n",
      "3843.1236\n",
      "48500.9964\n"
     ]
    }
   ],
   "source": [
    "# Calculating the profit based on the amounts identified ($0.4/1000 and $0.12/email)\n",
    "total_cost = len(emails.email_id) * 0.4 / 1000\n",
    "gross_revenue = email_responses['action'].value_counts().click * 0.12\n",
    "profit = gross_revenue - total_cost\n",
    "print gross_revenue\n",
    "print total_cost\n",
    "print profit "
   ]
  },
  {
   "cell_type": "markdown",
   "metadata": {},
   "source": [
    "Based on this dataset, we can see that we have sent 9,607,809 emails. Sending these emails cost \\$0.4/1000 emails for a total cost of \\$3,843.12. Looking at the email responses we can see that there are 436,201 'click' events. Each click event earns Jobcase earns \\$0.12/click. This means that based on this dataset we have made \\$52,344.12 in revenue. Our profit on this dataset is then \\$48,501."
   ]
  },
  {
   "cell_type": "code",
   "execution_count": null,
   "metadata": {
    "collapsed": true
   },
   "outputs": [],
   "source": []
  },
  {
   "cell_type": "code",
   "execution_count": 4,
   "metadata": {},
   "outputs": [],
   "source": [
    "# There are some issues with the members file (varying apparent row lengths, likely due to a separator issue) \n",
    "# so we will read that directly and try to identify where the issues are. \n",
    "# After the data is in a usable form and then parse the data into a dataframe manually\n",
    "members_file = open('members.tsv','r')\n",
    "members_list = []\n",
    "members_list_raw = []\n",
    "for line in members_file.readlines():\n",
    "    members_list_raw.append(line)\n",
    "    members_list.append(line.replace('\\n','').split('\\t'))\n",
    "\n",
    "#print members_list[0]\n",
    "#members_list_raw[205009]\n",
    "\n",
    "# From investigating the above rows, we can see that the issue stems from additional tabs in the value fields\n",
    "# we therefore need to replace the invalid dditional tab values so the data can be formatted correctly\n",
    "clean_members_list = [\n",
    "    [unicode(col.decode(\"ascii\",\"ignore\")) \n",
    "        for col in member.replace('\\n','').replace('\\\\\\t','').replace('\\N','').replace(\"'\",\"\").replace('+','').split('\\t')\n",
    "    ] for member in members_list_raw\n",
    "]\n",
    "\n",
    "members = pd.DataFrame(data=clean_members_list[1:], \n",
    "                       columns=clean_members_list[0])"
   ]
  },
  {
   "cell_type": "code",
   "execution_count": 5,
   "metadata": {},
   "outputs": [],
   "source": [
    "emails_and_clicks = pd.merge(emails, email_responses[email_responses.action=='click'], how='left', on='email_id', suffixes=['_1', '_2'])\n",
    "emails_and_resp = pd.merge(emails_and_clicks\n",
    "                           , pd.DataFrame(data=email_responses.email_id.unique(),columns=['email_id'])\n",
    "                           , how='inner', on='email_id', suffixes=['_1', '_2'])\n",
    "emails_and_resp['action'] = emails_and_resp['action'].fillna('na')"
   ]
  },
  {
   "cell_type": "code",
   "execution_count": 63,
   "metadata": {},
   "outputs": [
    {
     "data": {
      "text/plain": [
       "963131"
      ]
     },
     "execution_count": 63,
     "metadata": {},
     "output_type": "execute_result"
    }
   ],
   "source": [
    "emails_and_resp.email_id.count()"
   ]
  },
  {
   "cell_type": "code",
   "execution_count": 6,
   "metadata": {},
   "outputs": [],
   "source": [
    "emails_and_members = pd.merge(emails_and_resp, members, how='inner', on='member_id', suffixes=['_1', '_2'])\n",
    "emails_and_members.keyword = emails_and_members.keyword.fillna('').apply(lambda x: x.lower().replace('jobs','').replace('job','').replace('www','').replace('.com',''))"
   ]
  },
  {
   "cell_type": "code",
   "execution_count": 75,
   "metadata": {},
   "outputs": [],
   "source": [
    "#emails.to_sql('emails', engine)\n",
    "#email_responses.to_sql('email_responses', engine)\n",
    "#members.to_sql('members', engine, if_exists='replace')\n",
    "#emails_and_members.to_sql('emails_and_members', engine)"
   ]
  },
  {
   "cell_type": "markdown",
   "metadata": {},
   "source": [
    "# Normalizing the Features"
   ]
  },
  {
   "cell_type": "code",
   "execution_count": 7,
   "metadata": {},
   "outputs": [],
   "source": [
    "from nltk.stem import PorterStemmer\n",
    "from sklearn.feature_extraction.text import TfidfVectorizer\n",
    "from nltk import word_tokenize\n",
    "\n",
    "stemmer = PorterStemmer()\n",
    "\n",
    "def stem_tokens(tokens, stemmer):\n",
    "    stemmed = []\n",
    "    for item in tokens:\n",
    "        stemmed.append(stemmer.stem(item))\n",
    "    return stemmed\n",
    "\n",
    "def tokenize(text):\n",
    "    tokens = nltk.word_tokenize(text)\n",
    "    stems = stem_tokens(tokens, stemmer)\n",
    "    return stems\n",
    "\n",
    "vectorizer = TfidfVectorizer(max_df=0.5, max_features=30, min_df=2, stop_words='english',tokenizer=tokenize)\n",
    "vX = vectorizer.fit_transform(emails_and_members.keyword)"
   ]
  },
  {
   "cell_type": "code",
   "execution_count": 8,
   "metadata": {
    "collapsed": true
   },
   "outputs": [],
   "source": [
    "emails_and_members['variant_vals'] = emails_and_members.email_variant.fillna('none').apply(lambda x: x.lower().replace('_',' ').replace(':',' ').replace('+',' '))"
   ]
  },
  {
   "cell_type": "code",
   "execution_count": 9,
   "metadata": {},
   "outputs": [],
   "source": [
    "stemmer = PorterStemmer()\n",
    "\n",
    "def stem_tokens(tokens, stemmer):\n",
    "    stemmed = []\n",
    "    for item in tokens:\n",
    "        stemmed.append(stemmer.stem(item))\n",
    "    return stemmed\n",
    "\n",
    "def tokenize(text):\n",
    "    tokens = nltk.word_tokenize(text)\n",
    "    stems = stem_tokens(tokens, stemmer)\n",
    "    return stems\n",
    "\n",
    "vectorizer_variant_vals = TfidfVectorizer(max_df=0.5, max_features=1000, min_df=2, stop_words='english', tokenizer=tokenize)\n",
    "vX_variants = vectorizer_variant_vals.fit_transform(emails_and_members.variant_vals)"
   ]
  },
  {
   "cell_type": "code",
   "execution_count": null,
   "metadata": {
    "collapsed": true
   },
   "outputs": [],
   "source": []
  },
  {
   "cell_type": "code",
   "execution_count": 35,
   "metadata": {
    "collapsed": true
   },
   "outputs": [
    {
     "data": {
      "text/html": [
       "<div style=\"max-height:1000px;max-width:1500px;overflow:auto;\">\n",
       "<table border=\"1\" class=\"dataframe\">\n",
       "  <thead>\n",
       "    <tr style=\"text-align: right;\">\n",
       "      <th></th>\n",
       "      <th>email_id</th>\n",
       "      <th>timestamp_1</th>\n",
       "      <th>email_type</th>\n",
       "      <th>email_variant</th>\n",
       "      <th>member_id</th>\n",
       "      <th>email_variant_first_part</th>\n",
       "      <th>email_variant_second_part</th>\n",
       "      <th>timestamp_2</th>\n",
       "      <th>action</th>\n",
       "      <th>date</th>\n",
       "      <th>email_domain</th>\n",
       "      <th>first_name</th>\n",
       "      <th>city</th>\n",
       "      <th>state</th>\n",
       "      <th>zip</th>\n",
       "      <th>degree_level</th>\n",
       "      <th>hs_or_ged_year</th>\n",
       "      <th>pcp_score</th>\n",
       "      <th>keyword</th>\n",
       "      <th>variant_vals</th>\n",
       "    </tr>\n",
       "  </thead>\n",
       "  <tbody>\n",
       "    <tr>\n",
       "      <th>0</th>\n",
       "      <td>205570076</td>\n",
       "      <td>2012-09-01 00:10:08</td>\n",
       "      <td>Transactional JR Welcome Email</td>\n",
       "      <td>account_login_info_s2_v1</td>\n",
       "      <td>14802260</td>\n",
       "      <td>account_login_info_s2_v1</td>\n",
       "      <td>NaN</td>\n",
       "      <td>2012-09-01 00:23:49</td>\n",
       "      <td>click</td>\n",
       "      <td>2012-09-01 01:02:03</td>\n",
       "      <td>yahoo.com</td>\n",
       "      <td>michael</td>\n",
       "      <td>SPARTA</td>\n",
       "      <td>TN</td>\n",
       "      <td>38583</td>\n",
       "      <td>Some HS</td>\n",
       "      <td>2013</td>\n",
       "      <td>0.10344</td>\n",
       "      <td>kroger</td>\n",
       "      <td>account login info s2 v1</td>\n",
       "    </tr>\n",
       "    <tr>\n",
       "      <th>1</th>\n",
       "      <td>205570123</td>\n",
       "      <td>2012-09-01 00:11:07</td>\n",
       "      <td>Transactional Forgot Password Email</td>\n",
       "      <td>nan</td>\n",
       "      <td>8450299</td>\n",
       "      <td>nan</td>\n",
       "      <td>NaN</td>\n",
       "      <td>2012-09-01 00:12:57</td>\n",
       "      <td>click</td>\n",
       "      <td>2011-07-13 21:57:47</td>\n",
       "      <td>hotmail.com</td>\n",
       "      <td>Maria</td>\n",
       "      <td>Chula vista</td>\n",
       "      <td>CA</td>\n",
       "      <td>91911</td>\n",
       "      <td>Associate</td>\n",
       "      <td>1979</td>\n",
       "      <td>0.320591</td>\n",
       "      <td>costco</td>\n",
       "      <td>nan</td>\n",
       "    </tr>\n",
       "    <tr>\n",
       "      <th>2</th>\n",
       "      <td>205570320</td>\n",
       "      <td>2012-09-01 00:30:08</td>\n",
       "      <td>Transactional JR Welcome Email</td>\n",
       "      <td>account_login_info_s2_v1</td>\n",
       "      <td>14802278</td>\n",
       "      <td>account_login_info_s2_v1</td>\n",
       "      <td>NaN</td>\n",
       "      <td>2012-09-01 00:31:09</td>\n",
       "      <td>click</td>\n",
       "      <td>2012-09-01 01:24:50</td>\n",
       "      <td>yahoo.com</td>\n",
       "      <td>Frank</td>\n",
       "      <td>FORT LAUDERDALE</td>\n",
       "      <td>FL</td>\n",
       "      <td>33301</td>\n",
       "      <td>Some College</td>\n",
       "      <td>1981</td>\n",
       "      <td>0.174869</td>\n",
       "      <td>fedex</td>\n",
       "      <td>account login info s2 v1</td>\n",
       "    </tr>\n",
       "    <tr>\n",
       "      <th>3</th>\n",
       "      <td>206014887</td>\n",
       "      <td>2012-09-02 04:00:08</td>\n",
       "      <td>T plus N</td>\n",
       "      <td>fixed_keyword_cloud_s1_v1:tplus1_age22+</td>\n",
       "      <td>14802278</td>\n",
       "      <td>fixed_keyword_cloud_s1_v1</td>\n",
       "      <td>tplus1_age22+</td>\n",
       "      <td>2012-09-02 15:35:01</td>\n",
       "      <td>click</td>\n",
       "      <td>2012-09-01 01:24:50</td>\n",
       "      <td>yahoo.com</td>\n",
       "      <td>Frank</td>\n",
       "      <td>FORT LAUDERDALE</td>\n",
       "      <td>FL</td>\n",
       "      <td>33301</td>\n",
       "      <td>Some College</td>\n",
       "      <td>1981</td>\n",
       "      <td>0.174869</td>\n",
       "      <td>fedex</td>\n",
       "      <td>fixed keyword cloud s1 v1 tplus1 age22</td>\n",
       "    </tr>\n",
       "    <tr>\n",
       "      <th>4</th>\n",
       "      <td>206384628</td>\n",
       "      <td>2012-09-03 04:00:07</td>\n",
       "      <td>T plus N</td>\n",
       "      <td>fixed_keyword_cloud_s1_v1:tplus2</td>\n",
       "      <td>14802278</td>\n",
       "      <td>fixed_keyword_cloud_s1_v1</td>\n",
       "      <td>tplus2</td>\n",
       "      <td>2012-09-03 05:18:37</td>\n",
       "      <td>click</td>\n",
       "      <td>2012-09-01 01:24:50</td>\n",
       "      <td>yahoo.com</td>\n",
       "      <td>Frank</td>\n",
       "      <td>FORT LAUDERDALE</td>\n",
       "      <td>FL</td>\n",
       "      <td>33301</td>\n",
       "      <td>Some College</td>\n",
       "      <td>1981</td>\n",
       "      <td>0.174869</td>\n",
       "      <td>fedex</td>\n",
       "      <td>fixed keyword cloud s1 v1 tplus2</td>\n",
       "    </tr>\n",
       "  </tbody>\n",
       "</table>\n",
       "</div>"
      ],
      "text/plain": [
       "    email_id          timestamp_1                           email_type  \\\n",
       "0  205570076  2012-09-01 00:10:08       Transactional JR Welcome Email   \n",
       "1  205570123  2012-09-01 00:11:07  Transactional Forgot Password Email   \n",
       "2  205570320  2012-09-01 00:30:08       Transactional JR Welcome Email   \n",
       "3  206014887  2012-09-02 04:00:08                             T plus N   \n",
       "4  206384628  2012-09-03 04:00:07                             T plus N   \n",
       "\n",
       "                             email_variant member_id  \\\n",
       "0                 account_login_info_s2_v1  14802260   \n",
       "1                                      nan   8450299   \n",
       "2                 account_login_info_s2_v1  14802278   \n",
       "3  fixed_keyword_cloud_s1_v1:tplus1_age22+  14802278   \n",
       "4         fixed_keyword_cloud_s1_v1:tplus2  14802278   \n",
       "\n",
       "    email_variant_first_part email_variant_second_part          timestamp_2  \\\n",
       "0   account_login_info_s2_v1                       NaN  2012-09-01 00:23:49   \n",
       "1                        nan                       NaN  2012-09-01 00:12:57   \n",
       "2   account_login_info_s2_v1                       NaN  2012-09-01 00:31:09   \n",
       "3  fixed_keyword_cloud_s1_v1             tplus1_age22+  2012-09-02 15:35:01   \n",
       "4  fixed_keyword_cloud_s1_v1                    tplus2  2012-09-03 05:18:37   \n",
       "\n",
       "  action                 date email_domain first_name             city state  \\\n",
       "0  click  2012-09-01 01:02:03    yahoo.com    michael           SPARTA    TN   \n",
       "1  click  2011-07-13 21:57:47  hotmail.com      Maria      Chula vista    CA   \n",
       "2  click  2012-09-01 01:24:50    yahoo.com      Frank  FORT LAUDERDALE    FL   \n",
       "3  click  2012-09-01 01:24:50    yahoo.com      Frank  FORT LAUDERDALE    FL   \n",
       "4  click  2012-09-01 01:24:50    yahoo.com      Frank  FORT LAUDERDALE    FL   \n",
       "\n",
       "     zip  degree_level hs_or_ged_year pcp_score  keyword  \\\n",
       "0  38583       Some HS           2013   0.10344  kroger    \n",
       "1  91911     Associate           1979  0.320591  costco    \n",
       "2  33301  Some College           1981  0.174869   fedex    \n",
       "3  33301  Some College           1981  0.174869   fedex    \n",
       "4  33301  Some College           1981  0.174869   fedex    \n",
       "\n",
       "                              variant_vals  \n",
       "0                 account login info s2 v1  \n",
       "1                                      nan  \n",
       "2                 account login info s2 v1  \n",
       "3  fixed keyword cloud s1 v1 tplus1 age22   \n",
       "4         fixed keyword cloud s1 v1 tplus2  "
      ]
     },
     "execution_count": 35,
     "metadata": {},
     "output_type": "execute_result"
    }
   ],
   "source": [
    "emails_and_members.head()"
   ]
  },
  {
   "cell_type": "code",
   "execution_count": 33,
   "metadata": {},
   "outputs": [
    {
     "data": {
      "text/html": [
       "<div style=\"max-height:1000px;max-width:1500px;overflow:auto;\">\n",
       "<table border=\"1\" class=\"dataframe\">\n",
       "  <thead>\n",
       "    <tr style=\"text-align: right;\">\n",
       "      <th></th>\n",
       "      <th>email_id</th>\n",
       "      <th>timestamp_1</th>\n",
       "      <th>email_type</th>\n",
       "      <th>email_variant</th>\n",
       "      <th>member_id</th>\n",
       "      <th>email_variant_first_part</th>\n",
       "      <th>email_variant_second_part</th>\n",
       "      <th>timestamp_2</th>\n",
       "      <th>action</th>\n",
       "      <th>date</th>\n",
       "      <th>email_domain</th>\n",
       "      <th>first_name</th>\n",
       "      <th>city</th>\n",
       "      <th>state</th>\n",
       "      <th>zip</th>\n",
       "      <th>degree_level</th>\n",
       "      <th>hs_or_ged_year</th>\n",
       "      <th>pcp_score</th>\n",
       "      <th>keyword</th>\n",
       "      <th>variant_vals</th>\n",
       "    </tr>\n",
       "  </thead>\n",
       "  <tbody>\n",
       "    <tr>\n",
       "      <th>0</th>\n",
       "      <td>205570076</td>\n",
       "      <td>2012-09-01 00:10:08</td>\n",
       "      <td>Transactional JR Welcome Email</td>\n",
       "      <td>account_login_info_s2_v1</td>\n",
       "      <td>14802260</td>\n",
       "      <td>account_login_info_s2_v1</td>\n",
       "      <td>NaN</td>\n",
       "      <td>2012-09-01 00:23:49</td>\n",
       "      <td>click</td>\n",
       "      <td>2012-09-01 01:02:03</td>\n",
       "      <td>yahoo.com</td>\n",
       "      <td>michael</td>\n",
       "      <td>SPARTA</td>\n",
       "      <td>TN</td>\n",
       "      <td>38583</td>\n",
       "      <td>Some HS</td>\n",
       "      <td>2013</td>\n",
       "      <td>0.10344</td>\n",
       "      <td>kroger</td>\n",
       "      <td>account login info s2 v1</td>\n",
       "    </tr>\n",
       "    <tr>\n",
       "      <th>1</th>\n",
       "      <td>205570123</td>\n",
       "      <td>2012-09-01 00:11:07</td>\n",
       "      <td>Transactional Forgot Password Email</td>\n",
       "      <td>nan</td>\n",
       "      <td>8450299</td>\n",
       "      <td>nan</td>\n",
       "      <td>NaN</td>\n",
       "      <td>2012-09-01 00:12:57</td>\n",
       "      <td>click</td>\n",
       "      <td>2011-07-13 21:57:47</td>\n",
       "      <td>hotmail.com</td>\n",
       "      <td>Maria</td>\n",
       "      <td>Chula vista</td>\n",
       "      <td>CA</td>\n",
       "      <td>91911</td>\n",
       "      <td>Associate</td>\n",
       "      <td>1979</td>\n",
       "      <td>0.320591</td>\n",
       "      <td>costco</td>\n",
       "      <td>nan</td>\n",
       "    </tr>\n",
       "    <tr>\n",
       "      <th>2</th>\n",
       "      <td>205570320</td>\n",
       "      <td>2012-09-01 00:30:08</td>\n",
       "      <td>Transactional JR Welcome Email</td>\n",
       "      <td>account_login_info_s2_v1</td>\n",
       "      <td>14802278</td>\n",
       "      <td>account_login_info_s2_v1</td>\n",
       "      <td>NaN</td>\n",
       "      <td>2012-09-01 00:31:09</td>\n",
       "      <td>click</td>\n",
       "      <td>2012-09-01 01:24:50</td>\n",
       "      <td>yahoo.com</td>\n",
       "      <td>Frank</td>\n",
       "      <td>FORT LAUDERDALE</td>\n",
       "      <td>FL</td>\n",
       "      <td>33301</td>\n",
       "      <td>Some College</td>\n",
       "      <td>1981</td>\n",
       "      <td>0.174869</td>\n",
       "      <td>fedex</td>\n",
       "      <td>account login info s2 v1</td>\n",
       "    </tr>\n",
       "    <tr>\n",
       "      <th>3</th>\n",
       "      <td>206014887</td>\n",
       "      <td>2012-09-02 04:00:08</td>\n",
       "      <td>T plus N</td>\n",
       "      <td>fixed_keyword_cloud_s1_v1:tplus1_age22+</td>\n",
       "      <td>14802278</td>\n",
       "      <td>fixed_keyword_cloud_s1_v1</td>\n",
       "      <td>tplus1_age22+</td>\n",
       "      <td>2012-09-02 15:35:01</td>\n",
       "      <td>click</td>\n",
       "      <td>2012-09-01 01:24:50</td>\n",
       "      <td>yahoo.com</td>\n",
       "      <td>Frank</td>\n",
       "      <td>FORT LAUDERDALE</td>\n",
       "      <td>FL</td>\n",
       "      <td>33301</td>\n",
       "      <td>Some College</td>\n",
       "      <td>1981</td>\n",
       "      <td>0.174869</td>\n",
       "      <td>fedex</td>\n",
       "      <td>fixed keyword cloud s1 v1 tplus1 age22</td>\n",
       "    </tr>\n",
       "    <tr>\n",
       "      <th>4</th>\n",
       "      <td>206384628</td>\n",
       "      <td>2012-09-03 04:00:07</td>\n",
       "      <td>T plus N</td>\n",
       "      <td>fixed_keyword_cloud_s1_v1:tplus2</td>\n",
       "      <td>14802278</td>\n",
       "      <td>fixed_keyword_cloud_s1_v1</td>\n",
       "      <td>tplus2</td>\n",
       "      <td>2012-09-03 05:18:37</td>\n",
       "      <td>click</td>\n",
       "      <td>2012-09-01 01:24:50</td>\n",
       "      <td>yahoo.com</td>\n",
       "      <td>Frank</td>\n",
       "      <td>FORT LAUDERDALE</td>\n",
       "      <td>FL</td>\n",
       "      <td>33301</td>\n",
       "      <td>Some College</td>\n",
       "      <td>1981</td>\n",
       "      <td>0.174869</td>\n",
       "      <td>fedex</td>\n",
       "      <td>fixed keyword cloud s1 v1 tplus2</td>\n",
       "    </tr>\n",
       "  </tbody>\n",
       "</table>\n",
       "</div>"
      ],
      "text/plain": [
       "    email_id          timestamp_1                           email_type  \\\n",
       "0  205570076  2012-09-01 00:10:08       Transactional JR Welcome Email   \n",
       "1  205570123  2012-09-01 00:11:07  Transactional Forgot Password Email   \n",
       "2  205570320  2012-09-01 00:30:08       Transactional JR Welcome Email   \n",
       "3  206014887  2012-09-02 04:00:08                             T plus N   \n",
       "4  206384628  2012-09-03 04:00:07                             T plus N   \n",
       "\n",
       "                             email_variant member_id  \\\n",
       "0                 account_login_info_s2_v1  14802260   \n",
       "1                                      nan   8450299   \n",
       "2                 account_login_info_s2_v1  14802278   \n",
       "3  fixed_keyword_cloud_s1_v1:tplus1_age22+  14802278   \n",
       "4         fixed_keyword_cloud_s1_v1:tplus2  14802278   \n",
       "\n",
       "    email_variant_first_part email_variant_second_part          timestamp_2  \\\n",
       "0   account_login_info_s2_v1                       NaN  2012-09-01 00:23:49   \n",
       "1                        nan                       NaN  2012-09-01 00:12:57   \n",
       "2   account_login_info_s2_v1                       NaN  2012-09-01 00:31:09   \n",
       "3  fixed_keyword_cloud_s1_v1             tplus1_age22+  2012-09-02 15:35:01   \n",
       "4  fixed_keyword_cloud_s1_v1                    tplus2  2012-09-03 05:18:37   \n",
       "\n",
       "  action                 date email_domain first_name             city state  \\\n",
       "0  click  2012-09-01 01:02:03    yahoo.com    michael           SPARTA    TN   \n",
       "1  click  2011-07-13 21:57:47  hotmail.com      Maria      Chula vista    CA   \n",
       "2  click  2012-09-01 01:24:50    yahoo.com      Frank  FORT LAUDERDALE    FL   \n",
       "3  click  2012-09-01 01:24:50    yahoo.com      Frank  FORT LAUDERDALE    FL   \n",
       "4  click  2012-09-01 01:24:50    yahoo.com      Frank  FORT LAUDERDALE    FL   \n",
       "\n",
       "     zip  degree_level hs_or_ged_year pcp_score  keyword  \\\n",
       "0  38583       Some HS           2013   0.10344  kroger    \n",
       "1  91911     Associate           1979  0.320591  costco    \n",
       "2  33301  Some College           1981  0.174869   fedex    \n",
       "3  33301  Some College           1981  0.174869   fedex    \n",
       "4  33301  Some College           1981  0.174869   fedex    \n",
       "\n",
       "                              variant_vals  \n",
       "0                 account login info s2 v1  \n",
       "1                                      nan  \n",
       "2                 account login info s2 v1  \n",
       "3  fixed keyword cloud s1 v1 tplus1 age22   \n",
       "4         fixed keyword cloud s1 v1 tplus2  "
      ]
     },
     "execution_count": 33,
     "metadata": {},
     "output_type": "execute_result"
    }
   ],
   "source": [
    "emails_and_members.head()"
   ]
  },
  {
   "cell_type": "code",
   "execution_count": 10,
   "metadata": {},
   "outputs": [],
   "source": [
    "# creating dummy values for the categorical variables\n",
    "features = pd.concat(objs=[pd.get_dummies(emails_and_members.email_type), \n",
    "                           pd.get_dummies(emails_and_members.email_variant),\n",
    "                           #pd.get_dummies(emails_and_members.degree_level),\n",
    "                           pd.get_dummies(emails_and_members.hs_or_ged_year),\n",
    "                           #emails_and_members.pcp_score,\n",
    "                           #pd.DataFrame(data=vX.toarray(), columns = vectorizer.get_feature_names()),\n",
    "                           pd.DataFrame(data=vX_variants.toarray(), columns = vectorizer_variant_vals.get_feature_names())\n",
    "                          ], axis=1)\n",
    "features.head()\n",
    "target = pd.get_dummies(emails_and_members.action).click"
   ]
  },
  {
   "cell_type": "markdown",
   "metadata": {},
   "source": [
    "\n",
    "\n",
    "# Now building the model\n"
   ]
  },
  {
   "cell_type": "code",
   "execution_count": 29,
   "metadata": {
    "collapsed": true
   },
   "outputs": [],
   "source": [
    "def model_performance(model, features, target):\n",
    "    total_pred = model.predict(features)\n",
    "    prod_predictions = pd.DataFrame(data=total_pred, columns=['predicted'])\n",
    "    prod_predictions['actual'] = target\n",
    "    print '\\nprediction counts\\n', prod_predictions[prod_predictions.predicted == 1].actual.value_counts()\n",
    "    print '\\ntotal predicted ', sum(prod_predictions[prod_predictions.predicted == 1].count()) \n",
    "    revenue = len(prod_predictions[(prod_predictions.predicted == 1) & (prod_predictions.actual == 1)]) * .12\n",
    "    cost =len(prod_predictions[(prod_predictions.predicted == 1)]) * .4/1000\n",
    "    print 'revenue = ', revenue\n",
    "    print 'cost = ', cost\n",
    "    print 'profit = ', revenue-cost"
   ]
  },
  {
   "cell_type": "code",
   "execution_count": 12,
   "metadata": {},
   "outputs": [
    {
     "name": "stdout",
     "output_type": "stream",
     "text": [
      "Feature space holds 932706 observations and 317 features\n",
      "Unique target labels: [ 0.  1.]\n"
     ]
    }
   ],
   "source": [
    "X = features.as_matrix().astype(int).astype(float)\n",
    "y = target\n",
    "# This is important\n",
    "from sklearn.preprocessing import StandardScaler\n",
    "scaler = StandardScaler()\n",
    "X = scaler.fit_transform(X)\n",
    "\n",
    "print \"Feature space holds %d observations and %d features\" % X.shape\n",
    "print \"Unique target labels:\", np.unique(y)"
   ]
  },
  {
   "cell_type": "code",
   "execution_count": 42,
   "metadata": {},
   "outputs": [],
   "source": [
    "from sklearn.ensemble import RandomForestClassifier, GradientBoostingClassifier, ExtraTreesClassifier, AdaBoostClassifier\n",
    "from sklearn.linear_model import LogisticRegression, SGDClassifier, RidgeClassifier, RidgeClassifierCV\n",
    "from sklearn.tree import DecisionTreeClassifier\n",
    "from sklearn.neighbors import KNeighborsClassifier\n",
    "from sklearn.svm import SVC, LinearSVC\n",
    "from sklearn.naive_bayes import GaussianNB, BernoulliNB, MultinomialNB\n",
    "from sklearn.grid_search import GridSearchCV\n",
    "\n",
    "from sklearn.cross_validation import train_test_split\n",
    "from sklearn.metrics import classification_report, confusion_matrix\n",
    "\n",
    "#X_train, X_test, y_train, y_test = train_test_split(X, y)"
   ]
  },
  {
   "cell_type": "code",
   "execution_count": null,
   "metadata": {},
   "outputs": [],
   "source": [
    "#clf = LogisticRegression(class_weight='auto')\n",
    "#GaussianNB\n",
    "clf = SVC(kernel='linear')\n",
    "clf.fit(X_train, y_train.ravel())\n",
    "predictions = clf.predict(X_test)\n",
    "print str(clf).split('(')[0], ' Classifier'\n",
    "\n",
    "print classification_report(y_test, predictions, target_names=['no click','click'])\n",
    "print confusion_matrix(y_test, predictions)\n",
    "print '\\n-------------------------\\n'\n",
    "model_performance(model=clf, features=X, target=y)"
   ]
  },
  {
   "cell_type": "code",
   "execution_count": 31,
   "metadata": {},
   "outputs": [
    {
     "name": "stdout",
     "output_type": "stream",
     "text": [
      "GaussianNB  Classifier\n",
      "             precision    recall  f1-score   support\n",
      "\n",
      "   no click       0.55      0.86      0.67    126078\n",
      "      click       0.52      0.18      0.27    107099\n",
      "\n",
      "avg / total       0.54      0.55      0.49    233177\n",
      "\n",
      "[[107898  18180]\n",
      " [ 87739  19360]]\n",
      "\n",
      "-------------------------\n",
      "\n",
      "\n",
      "prediction counts\n",
      "1    77522\n",
      "0    73829\n",
      "dtype: int64\n",
      "\n",
      "total predicted  302702\n",
      "revenue =  9302.64\n",
      "cost =  60.5404\n",
      "profit =  9242.0996\n"
     ]
    }
   ],
   "source": [
    "from sklearn.kernel_approximation import RBFSampler\n",
    "from sklearn.linear_model import SGDClassifier\n",
    "\n",
    "rbf_feature = RBFSampler(gamma=1, random_state=1)\n",
    "X_features_train = rbf_feature.fit_transform(X_train)\n",
    "X_features_test = rbf_feature.fit_transform(X_test)\n",
    "\n",
    "clf = GaussianNB()\n",
    "clf.fit(X_features_train, y_train.ravel())\n",
    "predictions = clf.predict(X_features_test)\n",
    "print str(clf).split('(')[0], ' Classifier'\n",
    "\n",
    "print classification_report(y_test, predictions, target_names=['no click','click'])\n",
    "print confusion_matrix(y_test, predictions)\n",
    "print '\\n-------------------------\\n'\n",
    "model_performance(model=clf, features=rbf_feature.fit_transform(X), target=y)"
   ]
  },
  {
   "cell_type": "code",
   "execution_count": null,
   "metadata": {
    "collapsed": true
   },
   "outputs": [],
   "source": []
  },
  {
   "cell_type": "code",
   "execution_count": 120,
   "metadata": {},
   "outputs": [
    {
     "name": "stdout",
     "output_type": "stream",
     "text": [
      "SGDClassifier  Classifier\n",
      "             precision    recall  f1-score   support\n",
      "\n",
      "   no click       0.64      0.69      0.67    125841\n",
      "      click       0.60      0.55      0.58    107336\n",
      "\n",
      "avg / total       0.62      0.63      0.62    233177\n",
      "\n",
      "[[86606 39235]\n",
      " [47879 59457]]\n",
      "\n",
      "-------------------------\n",
      "\n"
     ]
    }
   ],
   "source": [
    "clf = SGDClassifier()\n",
    "sgd_parameters = {'loss' : ['hinge', 'log', 'modified_huber', 'squared_hinge', 'perceptron'],\n",
    "                  'penalty' : ['none', 'l2', 'l1', 'elasticnet'],\n",
    "                  'alpha': [0.0001, 0.1, 1, 5, 10],\n",
    "                  'class_weight': ['auto']\n",
    "             }\n",
    "gs = GridSearchCV(clf, sgd_parameters)\n",
    "#clf = LogisticRegression(class_weight='auto')\n",
    "gs.fit(X_train, y_train.ravel())\n",
    "predictions = gs.predict(X_test)\n",
    "print str(clf).split('(')[0], ' Classifier'\n",
    "\n",
    "print classification_report(y_test, predictions, target_names=['no click','click'])\n",
    "print confusion_matrix(y_test, predictions)\n",
    "print '\\n-------------------------\\n'\n",
    "#model_performance(gs)"
   ]
  },
  {
   "cell_type": "code",
   "execution_count": null,
   "metadata": {
    "collapsed": true
   },
   "outputs": [],
   "source": []
  },
  {
   "cell_type": "code",
   "execution_count": 122,
   "metadata": {},
   "outputs": [
    {
     "data": {
      "text/plain": [
       "{'cv': None,\n",
       " 'error_score': 'raise',\n",
       " 'estimator': SGDClassifier(alpha=0.0001, average=False, class_weight=None, epsilon=0.1,\n",
       "        eta0=0.0, fit_intercept=True, l1_ratio=0.15,\n",
       "        learning_rate='optimal', loss='hinge', n_iter=5, n_jobs=1,\n",
       "        penalty='l2', power_t=0.5, random_state=None, shuffle=True,\n",
       "        verbose=0, warm_start=False),\n",
       " 'estimator__alpha': 0.0001,\n",
       " 'estimator__average': False,\n",
       " 'estimator__class_weight': None,\n",
       " 'estimator__epsilon': 0.1,\n",
       " 'estimator__eta0': 0.0,\n",
       " 'estimator__fit_intercept': True,\n",
       " 'estimator__l1_ratio': 0.15,\n",
       " 'estimator__learning_rate': 'optimal',\n",
       " 'estimator__loss': 'hinge',\n",
       " 'estimator__n_iter': 5,\n",
       " 'estimator__n_jobs': 1,\n",
       " 'estimator__penalty': 'l2',\n",
       " 'estimator__power_t': 0.5,\n",
       " 'estimator__random_state': None,\n",
       " 'estimator__shuffle': True,\n",
       " 'estimator__verbose': 0,\n",
       " 'estimator__warm_start': False,\n",
       " 'fit_params': {},\n",
       " 'iid': True,\n",
       " 'loss_func': None,\n",
       " 'n_jobs': 1,\n",
       " 'param_grid': {'alpha': [0.0001, 0.1, 1, 5, 10],\n",
       "  'class_weight': ['auto'],\n",
       "  'loss': ['hinge', 'log', 'modified_huber', 'squared_hinge', 'perceptron'],\n",
       "  'penalty': ['none', 'l2', 'l1', 'elasticnet']},\n",
       " 'pre_dispatch': '2*n_jobs',\n",
       " 'refit': True,\n",
       " 'score_func': None,\n",
       " 'scoring': None,\n",
       " 'verbose': 0}"
      ]
     },
     "execution_count": 122,
     "metadata": {},
     "output_type": "execute_result"
    }
   ],
   "source": [
    "gs.get_params()"
   ]
  },
  {
   "cell_type": "code",
   "execution_count": null,
   "metadata": {},
   "outputs": [],
   "source": [
    "clf = LogisticRegression()\n",
    "sgd_parameters = {'penalty' : ['l2', 'l1'],\n",
    "                  'solver': ['newton-cg', 'lbfgs', 'liblinear'],\n",
    "                  'C': [1.0, 0.5, 0.1],\n",
    "                  'class_weight': ['auto']\n",
    "             }\n",
    "gs = GridSearchCV(clf, sgd_parameters)\n",
    "gs.fit(X_train, y_train.ravel())\n",
    "predictions = gs.predict(X_test)\n",
    "print str(clf).split('(')[0], ' Classifier'\n",
    "\n",
    "print classification_report(y_test, predictions, target_names=['no click','click'])\n",
    "print confusion_matrix(y_test, predictions)\n",
    "print '\\n-------------------------\\n'\n",
    "#model_performance(gs)"
   ]
  },
  {
   "cell_type": "code",
   "execution_count": null,
   "metadata": {
    "collapsed": true
   },
   "outputs": [],
   "source": []
  },
  {
   "cell_type": "code",
   "execution_count": 98,
   "metadata": {},
   "outputs": [
    {
     "name": "stdout",
     "output_type": "stream",
     "text": [
      "SGDClassifier  Classifier\n",
      "             precision    recall  f1-score   support\n",
      "\n",
      "        0.0       0.64      0.54      0.59    125823\n",
      "        1.0       0.55      0.65      0.59    107354\n",
      "\n",
      "avg / total       0.60      0.59      0.59    233177\n",
      "\n",
      "[[67753 58070]\n",
      " [37466 69888]]\n",
      "\n",
      "-------------------------\n",
      "\n",
      "\n",
      "prediction counts\n",
      "1    279572\n",
      "0    232846\n",
      "dtype: int64\n",
      "\n",
      "total predicted  1024836\n",
      "revenue =  33548.64\n",
      "cost =  204.9672\n",
      "profit =  33343.6728\n"
     ]
    }
   ],
   "source": [
    "clf = SGDClassifier(class_weight='auto')\n",
    "#clf = LogisticRegression(class_weight='auto')\n",
    "clf.fit(X_train, y_train.ravel())\n",
    "predictions = clf.predict(X_test)\n",
    "print str(clf).split('(')[0], ' Classifier'\n",
    "\n",
    "print classification_report(y_test, predictions, target_names=['no click','click'])\n",
    "print confusion_matrix(y_test, predictions)\n",
    "print '\\n-------------------------\\n'\n",
    "model_performance()"
   ]
  },
  {
   "cell_type": "code",
   "execution_count": 97,
   "metadata": {},
   "outputs": [
    {
     "name": "stdout",
     "output_type": "stream",
     "text": [
      "\n",
      "prediction counts\n",
      "1    277164\n",
      "0    197314\n",
      "dtype: int64\n",
      "\n",
      "total predicted  948956\n",
      "revenue =  33259.68\n",
      "cost =  189.7912\n",
      "profit =  33069.8888\n"
     ]
    }
   ],
   "source": [
    "model_performance()"
   ]
  },
  {
   "cell_type": "code",
   "execution_count": null,
   "metadata": {
    "collapsed": true
   },
   "outputs": [],
   "source": []
  },
  {
   "cell_type": "code",
   "execution_count": null,
   "metadata": {
    "collapsed": true
   },
   "outputs": [],
   "source": []
  },
  {
   "cell_type": "code",
   "execution_count": null,
   "metadata": {
    "collapsed": true
   },
   "outputs": [],
   "source": []
  },
  {
   "cell_type": "code",
   "execution_count": null,
   "metadata": {
    "collapsed": true
   },
   "outputs": [],
   "source": []
  },
  {
   "cell_type": "code",
   "execution_count": null,
   "metadata": {
    "collapsed": true
   },
   "outputs": [],
   "source": []
  },
  {
   "cell_type": "code",
   "execution_count": null,
   "metadata": {
    "collapsed": true
   },
   "outputs": [],
   "source": []
  },
  {
   "cell_type": "code",
   "execution_count": null,
   "metadata": {
    "collapsed": true
   },
   "outputs": [],
   "source": []
  },
  {
   "cell_type": "code",
   "execution_count": null,
   "metadata": {
    "collapsed": true
   },
   "outputs": [],
   "source": []
  },
  {
   "cell_type": "code",
   "execution_count": null,
   "metadata": {
    "collapsed": true
   },
   "outputs": [],
   "source": []
  },
  {
   "cell_type": "code",
   "execution_count": null,
   "metadata": {
    "collapsed": true
   },
   "outputs": [],
   "source": []
  },
  {
   "cell_type": "code",
   "execution_count": 81,
   "metadata": {},
   "outputs": [
    {
     "name": "stdout",
     "output_type": "stream",
     "text": [
      "Decision Tree Classifier\n",
      "             precision    recall  f1-score   support\n",
      "\n",
      "        0.0       0.64      0.62      0.63    126357\n",
      "        1.0       0.57      0.60      0.58    106820\n",
      "\n",
      "avg / total       0.61      0.61      0.61    233177\n",
      "\n"
     ]
    }
   ],
   "source": [
    "clf = DecisionTreeClassifier()\n",
    "clf.fit(X_train, y_train)\n",
    "predictions = clf.predict(X_test)\n",
    "print 'Decision Tree Classifier'\n",
    "print classification_report(y_test, predictions)"
   ]
  },
  {
   "cell_type": "code",
   "execution_count": 82,
   "metadata": {},
   "outputs": [
    {
     "name": "stdout",
     "output_type": "stream",
     "text": [
      "RandomForest Classifier\n",
      "             precision    recall  f1-score   support\n",
      "\n",
      "        0.0       0.65      0.61      0.63    126357\n",
      "        1.0       0.57      0.60      0.59    106820\n",
      "\n",
      "avg / total       0.61      0.61      0.61    233177\n",
      "\n"
     ]
    }
   ],
   "source": [
    "clf = RandomForestClassifier(n_estimators=10)\n",
    "clf.fit(X_train, y_train.ravel())\n",
    "predictions = clf.predict(X_test)\n",
    "print 'RandomForest Classifier'\n",
    "print classification_report(y_test, predictions)"
   ]
  },
  {
   "cell_type": "code",
   "execution_count": 83,
   "metadata": {},
   "outputs": [
    {
     "name": "stdout",
     "output_type": "stream",
     "text": [
      "Gradient Boosting Classifier\n",
      "             precision    recall  f1-score   support\n",
      "\n",
      "        0.0       0.66      0.54      0.60    126357\n",
      "        1.0       0.55      0.68      0.61    106820\n",
      "\n",
      "avg / total       0.61      0.60      0.60    233177\n",
      "\n"
     ]
    }
   ],
   "source": [
    "clf = GradientBoostingClassifier()\n",
    "clf.fit(X_train, y_train.ravel())\n",
    "predictions = clf.predict(X_test)\n",
    "print 'Gradient Boosting Classifier'\n",
    "print classification_report(y_test, predictions)"
   ]
  },
  {
   "cell_type": "code",
   "execution_count": null,
   "metadata": {
    "collapsed": true
   },
   "outputs": [],
   "source": []
  },
  {
   "cell_type": "code",
   "execution_count": 16,
   "metadata": {},
   "outputs": [
    {
     "name": "stdout",
     "output_type": "stream",
     "text": [
      "Gradient Boosting Classifier\n",
      "             precision    recall  f1-score   support\n",
      "\n",
      "        0.0       0.91      0.00      0.00    258449\n",
      "        1.0       0.29      1.00      0.46    107894\n",
      "\n",
      "avg / total       0.73      0.29      0.13    366343\n",
      "\n"
     ]
    }
   ],
   "source": [
    "from sklearn.naive_bayes import GaussianNB\n",
    "clf = GaussianNB()\n",
    "clf.fit(X_train, y_train.ravel())\n",
    "predictions = clf.predict(X_test)\n",
    "print 'Gradient Boosting Classifier'\n",
    "print classification_report(y_test, predictions)"
   ]
  },
  {
   "cell_type": "code",
   "execution_count": null,
   "metadata": {
    "collapsed": true
   },
   "outputs": [],
   "source": []
  },
  {
   "cell_type": "code",
   "execution_count": 18,
   "metadata": {},
   "outputs": [
    {
     "name": "stdout",
     "output_type": "stream",
     "text": [
      "Extra Trees Classifier\n",
      "             precision    recall  f1-score   support\n",
      "\n",
      "        0.0       0.71      1.00      0.83    258449\n",
      "        1.0       1.00      0.00      0.00    107894\n",
      "\n",
      "avg / total       0.79      0.71      0.58    366343\n",
      "\n"
     ]
    }
   ],
   "source": [
    "clf = ExtraTreesClassifier()\n",
    "clf.fit(X_train, y_train.ravel())\n",
    "predictions = clf.predict(X_test)\n",
    "print 'Extra Trees Classifier'\n",
    "print classification_report(y_test, predictions)"
   ]
  },
  {
   "cell_type": "code",
   "execution_count": 17,
   "metadata": {},
   "outputs": [
    {
     "name": "stdout",
     "output_type": "stream",
     "text": [
      "Logistic Regression Classifier\n",
      "             precision    recall  f1-score   support\n",
      "\n",
      "        0.0       0.71      1.00      0.83    258449\n",
      "        1.0       1.00      0.00      0.00    107894\n",
      "\n",
      "avg / total       0.79      0.71      0.58    366343\n",
      "\n"
     ]
    }
   ],
   "source": [
    "clf = LogisticRegression()\n",
    "clf.fit(X_train, y_train.ravel())\n",
    "predictions = clf.predict(X_test)\n",
    "print 'Logistic Regression Classifier'\n",
    "print classification_report(y_test, predictions)"
   ]
  },
  {
   "cell_type": "code",
   "execution_count": null,
   "metadata": {
    "collapsed": true
   },
   "outputs": [],
   "source": []
  },
  {
   "cell_type": "code",
   "execution_count": null,
   "metadata": {
    "collapsed": true
   },
   "outputs": [],
   "source": [
    "# instantiate the model (using the value K=5)\n",
    "knn = KNeighborsClassifier(n_neighbors=2)\n",
    "knn.fit(X_train, y_train.ravel())\n",
    "predictions = knn.predict(X_test)\n",
    "print 'K Nearest Neighbor Regression Classifier'\n",
    "print classification_report(y_test, predictions)"
   ]
  },
  {
   "cell_type": "code",
   "execution_count": null,
   "metadata": {
    "collapsed": true
   },
   "outputs": [],
   "source": [
    "clf = SVC()\n",
    "clf.fit(X_train, y_train.ravel())\n",
    "predictions = clf.predict(X_test)\n",
    "print 'Support Vector Machines Classifier'\n",
    "print classification_report(y_test, predictions)"
   ]
  },
  {
   "cell_type": "code",
   "execution_count": 14,
   "metadata": {},
   "outputs": [
    {
     "name": "stdout",
     "output_type": "stream",
     "text": [
      "Support Vector Machines Classifier\n",
      "             precision    recall  f1-score   support\n",
      "\n",
      "        0.0       0.71      1.00      0.83    258949\n",
      "        1.0       0.67      0.00      0.00    107394\n",
      "\n",
      "avg / total       0.70      0.71      0.59    366343\n",
      "\n"
     ]
    }
   ],
   "source": [
    "clf = LinearSVC()\n",
    "clf.fit(X_train, y_train.ravel())\n",
    "predictions = clf.predict(X_test)\n",
    "print 'Support Vector Machines Classifier'\n",
    "print classification_report(y_test, predictions)"
   ]
  },
  {
   "cell_type": "code",
   "execution_count": 91,
   "metadata": {},
   "outputs": [
    {
     "name": "stdout",
     "output_type": "stream",
     "text": [
      "SGD Classifier\n",
      "             precision    recall  f1-score   support\n",
      "\n",
      "        0.0       0.96      1.00      0.98    224300\n",
      "        1.0       0.00      0.00      0.00      8877\n",
      "\n",
      "avg / total       0.93      0.96      0.94    233177\n",
      "\n"
     ]
    }
   ],
   "source": [
    "clf = SGDClassifier()\n",
    "clf.fit(X_train, y_train.ravel())\n",
    "predictions = clf.predict(X_test)\n",
    "print 'SGD Classifier'\n",
    "print classification_report(y_test, predictions)"
   ]
  },
  {
   "cell_type": "code",
   "execution_count": null,
   "metadata": {
    "collapsed": true
   },
   "outputs": [],
   "source": []
  },
  {
   "cell_type": "code",
   "execution_count": null,
   "metadata": {
    "collapsed": true
   },
   "outputs": [],
   "source": [
    "from sklearn.cross_validation import KFold\n",
    "\n",
    "def run_cv(X,y,clf_class,**kwargs):\n",
    "    # Construct a kfolds object\n",
    "    kf = KFold(len(y),n_folds=5,shuffle=True)\n",
    "    y_pred = y.copy()\n",
    "    # Iterate through folds\n",
    "    for train_index, test_index in kf:\n",
    "        X_train, X_test = X[train_index], X[test_index]\n",
    "        y_train = y[train_index]\n",
    "        # Initialize a classifier with key word arguments\n",
    "        clf = clf_class(**kwargs)\n",
    "        clf.fit(X_train,y_train)\n",
    "        y_pred[test_index] = clf.predict(X_test)\n",
    "    return y_pred\n",
    "\n",
    "def accuracy(y_true,y_pred):\n",
    "    # NumPy interprets True and False as 1. and 0.\n",
    "    return np.mean(y_true == y_pred)\n",
    "\n",
    "print \"Random forest:\"\n",
    "print \"%.3f\" % accuracy(y, run_cv(X,y,GradientBoostingClassifier))\n"
   ]
  },
  {
   "cell_type": "code",
   "execution_count": 10,
   "metadata": {
    "collapsed": true
   },
   "outputs": [],
   "source": [
    "from sklearn.cross_validation import KFold\n",
    "\n",
    "def run_cv(X,y,clf_class,**kwargs):\n",
    "    # Construct a kfolds object\n",
    "    kf = KFold(len(y),n_folds=5,shuffle=True)\n",
    "    y_pred = y.copy()\n",
    "    \n",
    "    # Iterate through folds\n",
    "    for train_index, test_index in kf:\n",
    "        X_train, X_test = X[train_index], X[test_index]\n",
    "        y_train = y[train_index]\n",
    "        # Initialize a classifier with key word arguments\n",
    "        clf = clf_class(**kwargs)\n",
    "        clf.fit(X_train,y_train)\n",
    "        y_pred[test_index] = clf.predict(X_test)\n",
    "    return y_pred"
   ]
  },
  {
   "cell_type": "code",
   "execution_count": null,
   "metadata": {},
   "outputs": [],
   "source": [
    "from sklearn.svm import SVC\n",
    "from sklearn.ensemble import RandomForestClassifier as RF\n",
    "from sklearn.neighbors import KNeighborsClassifier as KNN\n",
    "from sklearn.linear_model import LogisticRegression as LR\n",
    "\n",
    "def accuracy(y_true,y_pred):\n",
    "    # NumPy interprets True and False as 1. and 0.\n",
    "    return np.mean(y_true == y_pred)\n",
    "\n",
    "#print \"Support vector machines:\"\n",
    "#print \"%.3f\" % accuracy(y, run_cv(X,y,SVC))\n",
    "print \"Random forest:\"\n",
    "print \"%.3f\" % accuracy(y, run_cv(X,y,RF))\n",
    "print \"K-nearest-neighbors:\"\n",
    "print \"%.3f\" % accuracy(y, run_cv(X,y,KNN))\n",
    "print \"Logistic Regression:\"\n",
    "print \"%.3f\" % accuracy(y, run_cv(X,y,LR))"
   ]
  },
  {
   "cell_type": "code",
   "execution_count": null,
   "metadata": {
    "collapsed": true
   },
   "outputs": [],
   "source": []
  },
  {
   "cell_type": "code",
   "execution_count": 13,
   "metadata": {
    "collapsed": true
   },
   "outputs": [],
   "source": [
    "def run_prob_cv(X, y, clf_class, **kwargs):\n",
    "    kf = KFold(len(y), n_folds=5, shuffle=True)\n",
    "    y_prob = np.zeros((len(y),2))\n",
    "    for train_index, test_index in kf:\n",
    "        X_train, X_test = X[train_index], X[test_index]\n",
    "        y_train = y[train_index]\n",
    "        clf = clf_class(**kwargs)\n",
    "        clf.fit(X_train,y_train)\n",
    "        # Predict probabilities, not classes\n",
    "        y_prob[test_index] = clf.predict_proba(X_test)\n",
    "    return y_prob"
   ]
  },
  {
   "cell_type": "code",
   "execution_count": null,
   "metadata": {
    "collapsed": true
   },
   "outputs": [],
   "source": [
    "# Use 10 estimators so predictions are all multiples of 0.1\n",
    "pred_prob = run_prob_cv(X, y, RF, n_estimators=10)\n",
    "pred_churn = pred_prob[:,1]\n",
    "is_churn = y == 1\n",
    "\n",
    "# Number of times a predicted probability is assigned to an observation\n",
    "counts = pd.value_counts(pred_churn)\n",
    "\n",
    "# calculate true probabilities\n",
    "true_prob = {}\n",
    "for prob in counts.index:\n",
    "    true_prob[prob] = np.mean(is_churn[pred_churn == prob])\n",
    "    true_prob = pd.Series(true_prob)\n",
    "\n",
    "# pandas-fu\n",
    "counts = pd.concat([counts,true_prob], axis=1).reset_index()\n",
    "counts.columns = ['pred_prob', 'count', 'true_prob']\n",
    "counts"
   ]
  },
  {
   "cell_type": "code",
   "execution_count": null,
   "metadata": {
    "collapsed": true
   },
   "outputs": [],
   "source": []
  },
  {
   "cell_type": "code",
   "execution_count": null,
   "metadata": {
    "collapsed": true
   },
   "outputs": [],
   "source": [
    "# Now running the predictions based on the model we created\n",
    "model = \n",
    "model.fit(X)\n",
    "predictions = model.predict(X)\n",
    "predictions.value_counts()\n"
   ]
  },
  {
   "cell_type": "code",
   "execution_count": null,
   "metadata": {
    "collapsed": true
   },
   "outputs": [],
   "source": []
  },
  {
   "cell_type": "code",
   "execution_count": null,
   "metadata": {
    "collapsed": true
   },
   "outputs": [],
   "source": []
  },
  {
   "cell_type": "code",
   "execution_count": 35,
   "metadata": {},
   "outputs": [
    {
     "name": "stdout",
     "output_type": "stream",
     "text": [
      "Brier scores: (the smaller the better)\n"
     ]
    }
   ],
   "source": [
    "from sklearn.naive_bayes import GaussianNB\n",
    "from sklearn.metrics import brier_score_loss\n",
    "from sklearn.calibration import CalibratedClassifierCV\n",
    "from sklearn.cross_validation import train_test_split\n",
    "\n",
    "sample_weight = np.random.RandomState(42).rand(y.shape[0])\n",
    "\n",
    "# split train, test for calibration\n",
    "X_train, X_test, y_train, y_test, sw_train, sw_test = \\\n",
    "    train_test_split(X, y, sample_weight, test_size=0.9, random_state=42)\n",
    "\n",
    "# Gaussian Naive-Bayes with no calibration\n",
    "clf = GaussianNB()\n",
    "clf.fit(X_train, y_train)  # GaussianNB itself does not support sample-weights\n",
    "prob_pos_clf = clf.predict_proba(X_test)[:, 1]\n",
    "\n",
    "# Gaussian Naive-Bayes with isotonic calibration\n",
    "clf_isotonic = CalibratedClassifierCV(clf, cv=2, method='isotonic')\n",
    "clf_isotonic.fit(X_train, y_train, sw_train)\n",
    "#prob_pos_isotonic = clf_isotonic.predict_proba(X_test)[:, 1]\n",
    "\n",
    "# Gaussian Naive-Bayes with sigmoid calibration\n",
    "clf_sigmoid = CalibratedClassifierCV(clf, cv=2, method='sigmoid')\n",
    "clf_sigmoid.fit(X_train, y_train, sw_train)\n",
    "#prob_pos_sigmoid = clf_sigmoid.predict_proba(X_test)[:, 1]\n",
    "\n",
    "print(\"Brier scores: (the smaller the better)\")\n",
    "#clf_score = brier_score_loss(y_test, prob_pos_clf, sw_test)\n",
    "#print(\"No calibration: %1.3f\" % clf_score)\n",
    "\n",
    "#clf_isotonic_score = brier_score_loss(y_test, prob_pos_isotonic, sw_test)\n",
    "#print(\"With isotonic calibration: %1.3f\" % clf_isotonic_score)\n",
    "\n",
    "#clf_sigmoid_score = brier_score_loss(y_test, prob_pos_sigmoid, sw_test)\n",
    "#print(\"With sigmoid calibration: %1.3f\" % clf_sigmoid_score)"
   ]
  },
  {
   "cell_type": "code",
   "execution_count": 38,
   "metadata": {},
   "outputs": [
    {
     "name": "stdout",
     "output_type": "stream",
     "text": [
      "CalibratedClassifierCV  Classifier\n",
      "             precision    recall  f1-score   support\n",
      "\n",
      "   no click       0.71      0.35      0.47    453585\n",
      "      click       0.52      0.83      0.64    385851\n",
      "\n",
      "avg / total       0.62      0.57      0.55    839436\n",
      "\n",
      "[[158828 294757]\n",
      " [ 64895 320956]]\n",
      "\n",
      "-------------------------\n",
      "\n",
      "\n",
      "prediction counts\n",
      "1    356822\n",
      "0    327136\n",
      "dtype: int64\n",
      "\n",
      "total predicted  1367916\n",
      "revenue =  42818.64\n",
      "cost =  273.5832\n",
      "profit =  42545.0568\n"
     ]
    }
   ],
   "source": [
    "predictions = clf_sigmoid.predict(X_test)\n",
    "print str(clf_sigmoid).split('(')[0], ' Classifier'\n",
    "\n",
    "print classification_report(y_test, predictions, target_names=['no click','click'])\n",
    "print confusion_matrix(y_test, predictions)\n",
    "print '\\n-------------------------\\n'\n",
    "model_performance(model=clf_sigmoid, features=X, target=y)"
   ]
  },
  {
   "cell_type": "code",
   "execution_count": 39,
   "metadata": {},
   "outputs": [
    {
     "name": "stdout",
     "output_type": "stream",
     "text": [
      "CalibratedClassifierCV  Classifier\n",
      "             precision    recall  f1-score   support\n",
      "\n",
      "   no click       0.70      0.37      0.49    453585\n",
      "      click       0.53      0.81      0.64    385851\n",
      "\n",
      "avg / total       0.62      0.58      0.56    839436\n",
      "\n",
      "[[169788 283797]\n",
      " [ 71518 314333]]\n",
      "\n",
      "-------------------------\n",
      "\n",
      "\n",
      "prediction counts\n",
      "1    349483\n",
      "0    314965\n",
      "dtype: int64\n",
      "\n",
      "total predicted  1328896\n",
      "revenue =  41937.96\n",
      "cost =  265.7792\n",
      "profit =  41672.1808\n"
     ]
    }
   ],
   "source": [
    "predictions = clf_isotonic.predict(X_test)\n",
    "print str(clf_isotonic).split('(')[0], ' Classifier'\n",
    "\n",
    "print classification_report(y_test, predictions, target_names=['no click','click'])\n",
    "print confusion_matrix(y_test, predictions)\n",
    "print '\\n-------------------------\\n'\n",
    "model_performance(model=clf_isotonic, features=X, target=y)"
   ]
  },
  {
   "cell_type": "code",
   "execution_count": 40,
   "metadata": {},
   "outputs": [
    {
     "name": "stdout",
     "output_type": "stream",
     "text": [
      "GaussianNB  Classifier\n",
      "             precision    recall  f1-score   support\n",
      "\n",
      "   no click       0.71      0.36      0.47    453585\n",
      "      click       0.52      0.83      0.64    385851\n",
      "\n",
      "avg / total       0.62      0.57      0.55    839436\n",
      "\n",
      "[[162003 291582]\n",
      " [ 66873 318978]]\n",
      "\n",
      "-------------------------\n",
      "\n",
      "\n",
      "prediction counts\n",
      "1    354643\n",
      "0    323596\n",
      "dtype: int64\n",
      "\n",
      "total predicted  1356478\n",
      "revenue =  42557.16\n",
      "cost =  271.2956\n",
      "profit =  42285.8644\n"
     ]
    }
   ],
   "source": [
    "predictions = clf.predict(X_test)\n",
    "print str(clf).split('(')[0], ' Classifier'\n",
    "\n",
    "print classification_report(y_test, predictions, target_names=['no click','click'])\n",
    "print confusion_matrix(y_test, predictions)\n",
    "print '\\n-------------------------\\n'\n",
    "model_performance(model=clf, features=X, target=y)"
   ]
  },
  {
   "cell_type": "code",
   "execution_count": null,
   "metadata": {
    "collapsed": true
   },
   "outputs": [],
   "source": []
  }
 ],
 "metadata": {
  "kernelspec": {
   "display_name": "Python 2",
   "language": "python",
   "name": "python2"
  },
  "language_info": {
   "codemirror_mode": {
    "name": "ipython",
    "version": 2
   },
   "file_extension": ".py",
   "mimetype": "text/x-python",
   "name": "python",
   "nbconvert_exporter": "python",
   "pygments_lexer": "ipython2",
   "version": "2.7.13"
  }
 },
 "nbformat": 4,
 "nbformat_minor": 1
}
