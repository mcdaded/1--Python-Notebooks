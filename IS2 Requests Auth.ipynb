{
 "cells": [
  {
   "cell_type": "code",
   "execution_count": 7,
   "metadata": {
    "collapsed": true
   },
   "outputs": [],
   "source": [
    "import requests\n",
    "from lxml import html\n",
    "from bs4 import BeautifulSoup\n",
    "import pandas as pd\n",
    "import numpy as np\n",
    "import os\n",
    "import yaml\n",
    "from tqdm import tqdm"
   ]
  },
  {
   "cell_type": "code",
   "execution_count": 8,
   "metadata": {
    "collapsed": false
   },
   "outputs": [],
   "source": [
    "login_payload = {\n",
    "    'id__email': 'dmcdade@insightsquared.com',\n",
    "    'id__password': 'skLETTY2011#'\n",
    "}"
   ]
  },
  {
   "cell_type": "code",
   "execution_count": 9,
   "metadata": {
    "collapsed": false
   },
   "outputs": [],
   "source": [
    "def get_token(session, login_url='https://clients.insightsquared.com/login/'):\n",
    "    # get the unique token code\n",
    "    login_resp = session.get(login_url)\n",
    "    return BeautifulSoup(login_resp.text, 'lxml').find('input', attrs={'name': 'csrfmiddlewaretoken'}).attrs['value']\n",
    "\n",
    "def login(payload=login_payload):\n",
    "    # begin a web session and visit the IS2 webpage\n",
    "    session = requests.session()\n",
    "    login_url='https://clients.insightsquared.com/login/'\n",
    "    token = get_token(session)\n",
    "    payload['csrfmiddlewaretoken'] = token  # append token to payload dict\n",
    "    # get an authenticated session and verity results\n",
    "    login_response = session.post(\n",
    "        login_url, \n",
    "        data=payload, \n",
    "        headers=dict(referer=login_url)\n",
    "    )\n",
    "    # check that the login worked\n",
    "    print BeautifulSoup(login_response.text, 'lxml').find('title')\n",
    "    print get_client_details(login_response)\n",
    "    return session, token\n",
    "\n",
    "def get_client_details(base_page):\n",
    "    client_picker = BeautifulSoup(base_page.text, 'lxml').find('client-picker').attrs['params']\n",
    "    client_yaml = yaml.load(client_picker[16:].replace('}', '') + '}')  # need to deal with crummy string formatting\n",
    "    # client_yaml['abbreviation'], client_yaml['id'], client_yaml['name'], client_yaml['site'] \n",
    "    return client_yaml"
   ]
  },
  {
   "cell_type": "code",
   "execution_count": 10,
   "metadata": {
    "collapsed": false
   },
   "outputs": [
    {
     "name": "stdout",
     "output_type": "stream",
     "text": [
      "<title> My Dashboard | InsightSquared</title>\n",
      "{'abbreviation': 'CDI', 'id': 3561, 'name': 'CDI', 'site_url': 'https://clients.insightsquared.com/'}\n"
     ]
    }
   ],
   "source": [
    "session, token = login()"
   ]
  },
  {
   "cell_type": "code",
   "execution_count": 11,
   "metadata": {
    "collapsed": true
   },
   "outputs": [],
   "source": [
    "def get_available_tags(auth_session=session):\n",
    "    url = 'https://clients.insightsquared.com/settings/tags/Employee'\n",
    "    response = auth_session.get(url)\n",
    "    page_soup = BeautifulSoup(response.text, 'lxml')\n",
    "    existing_tags = page_soup.find('ul', attrs={'class': 'available_tags'}).findAll('p', attrs={'class': 'tag_name'})\n",
    "    return [tag.text for tag in existing_tags]\n",
    "\n",
    "def get_user_selected_tags(auth_session=session):\n",
    "    url = 'https://clients.insightsquared.com/settings/tags/Employee'\n",
    "    response = auth_session.get(url)\n",
    "    page_soup = BeautifulSoup(response.text, 'lxml')\n",
    "    employee_tag_list = []\n",
    "    # get each of the employees and the details\n",
    "    employee_tag_table = page_soup.find('table', attrs={'class': 'blist clear'}).findAll('tr')[1:]\n",
    "    for employee_row in employee_tag_table:\n",
    "        employee_details_list = []\n",
    "        employee, emp_id = [col.text for col in employee_row.findAll('td', attrs={'class': 'name_column'})]\n",
    "        tag_list = employee_row.findAll('li')\n",
    "        for tag in tag_list:\n",
    "            selected = True if tag.attrs['class'] == ['selected_tag', 'tag'] else False\n",
    "            url = tag.find('a').attrs['data-href']\n",
    "            tag_name = tag.find('a').text\n",
    "            employee_details_list = employee_details_list + [[employee, emp_id, tag_name, selected, url]]\n",
    "        employee_tag_list = employee_tag_list + employee_details_list\n",
    "    return pd.DataFrame(employee_tag_list, columns=['name', 'id', 'tag_name', 'selected', 'url'])"
   ]
  },
  {
   "cell_type": "code",
   "execution_count": 12,
   "metadata": {
    "collapsed": true
   },
   "outputs": [],
   "source": [
    "# https://clients.insightsquared.com/settings/users/access_groups/\n",
    "tag_page_url = 'https://clients.insightsquared.com/settings/tags/Employee'\n",
    "tags = session.get(tag_page_url)\n",
    "client_details_yaml = get_client_details(tags)  # get the client id and client name for the portal that we are currently in"
   ]
  },
  {
   "cell_type": "markdown",
   "metadata": {},
   "source": [
    "# check some of the values "
   ]
  },
  {
   "cell_type": "code",
   "execution_count": 259,
   "metadata": {
    "collapsed": false
   },
   "outputs": [
    {
     "data": {
      "text/plain": [
       "[u'AECOM URS',\n",
       " u'Applications',\n",
       " u'Applications and Project Resources',\n",
       " u'Apps Development',\n",
       " u'Arizona',\n",
       " u'ATL Recruiting Multiple',\n",
       " u'Atlanta',\n",
       " u'Beth Alex',\n",
       " u'Bombardier Ericsson',\n",
       " u'Business Inteligence',\n",
       " u'Business Intelligence',\n",
       " u'Calgary',\n",
       " u'California',\n",
       " u'Canada',\n",
       " u'Canada Staffing',\n",
       " u'Cary NC',\n",
       " u'Cindy Greenbaum',\n",
       " u'Cross Lanes',\n",
       " u'Dallas',\n",
       " u'Darren Simmons',\n",
       " u'Direct Hire',\n",
       " u'Direct Hire Recruiter',\n",
       " u'Eastern Canada',\n",
       " u'Edgerock',\n",
       " u'Edgerock Lite',\n",
       " u'Edgerock Lite Class 2',\n",
       " u'EdgeRock National Sales',\n",
       " u'Emerson Curtis Wright',\n",
       " u'Emerson Lyondell AECOM',\n",
       " u'Engagement Lead',\n",
       " u'Engineering',\n",
       " u'Enterprise',\n",
       " u'Enterprise IBM',\n",
       " u'Enterprise Non IBM',\n",
       " u'Enterprise Program',\n",
       " u'Ericsson',\n",
       " u'Ericsson IBM',\n",
       " u'Erin Medlin',\n",
       " u'ERP',\n",
       " u'ERP Business Intel',\n",
       " u'GETS',\n",
       " u'Grand Rapids',\n",
       " u'Gulf Atlantic Multiple',\n",
       " u'HCL',\n",
       " u'Hugo Milan',\n",
       " u'IBM',\n",
       " u'IBM Siemens',\n",
       " u'Illinois',\n",
       " u'Indiana',\n",
       " u'Infrastructure',\n",
       " u'Irvine',\n",
       " u'Jr Recruiter',\n",
       " u'Junior Recruiter',\n",
       " u'Justin Twist',\n",
       " u'Las Vegas',\n",
       " u'Lead Recruiter',\n",
       " u'Major Apps Development',\n",
       " u'Major Business Inteligence',\n",
       " u'Major Engineering',\n",
       " u'Major ERP',\n",
       " u'Major Infrastructure',\n",
       " u'Major Other General',\n",
       " u'Major Project Resources',\n",
       " u'Major Tech Support',\n",
       " u'Managed Programs',\n",
       " u'Midwest Multiple',\n",
       " u'Mike Aloupis',\n",
       " u'Minor Apps Development',\n",
       " u'Minor Business Inteligence',\n",
       " u'Minor Engineering',\n",
       " u'Minor ERP',\n",
       " u'Minor Infrastructure',\n",
       " u'Minor Other General',\n",
       " u'Minor Project Resources',\n",
       " u'Minor Tech Support',\n",
       " u'Mississauga',\n",
       " u'Montreal',\n",
       " u'Multi Clients Direct Hire',\n",
       " u'New York',\n",
       " u'North Carolina',\n",
       " u'Off Shore',\n",
       " u'Ohio',\n",
       " u'On Shore',\n",
       " u'On Site',\n",
       " u'Other General',\n",
       " u'Parker',\n",
       " u'Parker LI',\n",
       " u'Pensylvania',\n",
       " u'Philadelphia',\n",
       " u'Pointe Claire',\n",
       " u'Project Resource',\n",
       " u'Project Resources',\n",
       " u'PSG',\n",
       " u'Recruiter',\n",
       " u'Schneider Electric Invensys',\n",
       " u'Schneider Electric Invensys Teradyne LI',\n",
       " u'Screener',\n",
       " u'Seattle',\n",
       " u'Sherry Norfleet',\n",
       " u'Siemens',\n",
       " u'Siemens Phillips',\n",
       " u'Sourcer',\n",
       " u'Specialty',\n",
       " u'Team Amy Nelson',\n",
       " u'Team Anielka Barrow',\n",
       " u'Team Brian Mauch',\n",
       " u'Team Catherine Belgrave',\n",
       " u'Team Chad Weatherall',\n",
       " u'Team Crystal Meyers',\n",
       " u'Team Darren Simmons',\n",
       " u'Team Eric Jaquith',\n",
       " u'Team Hugo Milan',\n",
       " u'Team Jim Godfrey',\n",
       " u'Team Keeran Persaud',\n",
       " u'Team Kim White',\n",
       " u'Team Lakiya Carter',\n",
       " u'Team Lead',\n",
       " u'Team Mike Aloupis',\n",
       " u'Team Nikki Diman',\n",
       " u'Team Sherry Norfleet',\n",
       " u'Team Taylor Grimes',\n",
       " u'Tech Sol Multiple',\n",
       " u'Tech Solutions',\n",
       " u'Tech Support',\n",
       " u'Teradyne',\n",
       " u'Texas',\n",
       " u'Toronto',\n",
       " u'Troy',\n",
       " u'TTS',\n",
       " u'US',\n",
       " u'US Fulfillment',\n",
       " u'US Staffing',\n",
       " u'UTC Disney Lyondell',\n",
       " u'Virtual',\n",
       " u'Vision Beyond',\n",
       " u'West Canada',\n",
       " u'West Google',\n",
       " u'West Multiple',\n",
       " u'West Western Union',\n",
       " u'Z Test']"
      ]
     },
     "execution_count": 259,
     "metadata": {},
     "output_type": "execute_result"
    }
   ],
   "source": [
    "existing_tags = get_available_tags()"
   ]
  },
  {
   "cell_type": "code",
   "execution_count": 260,
   "metadata": {
    "collapsed": true
   },
   "outputs": [],
   "source": [
    "employee_tag_list = get_user_selected_tags()"
   ]
  },
  {
   "cell_type": "code",
   "execution_count": 261,
   "metadata": {
    "collapsed": false
   },
   "outputs": [
    {
     "data": {
      "text/html": [
       "<div>\n",
       "<table border=\"1\" class=\"dataframe\">\n",
       "  <thead>\n",
       "    <tr style=\"text-align: right;\">\n",
       "      <th></th>\n",
       "      <th>name</th>\n",
       "      <th>id</th>\n",
       "      <th>tag_name</th>\n",
       "      <th>selected</th>\n",
       "      <th>url</th>\n",
       "    </tr>\n",
       "  </thead>\n",
       "  <tbody>\n",
       "    <tr>\n",
       "      <th>0</th>\n",
       "      <td>Aaron Yuhas</td>\n",
       "      <td>9145459</td>\n",
       "      <td>AECOM URS</td>\n",
       "      <td>False</td>\n",
       "      <td>/tag/toggle/AECOM%20URS/Employee/BH_9145459/</td>\n",
       "    </tr>\n",
       "    <tr>\n",
       "      <th>1</th>\n",
       "      <td>Aaron Yuhas</td>\n",
       "      <td>9145459</td>\n",
       "      <td>Applications</td>\n",
       "      <td>False</td>\n",
       "      <td>/tag/toggle/Applications/Employee/BH_9145459/</td>\n",
       "    </tr>\n",
       "    <tr>\n",
       "      <th>2</th>\n",
       "      <td>Aaron Yuhas</td>\n",
       "      <td>9145459</td>\n",
       "      <td>Applications and Project Resources</td>\n",
       "      <td>False</td>\n",
       "      <td>/tag/toggle/Applications%20and%20Project%20Res...</td>\n",
       "    </tr>\n",
       "    <tr>\n",
       "      <th>3</th>\n",
       "      <td>Aaron Yuhas</td>\n",
       "      <td>9145459</td>\n",
       "      <td>Apps Development</td>\n",
       "      <td>False</td>\n",
       "      <td>/tag/toggle/Apps%20Development/Employee/BH_914...</td>\n",
       "    </tr>\n",
       "    <tr>\n",
       "      <th>4</th>\n",
       "      <td>Aaron Yuhas</td>\n",
       "      <td>9145459</td>\n",
       "      <td>Arizona</td>\n",
       "      <td>False</td>\n",
       "      <td>/tag/toggle/Arizona/Employee/BH_9145459/</td>\n",
       "    </tr>\n",
       "  </tbody>\n",
       "</table>\n",
       "</div>"
      ],
      "text/plain": [
       "          name       id                            tag_name selected  \\\n",
       "0  Aaron Yuhas  9145459                           AECOM URS    False   \n",
       "1  Aaron Yuhas  9145459                        Applications    False   \n",
       "2  Aaron Yuhas  9145459  Applications and Project Resources    False   \n",
       "3  Aaron Yuhas  9145459                    Apps Development    False   \n",
       "4  Aaron Yuhas  9145459                             Arizona    False   \n",
       "\n",
       "                                                 url  \n",
       "0       /tag/toggle/AECOM%20URS/Employee/BH_9145459/  \n",
       "1      /tag/toggle/Applications/Employee/BH_9145459/  \n",
       "2  /tag/toggle/Applications%20and%20Project%20Res...  \n",
       "3  /tag/toggle/Apps%20Development/Employee/BH_914...  \n",
       "4           /tag/toggle/Arizona/Employee/BH_9145459/  "
      ]
     },
     "execution_count": 261,
     "metadata": {},
     "output_type": "execute_result"
    }
   ],
   "source": [
    "employee_tag_list.head()"
   ]
  },
  {
   "cell_type": "code",
   "execution_count": 262,
   "metadata": {
    "collapsed": false
   },
   "outputs": [
    {
     "data": {
      "text/html": [
       "<div>\n",
       "<table border=\"1\" class=\"dataframe\">\n",
       "  <thead>\n",
       "    <tr style=\"text-align: right;\">\n",
       "      <th></th>\n",
       "      <th>name</th>\n",
       "      <th>id</th>\n",
       "      <th>tag_name</th>\n",
       "      <th>selected</th>\n",
       "      <th>url</th>\n",
       "    </tr>\n",
       "  </thead>\n",
       "  <tbody>\n",
       "    <tr>\n",
       "      <th>19</th>\n",
       "      <td>Aaron Yuhas</td>\n",
       "      <td>9145459</td>\n",
       "      <td>Darren Simmons</td>\n",
       "      <td>True</td>\n",
       "      <td>/tag/toggle/Darren%20Simmons/Employee/BH_9145459/</td>\n",
       "    </tr>\n",
       "    <tr>\n",
       "      <th>33</th>\n",
       "      <td>Aaron Yuhas</td>\n",
       "      <td>9145459</td>\n",
       "      <td>Enterprise Non IBM</td>\n",
       "      <td>True</td>\n",
       "      <td>/tag/toggle/Enterprise%20Non%20IBM/Employee/BH...</td>\n",
       "    </tr>\n",
       "    <tr>\n",
       "      <th>44</th>\n",
       "      <td>Aaron Yuhas</td>\n",
       "      <td>9145459</td>\n",
       "      <td>Hugo Milan</td>\n",
       "      <td>True</td>\n",
       "      <td>/tag/toggle/Hugo%20Milan/Employee/BH_9145459/</td>\n",
       "    </tr>\n",
       "    <tr>\n",
       "      <th>60</th>\n",
       "      <td>Aaron Yuhas</td>\n",
       "      <td>9145459</td>\n",
       "      <td>Major Infrastructure</td>\n",
       "      <td>True</td>\n",
       "      <td>/tag/toggle/Major%20Infrastructure/Employee/BH...</td>\n",
       "    </tr>\n",
       "    <tr>\n",
       "      <th>65</th>\n",
       "      <td>Aaron Yuhas</td>\n",
       "      <td>9145459</td>\n",
       "      <td>Midwest Multiple</td>\n",
       "      <td>True</td>\n",
       "      <td>/tag/toggle/Midwest%20Multiple/Employee/BH_914...</td>\n",
       "    </tr>\n",
       "  </tbody>\n",
       "</table>\n",
       "</div>"
      ],
      "text/plain": [
       "           name       id              tag_name selected  \\\n",
       "19  Aaron Yuhas  9145459        Darren Simmons     True   \n",
       "33  Aaron Yuhas  9145459    Enterprise Non IBM     True   \n",
       "44  Aaron Yuhas  9145459            Hugo Milan     True   \n",
       "60  Aaron Yuhas  9145459  Major Infrastructure     True   \n",
       "65  Aaron Yuhas  9145459      Midwest Multiple     True   \n",
       "\n",
       "                                                  url  \n",
       "19  /tag/toggle/Darren%20Simmons/Employee/BH_9145459/  \n",
       "33  /tag/toggle/Enterprise%20Non%20IBM/Employee/BH...  \n",
       "44      /tag/toggle/Hugo%20Milan/Employee/BH_9145459/  \n",
       "60  /tag/toggle/Major%20Infrastructure/Employee/BH...  \n",
       "65  /tag/toggle/Midwest%20Multiple/Employee/BH_914...  "
      ]
     },
     "execution_count": 262,
     "metadata": {},
     "output_type": "execute_result"
    }
   ],
   "source": [
    "employee_tag_list[employee_tag_list['selected']].head()  # which filters are selected for specific users"
   ]
  },
  {
   "cell_type": "markdown",
   "metadata": {},
   "source": [
    "# Formatting and headers "
   ]
  },
  {
   "cell_type": "code",
   "execution_count": 13,
   "metadata": {
    "collapsed": false
   },
   "outputs": [],
   "source": [
    "session_cookies = session.cookies.get_dict()\n",
    "\n",
    "cookies = {\n",
    "    'csrftoken': session_cookies['csrftoken'],\n",
    "    '__utma': '99182412.1401600144.1444310363.1464213977.1464711194.9',\n",
    "    '__utmz': '99182412.1454080917.6.5.utmcsr=insightsquared.com|utmccn=(referral)|utmcmd=referral|utmcct=/saas-benchmarking-2016/',\n",
    "    'is2_welcome_tour': '%7B%22is_open%22%3A%22%22%2C%22current_step%22%3A%22%22%7D',\n",
    "    'optimizelySegments': '%7B%221022955017%22%3A%22ff%22%2C%221024034951%22%3A%22false%22%2C%221030194866%22%3A%22referral%22%7D',\n",
    "    'optimizelyEndUserId': 'oeu1448979321867r0.48276709385018957',\n",
    "    'optimizelyBuckets': '%7B%223507080702%22%3A%223521680223%22%7D',\n",
    "    'insight': '%7B%22referrer%22%3A%22Direct%22%7D',\n",
    "    '_mkto_trk': 'id:054-ACZ-798&token:_mch-insightsquared.com-1448979324826-81180',\n",
    "    '_ga': 'GA1.2.1718304047.1448979325',\n",
    "    'ei_client_id': '570f88657962fb1100fb903e',\n",
    "    'mp_b7fbb2e376692a71698232012abd84f1_mixpanel': '%7B%22distinct_id%22%3A%20%221515de5d9c753f-0b5bcf759bdab38-46534131-100200-1515de5d9c8612%22%2C%22%24initial_referrer%22%3A%20%22%24direct%22%2C%22%24initial_referring_domain%22%3A%20%22%24direct%22%2C%22utm_medium%22%3A%20%22email%22%7D',\n",
    "    '__cfduid': 'dfc858bb8c30f61f564efc124352ea9561458741396',\n",
    "    'sessionid': session_cookies['sessionid'],\n",
    "    '__utmb': '99182412.3.10.1464711194',\n",
    "    '__utmc': '99182412',\n",
    "    '__utmt': '1',\n",
    "}\n",
    "\n",
    "headers = {\n",
    "    'Accept': '*/*',\n",
    "    'Accept-Encoding': 'gzip, deflate, br',\n",
    "    'Accept-Language': 'en-US,en;q=0.5',\n",
    "    'Connection': 'keep-alive',\n",
    "    'Content-Type': 'application/x-www-form-urlencoded; charset=UTF-8',\n",
    "    'Host': 'clients.insightsquared.com',\n",
    "    'Referer': 'https://clients.insightsquared.com/settings/tags/Employee/',\n",
    "    'User-Agent': 'Mozilla/5.0 (Windows NT 10.0; WOW64; rv:46.0) Gecko/20100101 Firefox/46.0',\n",
    "    'X-CSRFToken': session_cookies['csrftoken'],\n",
    "    'X-ClientId': client_details_yaml['id'],\n",
    "    'X-Requested-With': 'XMLHttpRequest',\n",
    "}"
   ]
  },
  {
   "cell_type": "markdown",
   "metadata": {},
   "source": [
    "# Create New Tag"
   ]
  },
  {
   "cell_type": "code",
   "execution_count": null,
   "metadata": {
    "collapsed": true
   },
   "outputs": [],
   "source": [
    "### When the name has spaces use '+'"
   ]
  },
  {
   "cell_type": "code",
   "execution_count": 216,
   "metadata": {
    "collapsed": false
   },
   "outputs": [
    {
     "name": "stdout",
     "output_type": "stream",
     "text": [
      "<Response [200]>\n"
     ]
    }
   ],
   "source": [
    "tag_data = 'tagName=temp+tag21'\n",
    "add_tag_url = 'https://clients.insightsquared.com/tag/add/'\n",
    "\n",
    "post_resp = session.post(add_tag_url, headers=headers, cookies=cookies, data=tag_data)\n",
    "print post_resp"
   ]
  },
  {
   "cell_type": "markdown",
   "metadata": {},
   "source": [
    "# Delete Tag "
   ]
  },
  {
   "cell_type": "markdown",
   "metadata": {},
   "source": [
    "### when the name has spaces use '%20' in space"
   ]
  },
  {
   "cell_type": "code",
   "execution_count": 236,
   "metadata": {
    "collapsed": false
   },
   "outputs": [
    {
     "name": "stdout",
     "output_type": "stream",
     "text": [
      "<Response [200]>\n"
     ]
    }
   ],
   "source": [
    "tag_name = 'temp tag21'  # spaces 'new test 3' -> 'new%20test%203'\n",
    "#tag_name = 'finalv3'\n",
    "delete_tag_url = 'https://clients.insightsquared.com/tag/delete/{0}/'.format(tag_name.replace(' ', '%20'))\n",
    "\n",
    "post_resp = session.post(delete_tag_url, headers=headers, cookies=cookies, data=tag_data)\n",
    "print post_resp"
   ]
  },
  {
   "cell_type": "code",
   "execution_count": 277,
   "metadata": {
    "collapsed": true
   },
   "outputs": [],
   "source": [
    "existing_tags = get_available_tags()"
   ]
  },
  {
   "cell_type": "code",
   "execution_count": 278,
   "metadata": {
    "collapsed": false
   },
   "outputs": [
    {
     "data": {
      "text/plain": [
       "[u'GETS',\n",
       " u'Team Anielka Barrow',\n",
       " u'Team Brian Mauch',\n",
       " u'Team Catherine Belgrave',\n",
       " u'Team Crystal Meyers']"
      ]
     },
     "execution_count": 278,
     "metadata": {},
     "output_type": "execute_result"
    }
   ],
   "source": [
    "existing_tags[0:10]"
   ]
  },
  {
   "cell_type": "code",
   "execution_count": 279,
   "metadata": {
    "collapsed": false
   },
   "outputs": [
    {
     "data": {
      "text/plain": [
       "{'abbreviation': 'CDI',\n",
       " 'id': 3561,\n",
       " 'name': 'CDI',\n",
       " 'site_url': 'https://clients.insightsquared.com/'}"
      ]
     },
     "execution_count": 279,
     "metadata": {},
     "output_type": "execute_result"
    }
   ],
   "source": [
    "tag_page_url = 'https://clients.insightsquared.com/settings/tags/Employee'\n",
    "# tags = session.get(tag_page_url)\n",
    "client_details_yaml = get_client_details(tags)\n",
    "client_details_yaml"
   ]
  },
  {
   "cell_type": "code",
   "execution_count": 280,
   "metadata": {
    "collapsed": false,
    "scrolled": true
   },
   "outputs": [
    {
     "name": "stderr",
     "output_type": "stream",
     "text": [
      " 40%|█████████████████████████████████████▏                                                       | 2/5 [00:18<00:28,  0.11it/s]"
     ]
    },
    {
     "name": "stdout",
     "output_type": "stream",
     "text": [
      "<Response [200]>\n",
      "<Response [200]>\n",
      "<Response [200]>"
     ]
    },
    {
     "name": "stderr",
     "output_type": "stream",
     "text": [
      "\r",
      " 80%|██████████████████████████████████████████████████████████████████████████▍                  | 4/5 [00:59<00:11,  0.09it/s]"
     ]
    },
    {
     "name": "stdout",
     "output_type": "stream",
     "text": [
      "\n",
      "<Response [200]>"
     ]
    },
    {
     "name": "stderr",
     "output_type": "stream",
     "text": [
      "                                                                                                                                "
     ]
    },
    {
     "name": "stdout",
     "output_type": "stream",
     "text": [
      "\n"
     ]
    },
    {
     "name": "stderr",
     "output_type": "stream",
     "text": [
      "\r"
     ]
    }
   ],
   "source": [
    "for tag_name in tqdm(existing_tags):\n",
    "    if tag_name != 'GETS':\n",
    "        delete_tag_url = 'https://clients.insightsquared.com/tag/delete/{0}/'.format(tag_name.replace(' ', '%20'))\n",
    "        post_resp = session.post(delete_tag_url, headers=headers, cookies=cookies, data=tag_data)\n",
    "        print post_resp"
   ]
  },
  {
   "cell_type": "markdown",
   "metadata": {},
   "source": [
    "# Select the tag for a user"
   ]
  },
  {
   "cell_type": "code",
   "execution_count": 141,
   "metadata": {
    "collapsed": false
   },
   "outputs": [
    {
     "name": "stdout",
     "output_type": "stream",
     "text": [
      "<Response [200]>\n"
     ]
    }
   ],
   "source": [
    "base_tag_url = 'https://clients.insightsquared.com/'\n",
    "select_tag_url = 'tag/toggle/temp%20tag/Employee/PVTR_1665306/'\n",
    "url = base_tag_url + selected_tag_url\n",
    "post_resp = session.post(url, headers=headers, cookies=cookies, data=tag_data)\n",
    "print post_resp"
   ]
  },
  {
   "cell_type": "code",
   "execution_count": null,
   "metadata": {
    "collapsed": true
   },
   "outputs": [],
   "source": [
    "base_tag_url = 'https://clients.insightsquared.com/'\n",
    "select_tag_url = 'tag/toggle/temp%20tag/Employee/PVTR_1665306/'\n",
    "url = base_tag_url + selected_tag_url\n",
    "post_resp = session.post(url, headers=headers, cookies=cookies, data=tag_data)\n",
    "print post_resp"
   ]
  },
  {
   "cell_type": "code",
   "execution_count": 233,
   "metadata": {
    "collapsed": false
   },
   "outputs": [
    {
     "name": "stdout",
     "output_type": "stream",
     "text": [
      "<Response [200]>\n",
      "<Response [200]>\n",
      "<Response [200]>\n"
     ]
    }
   ],
   "source": [
    "for url in employee_tag_list.ix[subset].url.values:\n",
    "    base_tag_url = 'https://clients.insightsquared.com'\n",
    "    post_resp = session.post(base_tag_url + url, headers=headers, cookies=cookies, data=tag_data)\n",
    "    print post_resp"
   ]
  },
  {
   "cell_type": "code",
   "execution_count": 234,
   "metadata": {
    "collapsed": true
   },
   "outputs": [],
   "source": [
    "employee_tag_list = get_user_selected_tags()"
   ]
  },
  {
   "cell_type": "code",
   "execution_count": 235,
   "metadata": {
    "collapsed": false
   },
   "outputs": [
    {
     "data": {
      "text/html": [
       "<div>\n",
       "<table border=\"1\" class=\"dataframe\">\n",
       "  <thead>\n",
       "    <tr style=\"text-align: right;\">\n",
       "      <th></th>\n",
       "      <th>name</th>\n",
       "      <th>id</th>\n",
       "      <th>tag_name</th>\n",
       "      <th>selected</th>\n",
       "      <th>url</th>\n",
       "    </tr>\n",
       "  </thead>\n",
       "  <tbody>\n",
       "    <tr>\n",
       "      <th>168</th>\n",
       "      <td>Daniel Tyson</td>\n",
       "      <td>1706388</td>\n",
       "      <td>ProServ</td>\n",
       "      <td>True</td>\n",
       "      <td>/tag/toggle/Client%20Services/Employee/PVTR_17...</td>\n",
       "    </tr>\n",
       "    <tr>\n",
       "      <th>213</th>\n",
       "      <td>Emmanuel Runes</td>\n",
       "      <td>1036999</td>\n",
       "      <td>ProServ</td>\n",
       "      <td>True</td>\n",
       "      <td>/tag/toggle/Client%20Services/Employee/PVTR_10...</td>\n",
       "    </tr>\n",
       "    <tr>\n",
       "      <th>246</th>\n",
       "      <td>Fredus Loves Goats</td>\n",
       "      <td>005E0000001hbj2IAA</td>\n",
       "      <td>Foxtrot</td>\n",
       "      <td>True</td>\n",
       "      <td>/tag/toggle/Foxtrot/Employee/SFDC_005E0000001h...</td>\n",
       "    </tr>\n",
       "    <tr>\n",
       "      <th>273</th>\n",
       "      <td>Georgia Wright-Simmons</td>\n",
       "      <td>1279498</td>\n",
       "      <td>ProServ</td>\n",
       "      <td>True</td>\n",
       "      <td>/tag/toggle/Client%20Services/Employee/PVTR_12...</td>\n",
       "    </tr>\n",
       "    <tr>\n",
       "      <th>343</th>\n",
       "      <td>Jonathan Anderson</td>\n",
       "      <td>1408506</td>\n",
       "      <td>ProServ</td>\n",
       "      <td>True</td>\n",
       "      <td>/tag/toggle/Client%20Services/Employee/PVTR_14...</td>\n",
       "    </tr>\n",
       "    <tr>\n",
       "      <th>533</th>\n",
       "      <td>Mike Swartz</td>\n",
       "      <td>1740284</td>\n",
       "      <td>ProServ</td>\n",
       "      <td>True</td>\n",
       "      <td>/tag/toggle/Client%20Services/Employee/PVTR_17...</td>\n",
       "    </tr>\n",
       "  </tbody>\n",
       "</table>\n",
       "</div>"
      ],
      "text/plain": [
       "                       name                  id tag_name selected  \\\n",
       "168            Daniel Tyson             1706388  ProServ     True   \n",
       "213          Emmanuel Runes             1036999  ProServ     True   \n",
       "246      Fredus Loves Goats  005E0000001hbj2IAA  Foxtrot     True   \n",
       "273  Georgia Wright-Simmons             1279498  ProServ     True   \n",
       "343       Jonathan Anderson             1408506  ProServ     True   \n",
       "533             Mike Swartz             1740284  ProServ     True   \n",
       "\n",
       "                                                   url  \n",
       "168  /tag/toggle/Client%20Services/Employee/PVTR_17...  \n",
       "213  /tag/toggle/Client%20Services/Employee/PVTR_10...  \n",
       "246  /tag/toggle/Foxtrot/Employee/SFDC_005E0000001h...  \n",
       "273  /tag/toggle/Client%20Services/Employee/PVTR_12...  \n",
       "343  /tag/toggle/Client%20Services/Employee/PVTR_14...  \n",
       "533  /tag/toggle/Client%20Services/Employee/PVTR_17...  "
      ]
     },
     "execution_count": 235,
     "metadata": {},
     "output_type": "execute_result"
    }
   ],
   "source": [
    "employee_tag_list[employee_tag_list['selected']]"
   ]
  },
  {
   "cell_type": "markdown",
   "metadata": {},
   "source": [
    "# Read the excel file contents"
   ]
  },
  {
   "cell_type": "code",
   "execution_count": 14,
   "metadata": {
    "collapsed": false,
    "scrolled": true
   },
   "outputs": [
    {
     "data": {
      "text/html": [
       "<div>\n",
       "<table border=\"1\" class=\"dataframe\">\n",
       "  <thead>\n",
       "    <tr style=\"text-align: right;\">\n",
       "      <th></th>\n",
       "      <th>ID</th>\n",
       "      <th>Name</th>\n",
       "      <th>Role</th>\n",
       "      <th>Major</th>\n",
       "      <th>Minor</th>\n",
       "      <th>Fulfillment Practice Manager</th>\n",
       "      <th>Practice Team</th>\n",
       "      <th>Fulfillment Practice Lead</th>\n",
       "      <th>Fulfillment Practice Coordinator</th>\n",
       "      <th>US/Canada</th>\n",
       "      <th>Work Location</th>\n",
       "      <th>Onshore/Offshore</th>\n",
       "      <th>TTS Division</th>\n",
       "      <th>Client/Region</th>\n",
       "      <th>New Hires</th>\n",
       "      <th>Targets Yes/No</th>\n",
       "      <th>GETS</th>\n",
       "    </tr>\n",
       "  </thead>\n",
       "  <tbody>\n",
       "    <tr>\n",
       "      <th>0</th>\n",
       "      <td>9121540</td>\n",
       "      <td>Jeffrey Prukop</td>\n",
       "      <td>Recruiter</td>\n",
       "      <td>Tech Support</td>\n",
       "      <td>Project Resources</td>\n",
       "      <td>Amy Nelson</td>\n",
       "      <td>Infrastructure</td>\n",
       "      <td>Erin Medlin</td>\n",
       "      <td>Cindy Greenbaum</td>\n",
       "      <td>US</td>\n",
       "      <td>Virtual</td>\n",
       "      <td>On Shore</td>\n",
       "      <td>Enterprise</td>\n",
       "      <td>IBM</td>\n",
       "      <td>12 Weeks +</td>\n",
       "      <td>Yes</td>\n",
       "      <td>NaN</td>\n",
       "    </tr>\n",
       "    <tr>\n",
       "      <th>1</th>\n",
       "      <td>9071639</td>\n",
       "      <td>Alfred Isaac</td>\n",
       "      <td>Recruiter</td>\n",
       "      <td>Project Resources</td>\n",
       "      <td>Other/General</td>\n",
       "      <td>NaN</td>\n",
       "      <td>NaN</td>\n",
       "      <td>NaN</td>\n",
       "      <td>NaN</td>\n",
       "      <td>US</td>\n",
       "      <td>Virtual</td>\n",
       "      <td>Off Shore</td>\n",
       "      <td>Enterprise</td>\n",
       "      <td>IBM</td>\n",
       "      <td>12 Weeks +</td>\n",
       "      <td>Yes</td>\n",
       "      <td>NaN</td>\n",
       "    </tr>\n",
       "    <tr>\n",
       "      <th>2</th>\n",
       "      <td>9145459</td>\n",
       "      <td>Aaron Yuhas</td>\n",
       "      <td>Recruiter</td>\n",
       "      <td>Infrastructure</td>\n",
       "      <td>Apps Development</td>\n",
       "      <td>Amy Nelson</td>\n",
       "      <td>Infrastructure</td>\n",
       "      <td>Erin Medlin</td>\n",
       "      <td>Cindy Greenbaum</td>\n",
       "      <td>US</td>\n",
       "      <td>Virtual</td>\n",
       "      <td>On Shore</td>\n",
       "      <td>Enterprise</td>\n",
       "      <td>Midwest - Multiple</td>\n",
       "      <td>12 Weeks +</td>\n",
       "      <td>Yes</td>\n",
       "      <td>NaN</td>\n",
       "    </tr>\n",
       "    <tr>\n",
       "      <th>3</th>\n",
       "      <td>178</td>\n",
       "      <td>Chris Martin</td>\n",
       "      <td>Recruiter</td>\n",
       "      <td>Apps Development</td>\n",
       "      <td>Tech Support</td>\n",
       "      <td>NaN</td>\n",
       "      <td>NaN</td>\n",
       "      <td>NaN</td>\n",
       "      <td>NaN</td>\n",
       "      <td>US</td>\n",
       "      <td>Virtual</td>\n",
       "      <td>Off Shore</td>\n",
       "      <td>Enterprise</td>\n",
       "      <td>IBM</td>\n",
       "      <td>12 Weeks +</td>\n",
       "      <td>Yes</td>\n",
       "      <td>NaN</td>\n",
       "    </tr>\n",
       "    <tr>\n",
       "      <th>4</th>\n",
       "      <td>9390427</td>\n",
       "      <td>Deona Williams</td>\n",
       "      <td>Jr. Recruiter</td>\n",
       "      <td>ERP</td>\n",
       "      <td>Business Inteligence</td>\n",
       "      <td>Amy Nelson</td>\n",
       "      <td>Infrastructure</td>\n",
       "      <td>Erin Medlin</td>\n",
       "      <td>Cindy Greenbaum</td>\n",
       "      <td>US</td>\n",
       "      <td>Atlanta</td>\n",
       "      <td>On Shore</td>\n",
       "      <td>Enterprise</td>\n",
       "      <td>Edgerock Lite</td>\n",
       "      <td>New E/L- 12 Week Ramp</td>\n",
       "      <td>Yes</td>\n",
       "      <td>NaN</td>\n",
       "    </tr>\n",
       "  </tbody>\n",
       "</table>\n",
       "</div>"
      ],
      "text/plain": [
       "        ID            Name           Role              Major  \\\n",
       "0  9121540  Jeffrey Prukop      Recruiter       Tech Support   \n",
       "1  9071639    Alfred Isaac      Recruiter  Project Resources   \n",
       "2  9145459     Aaron Yuhas      Recruiter     Infrastructure   \n",
       "3      178    Chris Martin      Recruiter   Apps Development   \n",
       "4  9390427  Deona Williams  Jr. Recruiter                ERP   \n",
       "\n",
       "                  Minor Fulfillment Practice Manager    Practice Team  \\\n",
       "0     Project Resources                   Amy Nelson  Infrastructure    \n",
       "1         Other/General                          NaN              NaN   \n",
       "2      Apps Development                   Amy Nelson  Infrastructure    \n",
       "3          Tech Support                          NaN              NaN   \n",
       "4  Business Inteligence                   Amy Nelson  Infrastructure    \n",
       "\n",
       "  Fulfillment Practice Lead Fulfillment Practice Coordinator US/Canada  \\\n",
       "0               Erin Medlin                  Cindy Greenbaum        US   \n",
       "1                       NaN                              NaN        US   \n",
       "2               Erin Medlin                  Cindy Greenbaum        US   \n",
       "3                       NaN                              NaN        US   \n",
       "4               Erin Medlin                  Cindy Greenbaum        US   \n",
       "\n",
       "  Work Location Onshore/Offshore TTS Division       Client/Region  \\\n",
       "0       Virtual         On Shore   Enterprise                 IBM   \n",
       "1       Virtual        Off Shore   Enterprise                 IBM   \n",
       "2       Virtual         On Shore   Enterprise  Midwest - Multiple   \n",
       "3       Virtual        Off Shore   Enterprise                 IBM   \n",
       "4       Atlanta         On Shore   Enterprise       Edgerock Lite   \n",
       "\n",
       "               New Hires Targets Yes/No GETS  \n",
       "0             12 Weeks +            Yes  NaN  \n",
       "1             12 Weeks +            Yes  NaN  \n",
       "2             12 Weeks +            Yes  NaN  \n",
       "3             12 Weeks +            Yes  NaN  \n",
       "4  New E/L- 12 Week Ramp            Yes  NaN  "
      ]
     },
     "execution_count": 14,
     "metadata": {},
     "output_type": "execute_result"
    }
   ],
   "source": [
    "xlfile = pd.ExcelFile('TTS Practice Model - Recruiting Delivery Team Structure (Final) 5-24-16 copy to Insight_updt.xlsx')\n",
    "data = pd.read_excel(xlfile, sheetname='is2_data')\n",
    "data['ID'] = data['ID'].astype(str).apply(lambda x: x.split('.')[0])\n",
    "data.head()"
   ]
  },
  {
   "cell_type": "code",
   "execution_count": 15,
   "metadata": {
    "collapsed": false
   },
   "outputs": [
    {
     "name": "stdout",
     "output_type": "stream",
     "text": [
      "['ID', 'Name', 'Role', 'Major', 'Minor', 'Fulfillment Practice Manager', 'Practice Team', 'Fulfillment Practice Lead', 'Fulfillment Practice Coordinator', 'US/Canada', 'Work Location', 'Onshore/Offshore', 'TTS Division', 'Client/Region', 'New Hires', 'Targets Yes/No', 'GETS']\n"
     ]
    }
   ],
   "source": [
    "print [str(col) for col in data.columns]"
   ]
  },
  {
   "cell_type": "code",
   "execution_count": 32,
   "metadata": {
    "collapsed": false
   },
   "outputs": [
    {
     "data": {
      "text/plain": [
       "['Role: Recruiter',\n",
       " 'Role: Jr Recruiter',\n",
       " 'Role: Sourcer',\n",
       " 'Role: Team Lead',\n",
       " 'Role: Direct Hire',\n",
       " 'Role: Lead Recruiter',\n",
       " 'Role: Backup Recruiter',\n",
       " 'Role: Engagement Lead',\n",
       " 'Major: Tech Support',\n",
       " 'Major: Project Resources',\n",
       " 'Major: Infrastructure',\n",
       " 'Major: Apps Development',\n",
       " 'Major: ERP',\n",
       " 'Major: Engineering',\n",
       " 'Major: Other General',\n",
       " 'Major: Business Inteligence',\n",
       " 'Major: Business Intelligence',\n",
       " 'Minor: Project Resources',\n",
       " 'Minor: Other General',\n",
       " 'Minor: Apps Development',\n",
       " 'Minor: Tech Support',\n",
       " 'Minor: Business Inteligence',\n",
       " 'Minor: Infrastructure',\n",
       " 'Minor: ERP',\n",
       " 'Minor: Engineering',\n",
       " 'Fulfillment Practice Manager: Amy Nelson',\n",
       " 'Fulfillment Practice Manager: Keeran Persaud',\n",
       " 'Fulfillment Practice Manager: Brian Mauch',\n",
       " 'Fulfillment Practice Manager: Crystal Meyers',\n",
       " 'Fulfillment Practice Manager: Jim Godfrey',\n",
       " 'Fulfillment Practice Manager: Taylor Grimes',\n",
       " 'Fulfillment Practice Manager: Nikki Diman',\n",
       " 'Fulfillment Practice Manager: Taylor Grimes ',\n",
       " 'Fulfillment Practice Manager: Sherry Norfleet',\n",
       " 'Practice Team: Infrastructure ',\n",
       " 'Practice Team: ERP Business Intel',\n",
       " 'Practice Team: Engineering',\n",
       " 'Practice Team: Managed Programs',\n",
       " 'Practice Team: Applications',\n",
       " 'Practice Team: Tech Solutions',\n",
       " 'Practice Team: Direct Hire',\n",
       " 'Practice Team: Applications and Project Resources',\n",
       " 'Practice Team: Project Resource',\n",
       " 'Fulfillment Practice Lead: Erin Medlin',\n",
       " 'Fulfillment Practice Lead: Sherry Norfleet',\n",
       " 'Fulfillment Practice Lead: Beth Alex',\n",
       " 'Fulfillment Practice Coordinator: Cindy Greenbaum',\n",
       " 'Fulfillment Practice Coordinator: Justin Twist',\n",
       " 'US or Canada: US',\n",
       " 'US or Canada: Canada',\n",
       " 'Work Location: Virtual',\n",
       " 'Work Location: Atlanta',\n",
       " 'Work Location: Irvine',\n",
       " 'Work Location: Troy',\n",
       " 'Work Location: Cary NC',\n",
       " 'Work Location: On Site',\n",
       " 'Work Location: Philadelphia',\n",
       " 'Work Location: Dallas',\n",
       " 'Work Location: Cross Lanes',\n",
       " 'Onshore or Offshore: On Shore',\n",
       " 'Onshore or Offshore: Off Shore',\n",
       " 'TTS Division: Enterprise',\n",
       " 'TTS Division: Tech Solutions',\n",
       " 'TTS Division: Enterprise    ',\n",
       " 'TTS Division: Enterprise Program',\n",
       " 'Client or Region: IBM',\n",
       " 'Client or Region: Midwest Multiple',\n",
       " 'Client or Region: Edgerock Lite',\n",
       " 'Client or Region: Tech Sol Multiple',\n",
       " 'Client or Region: West Multiple',\n",
       " 'Client or Region: Siemens',\n",
       " 'Client or Region: Siemens Phillips',\n",
       " 'Client or Region: HCL',\n",
       " 'Client or Region: Schneider Electric Invensys',\n",
       " 'Client or Region: UTC Disney Lyondell',\n",
       " 'Client or Region: Teradyne',\n",
       " 'Client or Region: Parker LI',\n",
       " 'Client or Region: Schneider Electric Invensys Teradyne LI',\n",
       " 'Client or Region: Parker',\n",
       " 'Client or Region: AECOM URS',\n",
       " 'Client or Region: Emerson Curtis Wright',\n",
       " 'Client or Region: Emerson Lyondell AECOM',\n",
       " 'Client or Region: Gulf Atlantic Multiple',\n",
       " 'Client or Region: ATL Recruiting Multiple',\n",
       " 'Client or Region: West Google',\n",
       " 'Client or Region: West Western Union',\n",
       " 'Client or Region: Multi Clients Direct Hire',\n",
       " 'Client or Region: Edgerock Lite Class 2',\n",
       " 'Client or Region: IBM Siemens',\n",
       " 'Client or Region: Ericsson IBM',\n",
       " 'Client or Region: Eastern Canada',\n",
       " 'Client or Region: Bombardier Ericsson',\n",
       " 'Client or Region: West Canada ',\n",
       " 'Client or Region: Ericsson',\n",
       " 'New Hires: 12 Weeks  plus ',\n",
       " 'New Hires: New E L 12 Week Ramp',\n",
       " 'New Hires: New Exp 12 Week Ramp',\n",
       " 'New Hires: No Indv Production',\n",
       " 'Targets Yes or No: Yes',\n",
       " 'Targets Yes or No: No',\n",
       " 'GETS: GETS']"
      ]
     },
     "execution_count": 32,
     "metadata": {},
     "output_type": "execute_result"
    }
   ],
   "source": [
    "filter_cols = ['Role', 'Major','Minor','Fulfillment Practice Manager', \n",
    "               'Practice Team','Fulfillment Practice Lead', 'Fulfillment Practice Coordinator',\n",
    "               'US/Canada', 'Work Location','Onshore/Offshore',\n",
    "               'TTS Division', 'Client/Region', 'New Hires',\n",
    "               'Targets Yes/No', 'GETS']\n",
    "new_vals = []\n",
    "for col in filter_cols:\n",
    "    data[col] = data[col].apply(\n",
    "        lambda x: str(x).replace('/', ' ').replace(' - ', ' ').replace('-', '').replace(',', '').replace('.', '').replace('+', 'plus')\n",
    "        if not pd.isnull(x) else x\n",
    "    )\n",
    "    data_vals = data[col].dropna().drop_duplicates().astype(str).values.tolist()\n",
    "    for val in data_vals:\n",
    "        new_vals = new_vals + [col.replace('/', ' or ') + ': ' + val]\n",
    "new_vals"
   ]
  },
  {
   "cell_type": "code",
   "execution_count": 33,
   "metadata": {
    "collapsed": true
   },
   "outputs": [],
   "source": [
    "new_vals[-1] = 'GETS'"
   ]
  },
  {
   "cell_type": "code",
   "execution_count": 34,
   "metadata": {
    "collapsed": false
   },
   "outputs": [
    {
     "name": "stdout",
     "output_type": "stream",
     "text": [
      "['Role: Recruiter', 'Role: Jr Recruiter', 'Role: Sourcer', 'Role: Team Lead', 'Role: Direct Hire', 'Role: Lead Recruiter', 'Role: Backup Recruiter', 'Role: Engagement Lead', 'Major: Tech Support', 'Major: Project Resources', 'Major: Infrastructure', 'Major: Apps Development', 'Major: ERP', 'Major: Engineering', 'Major: Other General', 'Major: Business Inteligence', 'Major: Business Intelligence', 'Minor: Project Resources', 'Minor: Other General', 'Minor: Apps Development', 'Minor: Tech Support', 'Minor: Business Inteligence', 'Minor: Infrastructure', 'Minor: ERP', 'Minor: Engineering', 'Fulfillment Practice Manager: Amy Nelson', 'Fulfillment Practice Manager: Keeran Persaud', 'Fulfillment Practice Manager: Brian Mauch', 'Fulfillment Practice Manager: Crystal Meyers', 'Fulfillment Practice Manager: Jim Godfrey', 'Fulfillment Practice Manager: Taylor Grimes', 'Fulfillment Practice Manager: Nikki Diman', 'Fulfillment Practice Manager: Taylor Grimes ', 'Fulfillment Practice Manager: Sherry Norfleet', 'Practice Team: Infrastructure ', 'Practice Team: ERP Business Intel', 'Practice Team: Engineering', 'Practice Team: Managed Programs', 'Practice Team: Applications', 'Practice Team: Tech Solutions', 'Practice Team: Direct Hire', 'Practice Team: Applications and Project Resources', 'Practice Team: Project Resource', 'Fulfillment Practice Lead: Erin Medlin', 'Fulfillment Practice Lead: Sherry Norfleet', 'Fulfillment Practice Lead: Beth Alex', 'Fulfillment Practice Coordinator: Cindy Greenbaum', 'Fulfillment Practice Coordinator: Justin Twist', 'US or Canada: US', 'US or Canada: Canada', 'Work Location: Virtual', 'Work Location: Atlanta', 'Work Location: Irvine', 'Work Location: Troy', 'Work Location: Cary NC', 'Work Location: On Site', 'Work Location: Philadelphia', 'Work Location: Dallas', 'Work Location: Cross Lanes', 'Onshore or Offshore: On Shore', 'Onshore or Offshore: Off Shore', 'TTS Division: Enterprise', 'TTS Division: Tech Solutions', 'TTS Division: Enterprise    ', 'TTS Division: Enterprise Program', 'Client or Region: IBM', 'Client or Region: Midwest Multiple', 'Client or Region: Edgerock Lite', 'Client or Region: Tech Sol Multiple', 'Client or Region: West Multiple', 'Client or Region: Siemens', 'Client or Region: Siemens Phillips', 'Client or Region: HCL', 'Client or Region: Schneider Electric Invensys', 'Client or Region: UTC Disney Lyondell', 'Client or Region: Teradyne', 'Client or Region: Parker LI', 'Client or Region: Schneider Electric Invensys Teradyne LI', 'Client or Region: Parker', 'Client or Region: AECOM URS', 'Client or Region: Emerson Curtis Wright', 'Client or Region: Emerson Lyondell AECOM', 'Client or Region: Gulf Atlantic Multiple', 'Client or Region: ATL Recruiting Multiple', 'Client or Region: West Google', 'Client or Region: West Western Union', 'Client or Region: Multi Clients Direct Hire', 'Client or Region: Edgerock Lite Class 2', 'Client or Region: IBM Siemens', 'Client or Region: Ericsson IBM', 'Client or Region: Eastern Canada', 'Client or Region: Bombardier Ericsson', 'Client or Region: West Canada ', 'Client or Region: Ericsson', 'New Hires: 12 Weeks  plus ', 'New Hires: New E L 12 Week Ramp', 'New Hires: New Exp 12 Week Ramp', 'New Hires: No Indv Production', 'Targets Yes or No: Yes', 'Targets Yes or No: No', 'GETS']\n"
     ]
    }
   ],
   "source": [
    "print new_vals"
   ]
  },
  {
   "cell_type": "markdown",
   "metadata": {},
   "source": [
    "# Create the tags"
   ]
  },
  {
   "cell_type": "code",
   "execution_count": 35,
   "metadata": {
    "collapsed": false
   },
   "outputs": [
    {
     "name": "stderr",
     "output_type": "stream",
     "text": [
      "  1%|▉                                                                                          | 1/101 [00:00<00:40,  2.49it/s]"
     ]
    },
    {
     "name": "stdout",
     "output_type": "stream",
     "text": [
      "<Response [200]>\n",
      "<Response [200]>"
     ]
    },
    {
     "name": "stderr",
     "output_type": "stream",
     "text": [
      "\r",
      "  2%|█▊                                                                                         | 2/101 [00:00<00:43,  2.26it/s]"
     ]
    },
    {
     "name": "stdout",
     "output_type": "stream",
     "text": [
      "\n",
      "<Response [200]>"
     ]
    },
    {
     "name": "stderr",
     "output_type": "stream",
     "text": [
      "\r",
      "  3%|██▋                                                                                        | 3/101 [00:01<00:37,  2.59it/s]"
     ]
    },
    {
     "name": "stdout",
     "output_type": "stream",
     "text": [
      "\n",
      "<Response [200]>"
     ]
    },
    {
     "name": "stderr",
     "output_type": "stream",
     "text": [
      "\r",
      "  4%|███▌                                                                                       | 4/101 [00:01<00:35,  2.72it/s]"
     ]
    },
    {
     "name": "stdout",
     "output_type": "stream",
     "text": [
      "\n",
      "<Response [200]>"
     ]
    },
    {
     "name": "stderr",
     "output_type": "stream",
     "text": [
      "\r",
      "  5%|████▌                                                                                      | 5/101 [00:01<00:32,  2.99it/s]"
     ]
    },
    {
     "name": "stdout",
     "output_type": "stream",
     "text": [
      "\n",
      "<Response [200]>"
     ]
    },
    {
     "name": "stderr",
     "output_type": "stream",
     "text": [
      "\r",
      "  6%|█████▍                                                                                     | 6/101 [00:02<00:25,  3.75it/s]"
     ]
    },
    {
     "name": "stdout",
     "output_type": "stream",
     "text": [
      "\n",
      "<Response [200]>"
     ]
    },
    {
     "name": "stderr",
     "output_type": "stream",
     "text": [
      "\r",
      "  7%|██████▎                                                                                    | 7/101 [00:02<00:25,  3.65it/s]"
     ]
    },
    {
     "name": "stdout",
     "output_type": "stream",
     "text": [
      "\n",
      "<Response [200]>"
     ]
    },
    {
     "name": "stderr",
     "output_type": "stream",
     "text": [
      "\r",
      "  8%|███████▏                                                                                   | 8/101 [00:02<00:26,  3.58it/s]"
     ]
    },
    {
     "name": "stdout",
     "output_type": "stream",
     "text": [
      "\n",
      "<Response [200]>"
     ]
    },
    {
     "name": "stderr",
     "output_type": "stream",
     "text": [
      "\r",
      "  9%|████████                                                                                   | 9/101 [00:02<00:21,  4.23it/s]"
     ]
    },
    {
     "name": "stdout",
     "output_type": "stream",
     "text": [
      "\n",
      "<Response [200]>"
     ]
    },
    {
     "name": "stderr",
     "output_type": "stream",
     "text": [
      "\r",
      " 10%|████████▉                                                                                 | 10/101 [00:03<00:20,  4.33it/s]"
     ]
    },
    {
     "name": "stdout",
     "output_type": "stream",
     "text": [
      "\n",
      "<Response [200]>"
     ]
    },
    {
     "name": "stderr",
     "output_type": "stream",
     "text": [
      "\r",
      " 11%|█████████▊                                                                                | 11/101 [00:03<00:22,  4.03it/s]"
     ]
    },
    {
     "name": "stdout",
     "output_type": "stream",
     "text": [
      "\n",
      "<Response [200]>"
     ]
    },
    {
     "name": "stderr",
     "output_type": "stream",
     "text": [
      "\r",
      " 12%|██████████▋                                                                               | 12/101 [00:03<00:23,  3.72it/s]"
     ]
    },
    {
     "name": "stdout",
     "output_type": "stream",
     "text": [
      "\n",
      "<Response [200]>"
     ]
    },
    {
     "name": "stderr",
     "output_type": "stream",
     "text": [
      "\r",
      " 13%|███████████▌                                                                              | 13/101 [00:03<00:20,  4.39it/s]"
     ]
    },
    {
     "name": "stdout",
     "output_type": "stream",
     "text": [
      "\n",
      "<Response [200]>"
     ]
    },
    {
     "name": "stderr",
     "output_type": "stream",
     "text": [
      "\r",
      " 14%|████████████▍                                                                             | 14/101 [00:04<00:18,  4.75it/s]"
     ]
    },
    {
     "name": "stdout",
     "output_type": "stream",
     "text": [
      "\n",
      "<Response [200]>"
     ]
    },
    {
     "name": "stderr",
     "output_type": "stream",
     "text": [
      "\r",
      " 15%|█████████████▎                                                                            | 15/101 [00:04<00:17,  5.05it/s]"
     ]
    },
    {
     "name": "stdout",
     "output_type": "stream",
     "text": [
      "\n",
      "<Response [200]>"
     ]
    },
    {
     "name": "stderr",
     "output_type": "stream",
     "text": [
      "\r",
      " 16%|██████████████▎                                                                           | 16/101 [00:04<00:18,  4.49it/s]"
     ]
    },
    {
     "name": "stdout",
     "output_type": "stream",
     "text": [
      "\n",
      "<Response [200]>"
     ]
    },
    {
     "name": "stderr",
     "output_type": "stream",
     "text": [
      "\r",
      " 17%|███████████████▏                                                                          | 17/101 [00:05<00:22,  3.71it/s]"
     ]
    },
    {
     "name": "stdout",
     "output_type": "stream",
     "text": [
      "\n",
      "<Response [200]>"
     ]
    },
    {
     "name": "stderr",
     "output_type": "stream",
     "text": [
      "\r",
      " 18%|████████████████                                                                          | 18/101 [00:05<00:25,  3.22it/s]"
     ]
    },
    {
     "name": "stdout",
     "output_type": "stream",
     "text": [
      "\n",
      "<Response [200]>"
     ]
    },
    {
     "name": "stderr",
     "output_type": "stream",
     "text": [
      "\r",
      " 19%|████████████████▉                                                                         | 19/101 [00:05<00:25,  3.27it/s]"
     ]
    },
    {
     "name": "stdout",
     "output_type": "stream",
     "text": [
      "\n",
      "<Response [200]>"
     ]
    },
    {
     "name": "stderr",
     "output_type": "stream",
     "text": [
      "\r",
      " 20%|█████████████████▊                                                                        | 20/101 [00:06<00:23,  3.39it/s]"
     ]
    },
    {
     "name": "stdout",
     "output_type": "stream",
     "text": [
      "\n",
      "<Response [200]>"
     ]
    },
    {
     "name": "stderr",
     "output_type": "stream",
     "text": [
      "\r",
      " 21%|██████████████████▋                                                                       | 21/101 [00:06<00:27,  2.89it/s]"
     ]
    },
    {
     "name": "stdout",
     "output_type": "stream",
     "text": [
      "\n",
      "<Response [200]>"
     ]
    },
    {
     "name": "stderr",
     "output_type": "stream",
     "text": [
      "\r",
      " 22%|███████████████████▌                                                                      | 22/101 [00:06<00:21,  3.63it/s]"
     ]
    },
    {
     "name": "stdout",
     "output_type": "stream",
     "text": [
      "\n",
      "<Response [200]>"
     ]
    },
    {
     "name": "stderr",
     "output_type": "stream",
     "text": [
      "\r",
      " 23%|████████████████████▍                                                                     | 23/101 [00:07<00:21,  3.64it/s]"
     ]
    },
    {
     "name": "stdout",
     "output_type": "stream",
     "text": [
      "\n",
      "<Response [200]>"
     ]
    },
    {
     "name": "stderr",
     "output_type": "stream",
     "text": [
      "\r",
      " 24%|█████████████████████▍                                                                    | 24/101 [00:07<00:21,  3.51it/s]"
     ]
    },
    {
     "name": "stdout",
     "output_type": "stream",
     "text": [
      "\n",
      "<Response [200]>"
     ]
    },
    {
     "name": "stderr",
     "output_type": "stream",
     "text": [
      "\r",
      " 25%|██████████████████████▎                                                                   | 25/101 [00:07<00:18,  4.08it/s]"
     ]
    },
    {
     "name": "stdout",
     "output_type": "stream",
     "text": [
      "\n",
      "<Response [200]>"
     ]
    },
    {
     "name": "stderr",
     "output_type": "stream",
     "text": [
      "\r",
      " 26%|███████████████████████▏                                                                  | 26/101 [00:07<00:16,  4.58it/s]"
     ]
    },
    {
     "name": "stdout",
     "output_type": "stream",
     "text": [
      "\n",
      "<Response [200]>"
     ]
    },
    {
     "name": "stderr",
     "output_type": "stream",
     "text": [
      "\r",
      " 27%|████████████████████████                                                                  | 27/101 [00:08<00:17,  4.28it/s]"
     ]
    },
    {
     "name": "stdout",
     "output_type": "stream",
     "text": [
      "\n",
      "<Response [200]>"
     ]
    },
    {
     "name": "stderr",
     "output_type": "stream",
     "text": [
      "\r",
      " 28%|████████████████████████▉                                                                 | 28/101 [00:08<00:15,  4.59it/s]"
     ]
    },
    {
     "name": "stdout",
     "output_type": "stream",
     "text": [
      "\n",
      "<Response [200]>"
     ]
    },
    {
     "name": "stderr",
     "output_type": "stream",
     "text": [
      "\r",
      " 29%|█████████████████████████▊                                                                | 29/101 [00:08<00:16,  4.33it/s]"
     ]
    },
    {
     "name": "stdout",
     "output_type": "stream",
     "text": [
      "\n",
      "<Response [200]>"
     ]
    },
    {
     "name": "stderr",
     "output_type": "stream",
     "text": [
      "\r",
      " 30%|██████████████████████████▋                                                               | 30/101 [00:08<00:17,  4.01it/s]"
     ]
    },
    {
     "name": "stdout",
     "output_type": "stream",
     "text": [
      "\n",
      "<Response [200]>"
     ]
    },
    {
     "name": "stderr",
     "output_type": "stream",
     "text": [
      "\r",
      " 31%|███████████████████████████▌                                                              | 31/101 [00:09<00:16,  4.28it/s]"
     ]
    },
    {
     "name": "stdout",
     "output_type": "stream",
     "text": [
      "\n",
      "<Response [200]>"
     ]
    },
    {
     "name": "stderr",
     "output_type": "stream",
     "text": [
      "\r",
      " 32%|████████████████████████████▌                                                             | 32/101 [00:09<00:16,  4.07it/s]"
     ]
    },
    {
     "name": "stdout",
     "output_type": "stream",
     "text": [
      "\n",
      "<Response [200]>"
     ]
    },
    {
     "name": "stderr",
     "output_type": "stream",
     "text": [
      "\r",
      " 33%|█████████████████████████████▍                                                            | 33/101 [00:09<00:18,  3.65it/s]"
     ]
    },
    {
     "name": "stdout",
     "output_type": "stream",
     "text": [
      "\n",
      "<Response [200]>"
     ]
    },
    {
     "name": "stderr",
     "output_type": "stream",
     "text": [
      "\r",
      " 34%|██████████████████████████████▎                                                           | 34/101 [00:09<00:17,  3.73it/s]"
     ]
    },
    {
     "name": "stdout",
     "output_type": "stream",
     "text": [
      "\n",
      "<Response [200]>"
     ]
    },
    {
     "name": "stderr",
     "output_type": "stream",
     "text": [
      "\r",
      " 35%|███████████████████████████████▏                                                          | 35/101 [00:10<00:16,  4.11it/s]"
     ]
    },
    {
     "name": "stdout",
     "output_type": "stream",
     "text": [
      "\n",
      "<Response [200]>"
     ]
    },
    {
     "name": "stderr",
     "output_type": "stream",
     "text": [
      "\r",
      " 36%|████████████████████████████████                                                          | 36/101 [00:10<00:17,  3.68it/s]"
     ]
    },
    {
     "name": "stdout",
     "output_type": "stream",
     "text": [
      "\n",
      "<Response [200]>"
     ]
    },
    {
     "name": "stderr",
     "output_type": "stream",
     "text": [
      "\r",
      " 37%|████████████████████████████████▉                                                         | 37/101 [00:10<00:18,  3.52it/s]"
     ]
    },
    {
     "name": "stdout",
     "output_type": "stream",
     "text": [
      "\n",
      "<Response [200]>"
     ]
    },
    {
     "name": "stderr",
     "output_type": "stream",
     "text": [
      "\r",
      " 38%|█████████████████████████████████▊                                                        | 38/101 [00:11<00:18,  3.38it/s]"
     ]
    },
    {
     "name": "stdout",
     "output_type": "stream",
     "text": [
      "\n",
      "<Response [200]>"
     ]
    },
    {
     "name": "stderr",
     "output_type": "stream",
     "text": [
      "\r",
      " 39%|██████████████████████████████████▊                                                       | 39/101 [00:11<00:15,  4.06it/s]"
     ]
    },
    {
     "name": "stdout",
     "output_type": "stream",
     "text": [
      "\n",
      "<Response [200]>"
     ]
    },
    {
     "name": "stderr",
     "output_type": "stream",
     "text": [
      "\r",
      " 40%|███████████████████████████████████▋                                                      | 40/101 [00:11<00:13,  4.42it/s]"
     ]
    },
    {
     "name": "stdout",
     "output_type": "stream",
     "text": [
      "\n",
      "<Response [200]>"
     ]
    },
    {
     "name": "stderr",
     "output_type": "stream",
     "text": [
      "\r",
      " 41%|████████████████████████████████████▌                                                     | 41/101 [00:11<00:12,  4.80it/s]"
     ]
    },
    {
     "name": "stdout",
     "output_type": "stream",
     "text": [
      "\n",
      "<Response [200]>"
     ]
    },
    {
     "name": "stderr",
     "output_type": "stream",
     "text": [
      "\r",
      " 42%|█████████████████████████████████████▍                                                    | 42/101 [00:12<00:13,  4.43it/s]"
     ]
    },
    {
     "name": "stdout",
     "output_type": "stream",
     "text": [
      "\n",
      "<Response [200]>"
     ]
    },
    {
     "name": "stderr",
     "output_type": "stream",
     "text": [
      "\r",
      " 43%|██████████████████████████████████████▎                                                   | 43/101 [00:12<00:14,  4.01it/s]"
     ]
    },
    {
     "name": "stdout",
     "output_type": "stream",
     "text": [
      "\n",
      "<Response [200]>"
     ]
    },
    {
     "name": "stderr",
     "output_type": "stream",
     "text": [
      "\r",
      " 44%|███████████████████████████████████████▏                                                  | 44/101 [00:12<00:12,  4.40it/s]"
     ]
    },
    {
     "name": "stdout",
     "output_type": "stream",
     "text": [
      "\n",
      "<Response [200]>"
     ]
    },
    {
     "name": "stderr",
     "output_type": "stream",
     "text": [
      "\r",
      " 45%|████████████████████████████████████████                                                  | 45/101 [00:12<00:13,  4.03it/s]"
     ]
    },
    {
     "name": "stdout",
     "output_type": "stream",
     "text": [
      "\n",
      "<Response [200]>"
     ]
    },
    {
     "name": "stderr",
     "output_type": "stream",
     "text": [
      "\r",
      " 46%|████████████████████████████████████████▉                                                 | 46/101 [00:13<00:14,  3.74it/s]"
     ]
    },
    {
     "name": "stdout",
     "output_type": "stream",
     "text": [
      "\n",
      "<Response [200]>"
     ]
    },
    {
     "name": "stderr",
     "output_type": "stream",
     "text": [
      "\r",
      " 47%|█████████████████████████████████████████▉                                                | 47/101 [00:13<00:13,  4.14it/s]"
     ]
    },
    {
     "name": "stdout",
     "output_type": "stream",
     "text": [
      "\n",
      "<Response [200]>"
     ]
    },
    {
     "name": "stderr",
     "output_type": "stream",
     "text": [
      "\r",
      " 48%|██████████████████████████████████████████▊                                               | 48/101 [00:13<00:11,  4.60it/s]"
     ]
    },
    {
     "name": "stdout",
     "output_type": "stream",
     "text": [
      "\n",
      "<Response [200]>"
     ]
    },
    {
     "name": "stderr",
     "output_type": "stream",
     "text": [
      "\r",
      " 49%|███████████████████████████████████████████▋                                              | 49/101 [00:13<00:10,  4.89it/s]"
     ]
    },
    {
     "name": "stdout",
     "output_type": "stream",
     "text": [
      "\n",
      "<Response [200]>"
     ]
    },
    {
     "name": "stderr",
     "output_type": "stream",
     "text": [
      "\r",
      " 50%|████████████████████████████████████████████▌                                             | 50/101 [00:13<00:09,  5.27it/s]"
     ]
    },
    {
     "name": "stdout",
     "output_type": "stream",
     "text": [
      "\n",
      "<Response [200]>"
     ]
    },
    {
     "name": "stderr",
     "output_type": "stream",
     "text": [
      "\r",
      " 50%|█████████████████████████████████████████████▍                                            | 51/101 [00:14<00:10,  4.92it/s]"
     ]
    },
    {
     "name": "stdout",
     "output_type": "stream",
     "text": [
      "\n",
      "<Response [200]>"
     ]
    },
    {
     "name": "stderr",
     "output_type": "stream",
     "text": [
      "\r",
      " 51%|██████████████████████████████████████████████▎                                           | 52/101 [00:14<00:09,  5.26it/s]"
     ]
    },
    {
     "name": "stdout",
     "output_type": "stream",
     "text": [
      "\n",
      "<Response [200]>"
     ]
    },
    {
     "name": "stderr",
     "output_type": "stream",
     "text": [
      "\r",
      " 52%|███████████████████████████████████████████████▏                                          | 53/101 [00:14<00:08,  5.35it/s]"
     ]
    },
    {
     "name": "stdout",
     "output_type": "stream",
     "text": [
      "\n",
      "<Response [200]>"
     ]
    },
    {
     "name": "stderr",
     "output_type": "stream",
     "text": [
      "\r",
      " 53%|████████████████████████████████████████████████                                          | 54/101 [00:14<00:10,  4.38it/s]"
     ]
    },
    {
     "name": "stdout",
     "output_type": "stream",
     "text": [
      "\n",
      "<Response [200]>"
     ]
    },
    {
     "name": "stderr",
     "output_type": "stream",
     "text": [
      "\r",
      " 54%|█████████████████████████████████████████████████                                         | 55/101 [00:15<00:12,  3.71it/s]"
     ]
    },
    {
     "name": "stdout",
     "output_type": "stream",
     "text": [
      "\n",
      "<Response [200]>"
     ]
    },
    {
     "name": "stderr",
     "output_type": "stream",
     "text": [
      "\r",
      " 55%|█████████████████████████████████████████████████▉                                        | 56/101 [00:15<00:12,  3.63it/s]"
     ]
    },
    {
     "name": "stdout",
     "output_type": "stream",
     "text": [
      "\n",
      "<Response [200]>"
     ]
    },
    {
     "name": "stderr",
     "output_type": "stream",
     "text": [
      "\r",
      " 56%|██████████████████████████████████████████████████▊                                       | 57/101 [00:15<00:10,  4.31it/s]"
     ]
    },
    {
     "name": "stdout",
     "output_type": "stream",
     "text": [
      "\n",
      "<Response [200]>"
     ]
    },
    {
     "name": "stderr",
     "output_type": "stream",
     "text": [
      "\r",
      " 57%|███████████████████████████████████████████████████▋                                      | 58/101 [00:16<00:10,  4.07it/s]"
     ]
    },
    {
     "name": "stdout",
     "output_type": "stream",
     "text": [
      "\n",
      "<Response [200]>"
     ]
    },
    {
     "name": "stderr",
     "output_type": "stream",
     "text": [
      "\r",
      " 58%|████████████████████████████████████████████████████▌                                     | 59/101 [00:16<00:10,  4.15it/s]"
     ]
    },
    {
     "name": "stdout",
     "output_type": "stream",
     "text": [
      "\n",
      "<Response [200]>"
     ]
    },
    {
     "name": "stderr",
     "output_type": "stream",
     "text": [
      "\r",
      " 59%|█████████████████████████████████████████████████████▍                                    | 60/101 [00:16<00:10,  3.89it/s]"
     ]
    },
    {
     "name": "stdout",
     "output_type": "stream",
     "text": [
      "\n",
      "<Response [200]>"
     ]
    },
    {
     "name": "stderr",
     "output_type": "stream",
     "text": [
      "\r",
      " 60%|██████████████████████████████████████████████████████▎                                   | 61/101 [00:17<00:11,  3.45it/s]"
     ]
    },
    {
     "name": "stdout",
     "output_type": "stream",
     "text": [
      "\n",
      "<Response [200]>"
     ]
    },
    {
     "name": "stderr",
     "output_type": "stream",
     "text": [
      "\r",
      " 61%|███████████████████████████████████████████████████████▏                                  | 62/101 [00:17<00:09,  4.15it/s]"
     ]
    },
    {
     "name": "stdout",
     "output_type": "stream",
     "text": [
      "\n",
      "<Response [200]>"
     ]
    },
    {
     "name": "stderr",
     "output_type": "stream",
     "text": [
      "\r",
      " 62%|████████████████████████████████████████████████████████▏                                 | 63/101 [00:17<00:09,  4.04it/s]"
     ]
    },
    {
     "name": "stdout",
     "output_type": "stream",
     "text": [
      "\n",
      "<Response [200]>"
     ]
    },
    {
     "name": "stderr",
     "output_type": "stream",
     "text": [
      "\r",
      " 63%|█████████████████████████████████████████████████████████                                 | 64/101 [00:17<00:09,  4.05it/s]"
     ]
    },
    {
     "name": "stdout",
     "output_type": "stream",
     "text": [
      "\n",
      "<Response [200]>"
     ]
    },
    {
     "name": "stderr",
     "output_type": "stream",
     "text": [
      "\r",
      " 64%|█████████████████████████████████████████████████████████▉                                | 65/101 [00:18<00:09,  3.97it/s]"
     ]
    },
    {
     "name": "stdout",
     "output_type": "stream",
     "text": [
      "\n",
      "<Response [200]>"
     ]
    },
    {
     "name": "stderr",
     "output_type": "stream",
     "text": [
      "\r",
      " 65%|██████████████████████████████████████████████████████████▊                               | 66/101 [00:18<00:07,  4.49it/s]"
     ]
    },
    {
     "name": "stdout",
     "output_type": "stream",
     "text": [
      "\n",
      "<Response [200]>"
     ]
    },
    {
     "name": "stderr",
     "output_type": "stream",
     "text": [
      "\r",
      " 66%|███████████████████████████████████████████████████████████▋                              | 67/101 [00:18<00:07,  4.61it/s]"
     ]
    },
    {
     "name": "stdout",
     "output_type": "stream",
     "text": [
      "\n",
      "<Response [200]>"
     ]
    },
    {
     "name": "stderr",
     "output_type": "stream",
     "text": [
      "\r",
      " 67%|████████████████████████████████████████████████████████████▌                             | 68/101 [00:18<00:06,  4.98it/s]"
     ]
    },
    {
     "name": "stdout",
     "output_type": "stream",
     "text": [
      "\n",
      "<Response [200]>"
     ]
    },
    {
     "name": "stderr",
     "output_type": "stream",
     "text": [
      "\r",
      " 68%|█████████████████████████████████████████████████████████████▍                            | 69/101 [00:18<00:06,  5.32it/s]"
     ]
    },
    {
     "name": "stdout",
     "output_type": "stream",
     "text": [
      "\n",
      "<Response [200]>"
     ]
    },
    {
     "name": "stderr",
     "output_type": "stream",
     "text": [
      "\r",
      " 69%|██████████████████████████████████████████████████████████████▍                           | 70/101 [00:18<00:05,  5.38it/s]"
     ]
    },
    {
     "name": "stdout",
     "output_type": "stream",
     "text": [
      "\n",
      "<Response [200]>"
     ]
    },
    {
     "name": "stderr",
     "output_type": "stream",
     "text": [
      "\r",
      " 70%|███████████████████████████████████████████████████████████████▎                          | 71/101 [00:19<00:05,  5.41it/s]"
     ]
    },
    {
     "name": "stdout",
     "output_type": "stream",
     "text": [
      "\n",
      "<Response [200]>"
     ]
    },
    {
     "name": "stderr",
     "output_type": "stream",
     "text": [
      "\r",
      " 71%|████████████████████████████████████████████████████████████████▏                         | 72/101 [00:19<00:05,  5.45it/s]"
     ]
    },
    {
     "name": "stdout",
     "output_type": "stream",
     "text": [
      "\n",
      "<Response [200]>"
     ]
    },
    {
     "name": "stderr",
     "output_type": "stream",
     "text": [
      "\r",
      " 72%|█████████████████████████████████████████████████████████████████                         | 73/101 [00:19<00:05,  5.39it/s]"
     ]
    },
    {
     "name": "stdout",
     "output_type": "stream",
     "text": [
      "\n",
      "<Response [200]>"
     ]
    },
    {
     "name": "stderr",
     "output_type": "stream",
     "text": [
      "\r",
      " 73%|█████████████████████████████████████████████████████████████████▉                        | 74/101 [00:19<00:04,  5.49it/s]"
     ]
    },
    {
     "name": "stdout",
     "output_type": "stream",
     "text": [
      "\n",
      "<Response [200]>"
     ]
    },
    {
     "name": "stderr",
     "output_type": "stream",
     "text": [
      "\r",
      " 74%|██████████████████████████████████████████████████████████████████▊                       | 75/101 [00:19<00:05,  4.91it/s]"
     ]
    },
    {
     "name": "stdout",
     "output_type": "stream",
     "text": [
      "\n",
      "<Response [200]>"
     ]
    },
    {
     "name": "stderr",
     "output_type": "stream",
     "text": [
      "\r",
      " 75%|███████████████████████████████████████████████████████████████████▋                      | 76/101 [00:20<00:05,  4.64it/s]"
     ]
    },
    {
     "name": "stdout",
     "output_type": "stream",
     "text": [
      "\n",
      "<Response [200]>"
     ]
    },
    {
     "name": "stderr",
     "output_type": "stream",
     "text": [
      "\r",
      " 76%|████████████████████████████████████████████████████████████████████▌                     | 77/101 [00:20<00:04,  4.95it/s]"
     ]
    },
    {
     "name": "stdout",
     "output_type": "stream",
     "text": [
      "\n",
      "<Response [200]>"
     ]
    },
    {
     "name": "stderr",
     "output_type": "stream",
     "text": [
      "\r",
      " 77%|█████████████████████████████████████████████████████████████████████▌                    | 78/101 [00:20<00:05,  4.41it/s]"
     ]
    },
    {
     "name": "stdout",
     "output_type": "stream",
     "text": [
      "\n",
      "<Response [200]>"
     ]
    },
    {
     "name": "stderr",
     "output_type": "stream",
     "text": [
      "\r",
      " 78%|██████████████████████████████████████████████████████████████████████▍                   | 79/101 [00:20<00:04,  4.74it/s]"
     ]
    },
    {
     "name": "stdout",
     "output_type": "stream",
     "text": [
      "\n",
      "<Response [200]>"
     ]
    },
    {
     "name": "stderr",
     "output_type": "stream",
     "text": [
      "\r",
      " 79%|███████████████████████████████████████████████████████████████████████▎                  | 80/101 [00:21<00:05,  3.78it/s]"
     ]
    },
    {
     "name": "stdout",
     "output_type": "stream",
     "text": [
      "\n",
      "<Response [200]>"
     ]
    },
    {
     "name": "stderr",
     "output_type": "stream",
     "text": [
      "\r",
      " 80%|████████████████████████████████████████████████████████████████████████▏                 | 81/101 [00:22<00:06,  3.13it/s]"
     ]
    },
    {
     "name": "stdout",
     "output_type": "stream",
     "text": [
      "\n",
      "<Response [200]>"
     ]
    },
    {
     "name": "stderr",
     "output_type": "stream",
     "text": [
      "\r",
      " 81%|█████████████████████████████████████████████████████████████████████████                 | 82/101 [00:22<00:04,  3.81it/s]"
     ]
    },
    {
     "name": "stdout",
     "output_type": "stream",
     "text": [
      "\n",
      "<Response [200]>"
     ]
    },
    {
     "name": "stderr",
     "output_type": "stream",
     "text": [
      "\r",
      " 82%|█████████████████████████████████████████████████████████████████████████▉                | 83/101 [00:22<00:04,  3.70it/s]"
     ]
    },
    {
     "name": "stdout",
     "output_type": "stream",
     "text": [
      "\n",
      "<Response [200]>"
     ]
    },
    {
     "name": "stderr",
     "output_type": "stream",
     "text": [
      "\r",
      " 83%|██████████████████████████████████████████████████████████████████████████▊               | 84/101 [00:22<00:04,  4.08it/s]"
     ]
    },
    {
     "name": "stdout",
     "output_type": "stream",
     "text": [
      "\n",
      "<Response [200]>"
     ]
    },
    {
     "name": "stderr",
     "output_type": "stream",
     "text": [
      "\r",
      " 84%|███████████████████████████████████████████████████████████████████████████▋              | 85/101 [00:23<00:04,  3.68it/s]"
     ]
    },
    {
     "name": "stdout",
     "output_type": "stream",
     "text": [
      "\n",
      "<Response [200]>"
     ]
    },
    {
     "name": "stderr",
     "output_type": "stream",
     "text": [
      "\r",
      " 85%|████████████████████████████████████████████████████████████████████████████▋             | 86/101 [00:23<00:03,  4.13it/s]"
     ]
    },
    {
     "name": "stdout",
     "output_type": "stream",
     "text": [
      "\n",
      "<Response [200]>"
     ]
    },
    {
     "name": "stderr",
     "output_type": "stream",
     "text": [
      "\r",
      " 86%|█████████████████████████████████████████████████████████████████████████████▌            | 87/101 [00:23<00:03,  4.65it/s]"
     ]
    },
    {
     "name": "stdout",
     "output_type": "stream",
     "text": [
      "\n",
      "<Response [200]>"
     ]
    },
    {
     "name": "stderr",
     "output_type": "stream",
     "text": [
      "\r",
      " 87%|██████████████████████████████████████████████████████████████████████████████▍           | 88/101 [00:24<00:03,  3.71it/s]"
     ]
    },
    {
     "name": "stdout",
     "output_type": "stream",
     "text": [
      "\n",
      "<Response [200]>"
     ]
    },
    {
     "name": "stderr",
     "output_type": "stream",
     "text": [
      "\r",
      " 88%|███████████████████████████████████████████████████████████████████████████████▎          | 89/101 [00:24<00:02,  4.23it/s]"
     ]
    },
    {
     "name": "stdout",
     "output_type": "stream",
     "text": [
      "\n",
      "<Response [200]>"
     ]
    },
    {
     "name": "stderr",
     "output_type": "stream",
     "text": [
      "\r",
      " 89%|████████████████████████████████████████████████████████████████████████████████▏         | 90/101 [00:24<00:02,  4.14it/s]"
     ]
    },
    {
     "name": "stdout",
     "output_type": "stream",
     "text": [
      "\n",
      "<Response [200]>"
     ]
    },
    {
     "name": "stderr",
     "output_type": "stream",
     "text": [
      "\r",
      " 90%|█████████████████████████████████████████████████████████████████████████████████         | 91/101 [00:24<00:02,  4.47it/s]"
     ]
    },
    {
     "name": "stdout",
     "output_type": "stream",
     "text": [
      "\n",
      "<Response [200]>"
     ]
    },
    {
     "name": "stderr",
     "output_type": "stream",
     "text": [
      "\r",
      " 91%|█████████████████████████████████████████████████████████████████████████████████▉        | 92/101 [00:25<00:02,  4.11it/s]"
     ]
    },
    {
     "name": "stdout",
     "output_type": "stream",
     "text": [
      "\n",
      "<Response [200]>"
     ]
    },
    {
     "name": "stderr",
     "output_type": "stream",
     "text": [
      "\r",
      " 92%|██████████████████████████████████████████████████████████████████████████████████▊       | 93/101 [00:25<00:01,  4.62it/s]"
     ]
    },
    {
     "name": "stdout",
     "output_type": "stream",
     "text": [
      "\n",
      "<Response [200]>"
     ]
    },
    {
     "name": "stderr",
     "output_type": "stream",
     "text": [
      "\r",
      " 93%|███████████████████████████████████████████████████████████████████████████████████▊      | 94/101 [00:25<00:01,  4.27it/s]"
     ]
    },
    {
     "name": "stdout",
     "output_type": "stream",
     "text": [
      "\n",
      "<Response [200]>"
     ]
    },
    {
     "name": "stderr",
     "output_type": "stream",
     "text": [
      "\r",
      " 94%|████████████████████████████████████████████████████████████████████████████████████▋     | 95/101 [00:25<00:01,  3.86it/s]"
     ]
    },
    {
     "name": "stdout",
     "output_type": "stream",
     "text": [
      "\n",
      "<Response [200]>"
     ]
    },
    {
     "name": "stderr",
     "output_type": "stream",
     "text": [
      "\r",
      " 95%|█████████████████████████████████████████████████████████████████████████████████████▌    | 96/101 [00:26<00:01,  3.86it/s]"
     ]
    },
    {
     "name": "stdout",
     "output_type": "stream",
     "text": [
      "\n",
      "<Response [200]>"
     ]
    },
    {
     "name": "stderr",
     "output_type": "stream",
     "text": [
      "\r",
      " 96%|██████████████████████████████████████████████████████████████████████████████████████▍   | 97/101 [00:26<00:00,  4.24it/s]"
     ]
    },
    {
     "name": "stdout",
     "output_type": "stream",
     "text": [
      "\n",
      "<Response [200]>"
     ]
    },
    {
     "name": "stderr",
     "output_type": "stream",
     "text": [
      "\r",
      " 97%|███████████████████████████████████████████████████████████████████████████████████████▎  | 98/101 [00:26<00:00,  4.47it/s]"
     ]
    },
    {
     "name": "stdout",
     "output_type": "stream",
     "text": [
      "\n",
      "<Response [200]>"
     ]
    },
    {
     "name": "stderr",
     "output_type": "stream",
     "text": [
      "\r",
      " 98%|████████████████████████████████████████████████████████████████████████████████████████▏ | 99/101 [00:26<00:00,  4.72it/s]"
     ]
    },
    {
     "name": "stdout",
     "output_type": "stream",
     "text": [
      "\n",
      "<Response [200]>"
     ]
    },
    {
     "name": "stderr",
     "output_type": "stream",
     "text": [
      "\r",
      " 99%|████████████████████████████████████████████████████████████████████████████████████████ | 100/101 [00:26<00:00,  5.05it/s]"
     ]
    },
    {
     "name": "stdout",
     "output_type": "stream",
     "text": [
      "\n",
      "<Response [200]>"
     ]
    },
    {
     "name": "stderr",
     "output_type": "stream",
     "text": [
      "                                                                                                                                "
     ]
    },
    {
     "name": "stdout",
     "output_type": "stream",
     "text": [
      "\n"
     ]
    },
    {
     "name": "stderr",
     "output_type": "stream",
     "text": [
      "\r"
     ]
    }
   ],
   "source": [
    "for filter_val in tqdm(new_vals):\n",
    "    tag_data = 'tagName={0}'.format(filter_val.replace(' ', '+'))\n",
    "    add_tag_url = 'https://clients.insightsquared.com/tag/add/'\n",
    "    post_resp = session.post(add_tag_url, headers=headers, cookies=cookies, data=tag_data)\n",
    "    print post_resp"
   ]
  },
  {
   "cell_type": "markdown",
   "metadata": {},
   "source": [
    "# apply the tags to the employees"
   ]
  },
  {
   "cell_type": "code",
   "execution_count": 36,
   "metadata": {
    "collapsed": true
   },
   "outputs": [],
   "source": [
    "employee_tags = get_user_selected_tags()"
   ]
  },
  {
   "cell_type": "code",
   "execution_count": 37,
   "metadata": {
    "collapsed": false
   },
   "outputs": [
    {
     "data": {
      "text/html": [
       "<div>\n",
       "<table border=\"1\" class=\"dataframe\">\n",
       "  <thead>\n",
       "    <tr style=\"text-align: right;\">\n",
       "      <th></th>\n",
       "      <th>name</th>\n",
       "      <th>id</th>\n",
       "      <th>tag_name</th>\n",
       "      <th>selected</th>\n",
       "      <th>url</th>\n",
       "    </tr>\n",
       "  </thead>\n",
       "  <tbody>\n",
       "    <tr>\n",
       "      <th>0</th>\n",
       "      <td>Aaron Yuhas</td>\n",
       "      <td>9145459</td>\n",
       "      <td>Client or Region: AECOM URS</td>\n",
       "      <td>False</td>\n",
       "      <td>/tag/toggle/Client%20or%20Region%3A%20AECOM%20...</td>\n",
       "    </tr>\n",
       "    <tr>\n",
       "      <th>1</th>\n",
       "      <td>Aaron Yuhas</td>\n",
       "      <td>9145459</td>\n",
       "      <td>Client or Region: ATL Recruiting Multiple</td>\n",
       "      <td>False</td>\n",
       "      <td>/tag/toggle/Client%20or%20Region%3A%20ATL%20Re...</td>\n",
       "    </tr>\n",
       "    <tr>\n",
       "      <th>2</th>\n",
       "      <td>Aaron Yuhas</td>\n",
       "      <td>9145459</td>\n",
       "      <td>Client or Region: Bombardier Ericsson</td>\n",
       "      <td>False</td>\n",
       "      <td>/tag/toggle/Client%20or%20Region%3A%20Bombardi...</td>\n",
       "    </tr>\n",
       "    <tr>\n",
       "      <th>3</th>\n",
       "      <td>Aaron Yuhas</td>\n",
       "      <td>9145459</td>\n",
       "      <td>Client or Region: Eastern Canada</td>\n",
       "      <td>False</td>\n",
       "      <td>/tag/toggle/Client%20or%20Region%3A%20Eastern%...</td>\n",
       "    </tr>\n",
       "    <tr>\n",
       "      <th>4</th>\n",
       "      <td>Aaron Yuhas</td>\n",
       "      <td>9145459</td>\n",
       "      <td>Client or Region: Edgerock Lite</td>\n",
       "      <td>False</td>\n",
       "      <td>/tag/toggle/Client%20or%20Region%3A%20Edgerock...</td>\n",
       "    </tr>\n",
       "  </tbody>\n",
       "</table>\n",
       "</div>"
      ],
      "text/plain": [
       "          name       id                                   tag_name selected  \\\n",
       "0  Aaron Yuhas  9145459                Client or Region: AECOM URS    False   \n",
       "1  Aaron Yuhas  9145459  Client or Region: ATL Recruiting Multiple    False   \n",
       "2  Aaron Yuhas  9145459      Client or Region: Bombardier Ericsson    False   \n",
       "3  Aaron Yuhas  9145459           Client or Region: Eastern Canada    False   \n",
       "4  Aaron Yuhas  9145459            Client or Region: Edgerock Lite    False   \n",
       "\n",
       "                                                 url  \n",
       "0  /tag/toggle/Client%20or%20Region%3A%20AECOM%20...  \n",
       "1  /tag/toggle/Client%20or%20Region%3A%20ATL%20Re...  \n",
       "2  /tag/toggle/Client%20or%20Region%3A%20Bombardi...  \n",
       "3  /tag/toggle/Client%20or%20Region%3A%20Eastern%...  \n",
       "4  /tag/toggle/Client%20or%20Region%3A%20Edgerock...  "
      ]
     },
     "execution_count": 37,
     "metadata": {},
     "output_type": "execute_result"
    }
   ],
   "source": [
    "employee_tags.head()"
   ]
  },
  {
   "cell_type": "code",
   "execution_count": 38,
   "metadata": {
    "collapsed": false
   },
   "outputs": [
    {
     "data": {
      "text/html": [
       "<div>\n",
       "<table border=\"1\" class=\"dataframe\">\n",
       "  <thead>\n",
       "    <tr style=\"text-align: right;\">\n",
       "      <th></th>\n",
       "      <th>name</th>\n",
       "      <th>id</th>\n",
       "      <th>tag_name</th>\n",
       "      <th>selected</th>\n",
       "      <th>url</th>\n",
       "    </tr>\n",
       "  </thead>\n",
       "  <tbody>\n",
       "    <tr>\n",
       "      <th>14</th>\n",
       "      <td>Aaron Yuhas</td>\n",
       "      <td>9145459</td>\n",
       "      <td>Client or Region: Midwest Multiple</td>\n",
       "      <td>True</td>\n",
       "      <td>/tag/toggle/Client%20or%20Region%3A%20Midwest%...</td>\n",
       "    </tr>\n",
       "    <tr>\n",
       "      <th>29</th>\n",
       "      <td>Aaron Yuhas</td>\n",
       "      <td>9145459</td>\n",
       "      <td>Fulfillment Practice Coordinator: Cindy Greenbaum</td>\n",
       "      <td>True</td>\n",
       "      <td>/tag/toggle/Fulfillment%20Practice%20Coordinat...</td>\n",
       "    </tr>\n",
       "  </tbody>\n",
       "</table>\n",
       "</div>"
      ],
      "text/plain": [
       "           name       id                                           tag_name  \\\n",
       "14  Aaron Yuhas  9145459                 Client or Region: Midwest Multiple   \n",
       "29  Aaron Yuhas  9145459  Fulfillment Practice Coordinator: Cindy Greenbaum   \n",
       "\n",
       "   selected                                                url  \n",
       "14     True  /tag/toggle/Client%20or%20Region%3A%20Midwest%...  \n",
       "29     True  /tag/toggle/Fulfillment%20Practice%20Coordinat...  "
      ]
     },
     "execution_count": 38,
     "metadata": {},
     "output_type": "execute_result"
    }
   ],
   "source": [
    "employee_tags[employee_tags['selected']].head(2)"
   ]
  },
  {
   "cell_type": "code",
   "execution_count": 39,
   "metadata": {
    "collapsed": false
   },
   "outputs": [
    {
     "name": "stderr",
     "output_type": "stream",
     "text": [
      "  1%|▌                                                                                          | 1/177 [00:00<01:08,  2.55it/s]"
     ]
    },
    {
     "name": "stdout",
     "output_type": "stream",
     "text": [
      "<Response [200]>\n",
      "<Response [200]>"
     ]
    },
    {
     "name": "stderr",
     "output_type": "stream",
     "text": [
      "\r",
      "  2%|█▌                                                                                         | 3/177 [00:00<00:52,  3.33it/s]"
     ]
    },
    {
     "name": "stdout",
     "output_type": "stream",
     "text": [
      "\n",
      "<Response [200]>"
     ]
    },
    {
     "name": "stderr",
     "output_type": "stream",
     "text": [
      "\r",
      "  2%|██                                                                                         | 4/177 [00:01<00:53,  3.24it/s]"
     ]
    },
    {
     "name": "stdout",
     "output_type": "stream",
     "text": [
      "\n",
      "<Response [200]>"
     ]
    },
    {
     "name": "stderr",
     "output_type": "stream",
     "text": [
      "  5%|████                                                                                       | 8/177 [00:01<00:21,  7.86it/s]"
     ]
    },
    {
     "name": "stdout",
     "output_type": "stream",
     "text": [
      "\n",
      "<Response [200]>"
     ]
    },
    {
     "name": "stderr",
     "output_type": "stream",
     "text": [
      "\r",
      "  5%|████▋                                                                                      | 9/177 [00:02<00:26,  6.25it/s]"
     ]
    },
    {
     "name": "stdout",
     "output_type": "stream",
     "text": [
      "\n",
      "<Response [200]>"
     ]
    },
    {
     "name": "stderr",
     "output_type": "stream",
     "text": [
      "\r",
      "  6%|█████                                                                                     | 10/177 [00:02<00:32,  5.10it/s]"
     ]
    },
    {
     "name": "stdout",
     "output_type": "stream",
     "text": [
      "\n",
      "<Response [200]>"
     ]
    },
    {
     "name": "stderr",
     "output_type": "stream",
     "text": [
      "  8%|███████                                                                                   | 14/177 [00:02<00:20,  8.07it/s]"
     ]
    },
    {
     "name": "stdout",
     "output_type": "stream",
     "text": [
      "\n",
      "<Response [200]>"
     ]
    },
    {
     "name": "stderr",
     "output_type": "stream",
     "text": [
      " 10%|████████▋                                                                                 | 17/177 [00:03<00:16,  9.59it/s]"
     ]
    },
    {
     "name": "stdout",
     "output_type": "stream",
     "text": [
      "\n",
      "<Response [200]>"
     ]
    },
    {
     "name": "stderr",
     "output_type": "stream",
     "text": [
      "\r",
      " 10%|█████████▏                                                                                | 18/177 [00:04<00:22,  7.09it/s]"
     ]
    },
    {
     "name": "stdout",
     "output_type": "stream",
     "text": [
      "\n",
      "<Response [200]>"
     ]
    },
    {
     "name": "stderr",
     "output_type": "stream",
     "text": [
      " 12%|██████████▋                                                                               | 21/177 [00:04<00:17,  8.89it/s]"
     ]
    },
    {
     "name": "stdout",
     "output_type": "stream",
     "text": [
      "\n",
      "<Response [200]>"
     ]
    },
    {
     "name": "stderr",
     "output_type": "stream",
     "text": [
      "\r",
      " 12%|███████████▏                                                                              | 22/177 [00:04<00:20,  7.50it/s]"
     ]
    },
    {
     "name": "stdout",
     "output_type": "stream",
     "text": [
      "\n",
      "<Response [200]>"
     ]
    },
    {
     "name": "stderr",
     "output_type": "stream",
     "text": [
      " 15%|█████████████▏                                                                            | 26/177 [00:05<00:14, 10.28it/s]"
     ]
    },
    {
     "name": "stdout",
     "output_type": "stream",
     "text": [
      "\n",
      "<Response [200]>\n",
      "<Response [200]>"
     ]
    },
    {
     "name": "stderr",
     "output_type": "stream",
     "text": [
      "\r",
      " 16%|██████████████▏                                                                           | 28/177 [00:06<00:18,  8.10it/s]"
     ]
    },
    {
     "name": "stdout",
     "output_type": "stream",
     "text": [
      "\n",
      "<Response [200]>"
     ]
    },
    {
     "name": "stderr",
     "output_type": "stream",
     "text": [
      "\r",
      " 16%|██████████████▋                                                                           | 29/177 [00:06<00:22,  6.50it/s]"
     ]
    },
    {
     "name": "stdout",
     "output_type": "stream",
     "text": [
      "\n",
      "<Response [200]>"
     ]
    },
    {
     "name": "stderr",
     "output_type": "stream",
     "text": [
      "\r",
      " 18%|███████████████▊                                                                          | 31/177 [00:06<00:22,  6.42it/s]"
     ]
    },
    {
     "name": "stdout",
     "output_type": "stream",
     "text": [
      "\n",
      "<Response [200]>"
     ]
    },
    {
     "name": "stderr",
     "output_type": "stream",
     "text": [
      "\r",
      " 18%|████████████████▎                                                                         | 32/177 [00:07<00:26,  5.54it/s]"
     ]
    },
    {
     "name": "stdout",
     "output_type": "stream",
     "text": [
      "\n",
      "<Response [200]>"
     ]
    },
    {
     "name": "stderr",
     "output_type": "stream",
     "text": [
      "\r",
      " 19%|████████████████▊                                                                         | 33/177 [00:07<00:29,  4.92it/s]"
     ]
    },
    {
     "name": "stdout",
     "output_type": "stream",
     "text": [
      "\n",
      "<Response [200]>"
     ]
    },
    {
     "name": "stderr",
     "output_type": "stream",
     "text": [
      "\r",
      " 19%|█████████████████▎                                                                        | 34/177 [00:07<00:34,  4.19it/s]"
     ]
    },
    {
     "name": "stdout",
     "output_type": "stream",
     "text": [
      "\n",
      "<Response [200]>"
     ]
    },
    {
     "name": "stderr",
     "output_type": "stream",
     "text": [
      " 20%|██████████████████▎                                                                       | 36/177 [00:08<00:26,  5.40it/s]"
     ]
    },
    {
     "name": "stdout",
     "output_type": "stream",
     "text": [
      "\n",
      "<Response [200]>"
     ]
    },
    {
     "name": "stderr",
     "output_type": "stream",
     "text": [
      "\r",
      " 21%|██████████████████▊                                                                       | 37/177 [00:08<00:30,  4.53it/s]"
     ]
    },
    {
     "name": "stdout",
     "output_type": "stream",
     "text": [
      "\n",
      "<Response [200]>"
     ]
    },
    {
     "name": "stderr",
     "output_type": "stream",
     "text": [
      "\r",
      " 21%|███████████████████▎                                                                      | 38/177 [00:09<00:33,  4.16it/s]"
     ]
    },
    {
     "name": "stdout",
     "output_type": "stream",
     "text": [
      "\n",
      "<Response [200]>"
     ]
    },
    {
     "name": "stderr",
     "output_type": "stream",
     "text": [
      "\r",
      " 22%|███████████████████▊                                                                      | 39/177 [00:09<00:37,  3.67it/s]"
     ]
    },
    {
     "name": "stdout",
     "output_type": "stream",
     "text": [
      "\n",
      "<Response [200]>"
     ]
    },
    {
     "name": "stderr",
     "output_type": "stream",
     "text": [
      "\r",
      " 23%|████████████████████▎                                                                     | 40/177 [00:09<00:37,  3.63it/s]"
     ]
    },
    {
     "name": "stdout",
     "output_type": "stream",
     "text": [
      "\n",
      "<Response [200]>"
     ]
    },
    {
     "name": "stderr",
     "output_type": "stream",
     "text": [
      " 24%|█████████████████████▎                                                                    | 42/177 [00:10<00:26,  5.01it/s]"
     ]
    },
    {
     "name": "stdout",
     "output_type": "stream",
     "text": [
      "\n",
      "<Response [200]>"
     ]
    },
    {
     "name": "stderr",
     "output_type": "stream",
     "text": [
      " 27%|███████████████████████▉                                                                  | 47/177 [00:10<00:12, 10.55it/s]"
     ]
    },
    {
     "name": "stdout",
     "output_type": "stream",
     "text": [
      "\n",
      "<Response [200]>"
     ]
    },
    {
     "name": "stderr",
     "output_type": "stream",
     "text": [
      "\r",
      " 28%|████████████████████████▉                                                                 | 49/177 [00:11<00:14,  8.76it/s]"
     ]
    },
    {
     "name": "stdout",
     "output_type": "stream",
     "text": [
      "\n",
      "<Response [200]>"
     ]
    },
    {
     "name": "stderr",
     "output_type": "stream",
     "text": [
      "\r",
      " 28%|█████████████████████████▍                                                                | 50/177 [00:11<00:17,  7.18it/s]"
     ]
    },
    {
     "name": "stdout",
     "output_type": "stream",
     "text": [
      "\n",
      "<Response [200]>"
     ]
    },
    {
     "name": "stderr",
     "output_type": "stream",
     "text": [
      "\r",
      " 29%|█████████████████████████▉                                                                | 51/177 [00:11<00:21,  5.84it/s]"
     ]
    },
    {
     "name": "stdout",
     "output_type": "stream",
     "text": [
      "\n",
      "<Response [200]>"
     ]
    },
    {
     "name": "stderr",
     "output_type": "stream",
     "text": [
      "\r",
      " 29%|██████████████████████████▍                                                               | 52/177 [00:11<00:23,  5.22it/s]"
     ]
    },
    {
     "name": "stdout",
     "output_type": "stream",
     "text": [
      "\n",
      "<Response [200]>"
     ]
    },
    {
     "name": "stderr",
     "output_type": "stream",
     "text": [
      "\r",
      " 30%|██████████████████████████▉                                                               | 53/177 [00:12<00:26,  4.73it/s]"
     ]
    },
    {
     "name": "stdout",
     "output_type": "stream",
     "text": [
      "\n",
      "<Response [200]>"
     ]
    },
    {
     "name": "stderr",
     "output_type": "stream",
     "text": [
      "\r",
      " 31%|███████████████████████████▍                                                              | 54/177 [00:12<00:28,  4.33it/s]"
     ]
    },
    {
     "name": "stdout",
     "output_type": "stream",
     "text": [
      "\n",
      "<Response [200]>"
     ]
    },
    {
     "name": "stderr",
     "output_type": "stream",
     "text": [
      "\r",
      " 32%|████████████████████████████▍                                                             | 56/177 [00:12<00:26,  4.54it/s]"
     ]
    },
    {
     "name": "stdout",
     "output_type": "stream",
     "text": [
      "\n",
      "<Response [200]>"
     ]
    },
    {
     "name": "stderr",
     "output_type": "stream",
     "text": [
      " 33%|██████████████████████████████                                                            | 59/177 [00:13<00:13,  8.77it/s]"
     ]
    },
    {
     "name": "stdout",
     "output_type": "stream",
     "text": [
      "\n",
      "<Response [200]>"
     ]
    },
    {
     "name": "stderr",
     "output_type": "stream",
     "text": [
      "\r",
      " 34%|██████████████████████████████▌                                                           | 60/177 [00:13<00:15,  7.34it/s]"
     ]
    },
    {
     "name": "stdout",
     "output_type": "stream",
     "text": [
      "\n",
      "<Response [200]>"
     ]
    },
    {
     "name": "stderr",
     "output_type": "stream",
     "text": [
      "\r",
      " 34%|███████████████████████████████                                                           | 61/177 [00:13<00:18,  6.16it/s]"
     ]
    },
    {
     "name": "stdout",
     "output_type": "stream",
     "text": [
      "\n",
      "<Response [200]>"
     ]
    },
    {
     "name": "stderr",
     "output_type": "stream",
     "text": [
      "\r",
      " 35%|███████████████████████████████▌                                                          | 62/177 [00:14<00:22,  5.06it/s]"
     ]
    },
    {
     "name": "stdout",
     "output_type": "stream",
     "text": [
      "\n",
      "<Response [200]>"
     ]
    },
    {
     "name": "stderr",
     "output_type": "stream",
     "text": [
      "\r",
      " 36%|████████████████████████████████                                                          | 63/177 [00:14<00:27,  4.21it/s]"
     ]
    },
    {
     "name": "stdout",
     "output_type": "stream",
     "text": [
      "\n",
      "<Response [200]>"
     ]
    },
    {
     "name": "stderr",
     "output_type": "stream",
     "text": [
      "\r",
      " 36%|████████████████████████████████▌                                                         | 64/177 [00:15<00:34,  3.32it/s]"
     ]
    },
    {
     "name": "stdout",
     "output_type": "stream",
     "text": [
      "\n",
      "<Response [200]>"
     ]
    },
    {
     "name": "stderr",
     "output_type": "stream",
     "text": [
      " 38%|██████████████████████████████████                                                        | 67/177 [00:15<00:13,  8.06it/s]"
     ]
    },
    {
     "name": "stdout",
     "output_type": "stream",
     "text": [
      "\n",
      "<Response [200]>"
     ]
    },
    {
     "name": "stderr",
     "output_type": "stream",
     "text": [
      "\r",
      " 38%|██████████████████████████████████▌                                                       | 68/177 [00:16<00:16,  6.60it/s]"
     ]
    },
    {
     "name": "stdout",
     "output_type": "stream",
     "text": [
      "\n",
      "<Response [200]>"
     ]
    },
    {
     "name": "stderr",
     "output_type": "stream",
     "text": [
      "\r",
      " 39%|███████████████████████████████████                                                       | 69/177 [00:16<00:18,  5.81it/s]"
     ]
    },
    {
     "name": "stdout",
     "output_type": "stream",
     "text": [
      "\n",
      "<Response [200]>"
     ]
    },
    {
     "name": "stderr",
     "output_type": "stream",
     "text": [
      "\r",
      " 40%|███████████████████████████████████▌                                                      | 70/177 [00:16<00:21,  4.96it/s]"
     ]
    },
    {
     "name": "stdout",
     "output_type": "stream",
     "text": [
      "\n",
      "<Response [200]>"
     ]
    },
    {
     "name": "stderr",
     "output_type": "stream",
     "text": [
      "\r",
      " 40%|████████████████████████████████████                                                      | 71/177 [00:17<00:23,  4.58it/s]"
     ]
    },
    {
     "name": "stdout",
     "output_type": "stream",
     "text": [
      "\n",
      "<Response [200]>"
     ]
    },
    {
     "name": "stderr",
     "output_type": "stream",
     "text": [
      " 42%|██████████████████████████████████████▏                                                   | 75/177 [00:17<00:11,  8.96it/s]"
     ]
    },
    {
     "name": "stdout",
     "output_type": "stream",
     "text": [
      "\n",
      "<Response [200]>"
     ]
    },
    {
     "name": "stderr",
     "output_type": "stream",
     "text": [
      " 44%|███████████████████████████████████████▋                                                  | 78/177 [00:18<00:09, 10.51it/s]"
     ]
    },
    {
     "name": "stdout",
     "output_type": "stream",
     "text": [
      "\n",
      "<Response [200]>\n",
      "<Response [200]>"
     ]
    },
    {
     "name": "stderr",
     "output_type": "stream",
     "text": [
      "\r",
      " 45%|████████████████████████████████████████▋                                                 | 80/177 [00:18<00:11,  8.44it/s]"
     ]
    },
    {
     "name": "stdout",
     "output_type": "stream",
     "text": [
      "\n",
      "<Response [200]>"
     ]
    },
    {
     "name": "stderr",
     "output_type": "stream",
     "text": [
      "\r",
      " 46%|█████████████████████████████████████████▏                                                | 81/177 [00:18<00:13,  6.99it/s]"
     ]
    },
    {
     "name": "stdout",
     "output_type": "stream",
     "text": [
      "\n",
      "<Response [200]>"
     ]
    },
    {
     "name": "stderr",
     "output_type": "stream",
     "text": [
      "\r",
      " 46%|█████████████████████████████████████████▋                                                | 82/177 [00:19<00:15,  5.97it/s]"
     ]
    },
    {
     "name": "stdout",
     "output_type": "stream",
     "text": [
      "\n",
      "<Response [200]>"
     ]
    },
    {
     "name": "stderr",
     "output_type": "stream",
     "text": [
      "\r",
      " 47%|██████████████████████████████████████████▏                                               | 83/177 [00:19<00:19,  4.86it/s]"
     ]
    },
    {
     "name": "stdout",
     "output_type": "stream",
     "text": [
      "\n",
      "<Response [200]>"
     ]
    },
    {
     "name": "stderr",
     "output_type": "stream",
     "text": [
      " 49%|████████████████████████████████████████████▏                                             | 87/177 [00:20<00:10,  8.89it/s]"
     ]
    },
    {
     "name": "stdout",
     "output_type": "stream",
     "text": [
      "\n",
      "<Response [200]>"
     ]
    },
    {
     "name": "stderr",
     "output_type": "stream",
     "text": [
      "\r",
      " 50%|█████████████████████████████████████████████▎                                            | 89/177 [00:20<00:11,  7.47it/s]"
     ]
    },
    {
     "name": "stdout",
     "output_type": "stream",
     "text": [
      "\n",
      "<Response [200]>"
     ]
    },
    {
     "name": "stderr",
     "output_type": "stream",
     "text": [
      "\r",
      " 51%|█████████████████████████████████████████████▊                                            | 90/177 [00:20<00:13,  6.30it/s]"
     ]
    },
    {
     "name": "stdout",
     "output_type": "stream",
     "text": [
      "\n",
      "<Response [200]>"
     ]
    },
    {
     "name": "stderr",
     "output_type": "stream",
     "text": [
      "\r",
      " 51%|██████████████████████████████████████████████▎                                           | 91/177 [00:21<00:15,  5.55it/s]"
     ]
    },
    {
     "name": "stdout",
     "output_type": "stream",
     "text": [
      "\n",
      "<Response [200]>"
     ]
    },
    {
     "name": "stderr",
     "output_type": "stream",
     "text": [
      "\r",
      " 52%|██████████████████████████████████████████████▊                                           | 92/177 [00:21<00:17,  4.81it/s]"
     ]
    },
    {
     "name": "stdout",
     "output_type": "stream",
     "text": [
      "\n",
      "<Response [200]>"
     ]
    },
    {
     "name": "stderr",
     "output_type": "stream",
     "text": [
      "\r",
      " 53%|███████████████████████████████████████████████▎                                          | 93/177 [00:21<00:18,  4.55it/s]"
     ]
    },
    {
     "name": "stdout",
     "output_type": "stream",
     "text": [
      "\n",
      "<Response [200]>"
     ]
    },
    {
     "name": "stderr",
     "output_type": "stream",
     "text": [
      "\r",
      " 53%|███████████████████████████████████████████████▊                                          | 94/177 [00:22<00:19,  4.21it/s]"
     ]
    },
    {
     "name": "stdout",
     "output_type": "stream",
     "text": [
      "\n",
      "<Response [200]>"
     ]
    },
    {
     "name": "stderr",
     "output_type": "stream",
     "text": [
      " 55%|█████████████████████████████████████████████████▎                                        | 97/177 [00:22<00:09,  8.81it/s]"
     ]
    },
    {
     "name": "stdout",
     "output_type": "stream",
     "text": [
      "\n",
      "<Response [200]>"
     ]
    },
    {
     "name": "stderr",
     "output_type": "stream",
     "text": [
      "\r",
      " 55%|█████████████████████████████████████████████████▊                                        | 98/177 [00:22<00:10,  7.22it/s]"
     ]
    },
    {
     "name": "stdout",
     "output_type": "stream",
     "text": [
      "\n",
      "<Response [200]>"
     ]
    },
    {
     "name": "stderr",
     "output_type": "stream",
     "text": [
      "\r",
      " 56%|██████████████████████████████████████████████████▎                                       | 99/177 [00:22<00:12,  6.12it/s]"
     ]
    },
    {
     "name": "stdout",
     "output_type": "stream",
     "text": [
      "\n",
      "<Response [200]>"
     ]
    },
    {
     "name": "stderr",
     "output_type": "stream",
     "text": [
      "\r",
      " 58%|███████████████████████████████████████████████████▎                                     | 102/177 [00:23<00:11,  6.81it/s]"
     ]
    },
    {
     "name": "stdout",
     "output_type": "stream",
     "text": [
      "\n",
      "<Response [200]>"
     ]
    },
    {
     "name": "stderr",
     "output_type": "stream",
     "text": [
      "\r",
      " 58%|███████████████████████████████████████████████████▊                                     | 103/177 [00:23<00:13,  5.38it/s]"
     ]
    },
    {
     "name": "stdout",
     "output_type": "stream",
     "text": [
      "\n",
      "<Response [200]>"
     ]
    },
    {
     "name": "stderr",
     "output_type": "stream",
     "text": [
      "\r",
      " 59%|████████████████████████████████████████████████████▊                                    | 105/177 [00:24<00:12,  5.58it/s]"
     ]
    },
    {
     "name": "stdout",
     "output_type": "stream",
     "text": [
      "\n",
      "<Response [200]>"
     ]
    },
    {
     "name": "stderr",
     "output_type": "stream",
     "text": [
      "\r",
      " 60%|█████████████████████████████████████████████████████▎                                   | 106/177 [00:24<00:14,  4.79it/s]"
     ]
    },
    {
     "name": "stdout",
     "output_type": "stream",
     "text": [
      "\n",
      "<Response [200]>"
     ]
    },
    {
     "name": "stderr",
     "output_type": "stream",
     "text": [
      "\r",
      " 60%|█████████████████████████████████████████████████████▊                                   | 107/177 [00:24<00:16,  4.22it/s]"
     ]
    },
    {
     "name": "stdout",
     "output_type": "stream",
     "text": [
      "\n",
      "<Response [200]>"
     ]
    },
    {
     "name": "stderr",
     "output_type": "stream",
     "text": [
      "\r",
      " 61%|██████████████████████████████████████████████████████▎                                  | 108/177 [00:25<00:17,  3.93it/s]"
     ]
    },
    {
     "name": "stdout",
     "output_type": "stream",
     "text": [
      "\n",
      "<Response [200]>"
     ]
    },
    {
     "name": "stderr",
     "output_type": "stream",
     "text": [
      "\r",
      " 62%|██████████████████████████████████████████████████████▊                                  | 109/177 [00:25<00:17,  3.78it/s]"
     ]
    },
    {
     "name": "stdout",
     "output_type": "stream",
     "text": [
      "\n",
      "<Response [200]>"
     ]
    },
    {
     "name": "stderr",
     "output_type": "stream",
     "text": [
      "\r",
      " 62%|███████████████████████████████████████████████████████▎                                 | 110/177 [00:25<00:18,  3.67it/s]"
     ]
    },
    {
     "name": "stdout",
     "output_type": "stream",
     "text": [
      "\n",
      "<Response [200]>"
     ]
    },
    {
     "name": "stderr",
     "output_type": "stream",
     "text": [
      "\r",
      " 63%|███████████████████████████████████████████████████████▊                                 | 111/177 [00:26<00:18,  3.59it/s]"
     ]
    },
    {
     "name": "stdout",
     "output_type": "stream",
     "text": [
      "\n",
      "<Response [200]>"
     ]
    },
    {
     "name": "stderr",
     "output_type": "stream",
     "text": [
      " 64%|█████████████████████████████████████████████████████████▎                               | 114/177 [00:26<00:07,  8.03it/s]"
     ]
    },
    {
     "name": "stdout",
     "output_type": "stream",
     "text": [
      "\n",
      "<Response [200]>"
     ]
    },
    {
     "name": "stderr",
     "output_type": "stream",
     "text": [
      "\r",
      " 65%|█████████████████████████████████████████████████████████▊                               | 115/177 [00:27<00:10,  6.16it/s]"
     ]
    },
    {
     "name": "stdout",
     "output_type": "stream",
     "text": [
      "\n",
      "<Response [200]>"
     ]
    },
    {
     "name": "stderr",
     "output_type": "stream",
     "text": [
      "\r",
      " 66%|██████████████████████████████████████████████████████████▎                              | 116/177 [00:27<00:11,  5.27it/s]"
     ]
    },
    {
     "name": "stdout",
     "output_type": "stream",
     "text": [
      "\n",
      "<Response [200]>"
     ]
    },
    {
     "name": "stderr",
     "output_type": "stream",
     "text": [
      "\r",
      " 66%|██████████████████████████████████████████████████████████▊                              | 117/177 [00:27<00:13,  4.47it/s]"
     ]
    },
    {
     "name": "stdout",
     "output_type": "stream",
     "text": [
      "\n",
      "<Response [200]>"
     ]
    },
    {
     "name": "stderr",
     "output_type": "stream",
     "text": [
      "\r",
      " 67%|███████████████████████████████████████████████████████████▎                             | 118/177 [00:28<00:14,  4.04it/s]"
     ]
    },
    {
     "name": "stdout",
     "output_type": "stream",
     "text": [
      "\n",
      "<Response [200]>"
     ]
    },
    {
     "name": "stderr",
     "output_type": "stream",
     "text": [
      "\r",
      " 68%|████████████████████████████████████████████████████████████▎                            | 120/177 [00:28<00:13,  4.23it/s]"
     ]
    },
    {
     "name": "stdout",
     "output_type": "stream",
     "text": [
      "\n",
      "<Response [200]>"
     ]
    },
    {
     "name": "stderr",
     "output_type": "stream",
     "text": [
      "\r",
      " 68%|████████████████████████████████████████████████████████████▊                            | 121/177 [00:28<00:13,  4.02it/s]"
     ]
    },
    {
     "name": "stdout",
     "output_type": "stream",
     "text": [
      "\n",
      "<Response [200]>"
     ]
    },
    {
     "name": "stderr",
     "output_type": "stream",
     "text": [
      "\r",
      " 69%|█████████████████████████████████████████████████████████████▎                           | 122/177 [00:29<00:15,  3.54it/s]"
     ]
    },
    {
     "name": "stdout",
     "output_type": "stream",
     "text": [
      "\n",
      "<Response [200]>"
     ]
    },
    {
     "name": "stderr",
     "output_type": "stream",
     "text": [
      "\r",
      " 71%|██████████████████████████████████████████████████████████████▊                          | 125/177 [00:29<00:11,  4.56it/s]"
     ]
    },
    {
     "name": "stdout",
     "output_type": "stream",
     "text": [
      "\n",
      "<Response [200]>"
     ]
    },
    {
     "name": "stderr",
     "output_type": "stream",
     "text": [
      "\r",
      " 72%|███████████████████████████████████████████████████████████████▊                         | 127/177 [00:29<00:09,  5.09it/s]"
     ]
    },
    {
     "name": "stdout",
     "output_type": "stream",
     "text": [
      "\n",
      "<Response [200]>"
     ]
    },
    {
     "name": "stderr",
     "output_type": "stream",
     "text": [
      "\r",
      " 72%|████████████████████████████████████████████████████████████████▎                        | 128/177 [00:30<00:10,  4.62it/s]"
     ]
    },
    {
     "name": "stdout",
     "output_type": "stream",
     "text": [
      "\n",
      "<Response [200]>"
     ]
    },
    {
     "name": "stderr",
     "output_type": "stream",
     "text": [
      "\r",
      " 73%|████████████████████████████████████████████████████████████████▊                        | 129/177 [00:30<00:11,  4.06it/s]"
     ]
    },
    {
     "name": "stdout",
     "output_type": "stream",
     "text": [
      "\n",
      "<Response [200]>"
     ]
    },
    {
     "name": "stderr",
     "output_type": "stream",
     "text": [
      "\r",
      " 73%|█████████████████████████████████████████████████████████████████▎                       | 130/177 [00:31<00:14,  3.26it/s]"
     ]
    },
    {
     "name": "stdout",
     "output_type": "stream",
     "text": [
      "\n",
      "<Response [200]>"
     ]
    },
    {
     "name": "stderr",
     "output_type": "stream",
     "text": [
      "\r",
      " 74%|█████████████████████████████████████████████████████████████████▊                       | 131/177 [00:31<00:15,  2.92it/s]"
     ]
    },
    {
     "name": "stdout",
     "output_type": "stream",
     "text": [
      "\n",
      "<Response [200]>"
     ]
    },
    {
     "name": "stderr",
     "output_type": "stream",
     "text": [
      "\r",
      " 75%|██████████████████████████████████████████████████████████████████▎                      | 132/177 [00:32<00:16,  2.72it/s]"
     ]
    },
    {
     "name": "stdout",
     "output_type": "stream",
     "text": [
      "\n",
      "<Response [200]>"
     ]
    },
    {
     "name": "stderr",
     "output_type": "stream",
     "text": [
      "\r",
      " 75%|██████████████████████████████████████████████████████████████████▉                      | 133/177 [00:32<00:14,  3.01it/s]"
     ]
    },
    {
     "name": "stdout",
     "output_type": "stream",
     "text": [
      "\n",
      "<Response [200]>"
     ]
    },
    {
     "name": "stderr",
     "output_type": "stream",
     "text": [
      " 79%|█████████████████████████████████████████████████████████████████████▉                   | 139/177 [00:33<00:03, 11.77it/s]"
     ]
    },
    {
     "name": "stdout",
     "output_type": "stream",
     "text": [
      "\n",
      "<Response [200]>\n",
      "<Response [200]>"
     ]
    },
    {
     "name": "stderr",
     "output_type": "stream",
     "text": [
      "\r",
      " 80%|██████████████████████████████████████████████████████████████████████▉                  | 141/177 [00:33<00:03,  9.18it/s]"
     ]
    },
    {
     "name": "stdout",
     "output_type": "stream",
     "text": [
      "\n",
      "<Response [200]>"
     ]
    },
    {
     "name": "stderr",
     "output_type": "stream",
     "text": [
      "\r",
      " 80%|███████████████████████████████████████████████████████████████████████▍                 | 142/177 [00:33<00:04,  7.54it/s]"
     ]
    },
    {
     "name": "stdout",
     "output_type": "stream",
     "text": [
      "\n",
      "<Response [200]>"
     ]
    },
    {
     "name": "stderr",
     "output_type": "stream",
     "text": [
      "\r",
      " 81%|███████████████████████████████████████████████████████████████████████▉                 | 143/177 [00:34<00:05,  6.10it/s]"
     ]
    },
    {
     "name": "stdout",
     "output_type": "stream",
     "text": [
      "\n",
      "<Response [200]>"
     ]
    },
    {
     "name": "stderr",
     "output_type": "stream",
     "text": [
      "\r",
      " 82%|█████████████████████████████████████████████████████████████████████████▍               | 146/177 [00:34<00:05,  5.81it/s]"
     ]
    },
    {
     "name": "stdout",
     "output_type": "stream",
     "text": [
      "\n",
      "<Response [200]>"
     ]
    },
    {
     "name": "stderr",
     "output_type": "stream",
     "text": [
      "\r",
      " 83%|█████████████████████████████████████████████████████████████████████████▉               | 147/177 [00:35<00:06,  4.62it/s]"
     ]
    },
    {
     "name": "stdout",
     "output_type": "stream",
     "text": [
      "\n",
      "<Response [200]>"
     ]
    },
    {
     "name": "stderr",
     "output_type": "stream",
     "text": [
      "\r",
      " 84%|██████████████████████████████████████████████████████████████████████████▍              | 148/177 [00:35<00:06,  4.26it/s]"
     ]
    },
    {
     "name": "stdout",
     "output_type": "stream",
     "text": [
      "\n",
      "<Response [200]>"
     ]
    },
    {
     "name": "stderr",
     "output_type": "stream",
     "text": [
      "\r",
      " 84%|██████████████████████████████████████████████████████████████████████████▉              | 149/177 [00:36<00:07,  3.80it/s]"
     ]
    },
    {
     "name": "stdout",
     "output_type": "stream",
     "text": [
      "\n",
      "<Response [200]>"
     ]
    },
    {
     "name": "stderr",
     "output_type": "stream",
     "text": [
      "\r",
      " 85%|███████████████████████████████████████████████████████████████████████████▍             | 150/177 [00:36<00:07,  3.80it/s]"
     ]
    },
    {
     "name": "stdout",
     "output_type": "stream",
     "text": [
      "\n",
      "<Response [200]>"
     ]
    },
    {
     "name": "stderr",
     "output_type": "stream",
     "text": [
      "\r",
      " 85%|███████████████████████████████████████████████████████████████████████████▉             | 151/177 [00:36<00:07,  3.33it/s]"
     ]
    },
    {
     "name": "stdout",
     "output_type": "stream",
     "text": [
      "\n",
      "<Response [200]>"
     ]
    },
    {
     "name": "stderr",
     "output_type": "stream",
     "text": [
      "\r",
      " 87%|█████████████████████████████████████████████████████████████████████████████▍           | 154/177 [00:37<00:04,  4.93it/s]"
     ]
    },
    {
     "name": "stdout",
     "output_type": "stream",
     "text": [
      "\n",
      "<Response [200]>"
     ]
    },
    {
     "name": "stderr",
     "output_type": "stream",
     "text": [
      "\r",
      " 88%|█████████████████████████████████████████████████████████████████████████████▉           | 155/177 [00:37<00:05,  4.16it/s]"
     ]
    },
    {
     "name": "stdout",
     "output_type": "stream",
     "text": [
      "\n",
      "<Response [200]>"
     ]
    },
    {
     "name": "stderr",
     "output_type": "stream",
     "text": [
      "\r",
      " 88%|██████████████████████████████████████████████████████████████████████████████▍          | 156/177 [00:37<00:05,  4.04it/s]"
     ]
    },
    {
     "name": "stdout",
     "output_type": "stream",
     "text": [
      "\n",
      "<Response [200]>"
     ]
    },
    {
     "name": "stderr",
     "output_type": "stream",
     "text": [
      "\r",
      " 89%|██████████████████████████████████████████████████████████████████████████████▉          | 157/177 [00:38<00:05,  3.38it/s]"
     ]
    },
    {
     "name": "stdout",
     "output_type": "stream",
     "text": [
      "\n",
      "<Response [200]>"
     ]
    },
    {
     "name": "stderr",
     "output_type": "stream",
     "text": [
      "\r",
      " 89%|███████████████████████████████████████████████████████████████████████████████▍         | 158/177 [00:38<00:05,  3.50it/s]"
     ]
    },
    {
     "name": "stdout",
     "output_type": "stream",
     "text": [
      "\n",
      "<Response [200]>"
     ]
    },
    {
     "name": "stderr",
     "output_type": "stream",
     "text": [
      "\r",
      " 90%|███████████████████████████████████████████████████████████████████████████████▉         | 159/177 [00:38<00:05,  3.41it/s]"
     ]
    },
    {
     "name": "stdout",
     "output_type": "stream",
     "text": [
      "\n",
      "<Response [200]>"
     ]
    },
    {
     "name": "stderr",
     "output_type": "stream",
     "text": [
      "\r",
      " 90%|████████████████████████████████████████████████████████████████████████████████▍        | 160/177 [00:39<00:04,  3.48it/s]"
     ]
    },
    {
     "name": "stdout",
     "output_type": "stream",
     "text": [
      "\n",
      "<Response [200]>"
     ]
    },
    {
     "name": "stderr",
     "output_type": "stream",
     "text": [
      "                                                                                                                                "
     ]
    },
    {
     "name": "stdout",
     "output_type": "stream",
     "text": [
      "\n"
     ]
    },
    {
     "name": "stderr",
     "output_type": "stream",
     "text": [
      "\r"
     ]
    }
   ],
   "source": [
    "for employee in tqdm(data['Name']):\n",
    "    employee_data = data[data['Name'] == employee]\n",
    "    individual_tags = employee_tags[\n",
    "        employee_tags['name'].apply(lambda x: x.replace(\"'\", '').replace(' ', '').lower()) == employee.replace(\"'\", '').replace(' ', '').lower()\n",
    "    ]\n",
    "    for col in filter_cols:\n",
    "        val = employee_data[col].values[0]\n",
    "        if not pd.isnull(val):\n",
    "            employee_col_filter = col.replace('/', ' or ') + ': ' + val\n",
    "            employee_col_filter = 'GETS' if employee_col_filter == 'GETS: GETS' else employee_col_filter\n",
    "            individual_tag_employee_col = individual_tags[individual_tags['tag_name'] == employee_col_filter]\n",
    "            if not individual_tag_employee_col.empty and individual_tag_employee_col['selected'].values[0] != True:\n",
    "                url = individual_tag_employee_col['url'].values[0]\n",
    "                base_tag_url = 'https://clients.insightsquared.com'\n",
    "                post_resp = session.post(base_tag_url + url, headers=headers, cookies=cookies, data=tag_data)\n",
    "                print post_resp"
   ]
  },
  {
   "cell_type": "code",
   "execution_count": 40,
   "metadata": {
    "collapsed": true
   },
   "outputs": [],
   "source": [
    "employee_tags = get_user_selected_tags()"
   ]
  },
  {
   "cell_type": "code",
   "execution_count": 41,
   "metadata": {
    "collapsed": false
   },
   "outputs": [
    {
     "data": {
      "text/html": [
       "<div>\n",
       "<table border=\"1\" class=\"dataframe\">\n",
       "  <thead>\n",
       "    <tr style=\"text-align: right;\">\n",
       "      <th></th>\n",
       "      <th>name</th>\n",
       "      <th>id</th>\n",
       "      <th>tag_name</th>\n",
       "      <th>selected</th>\n",
       "      <th>url</th>\n",
       "    </tr>\n",
       "  </thead>\n",
       "  <tbody>\n",
       "    <tr>\n",
       "      <th>14</th>\n",
       "      <td>Aaron Yuhas</td>\n",
       "      <td>9145459</td>\n",
       "      <td>Client or Region: Midwest Multiple</td>\n",
       "      <td>True</td>\n",
       "      <td>/tag/toggle/Client%20or%20Region%3A%20Midwest%...</td>\n",
       "    </tr>\n",
       "    <tr>\n",
       "      <th>29</th>\n",
       "      <td>Aaron Yuhas</td>\n",
       "      <td>9145459</td>\n",
       "      <td>Fulfillment Practice Coordinator: Cindy Greenbaum</td>\n",
       "      <td>True</td>\n",
       "      <td>/tag/toggle/Fulfillment%20Practice%20Coordinat...</td>\n",
       "    </tr>\n",
       "  </tbody>\n",
       "</table>\n",
       "</div>"
      ],
      "text/plain": [
       "           name       id                                           tag_name  \\\n",
       "14  Aaron Yuhas  9145459                 Client or Region: Midwest Multiple   \n",
       "29  Aaron Yuhas  9145459  Fulfillment Practice Coordinator: Cindy Greenbaum   \n",
       "\n",
       "   selected                                                url  \n",
       "14     True  /tag/toggle/Client%20or%20Region%3A%20Midwest%...  \n",
       "29     True  /tag/toggle/Fulfillment%20Practice%20Coordinat...  "
      ]
     },
     "execution_count": 41,
     "metadata": {},
     "output_type": "execute_result"
    }
   ],
   "source": [
    "employee_tags[employee_tags['selected']].head(2)"
   ]
  },
  {
   "cell_type": "code",
   "execution_count": 47,
   "metadata": {
    "collapsed": false
   },
   "outputs": [
    {
     "data": {
      "text/plain": [
       "u'New Hires: 12 Weeks  plus '"
      ]
     },
     "execution_count": 47,
     "metadata": {},
     "output_type": "execute_result"
    }
   ],
   "source": [
    "employee_tags[(employee_tags.name == 'Jean Dumlao') & (employee_tags.selected)].ix[9061].tag_name"
   ]
  },
  {
   "cell_type": "code",
   "execution_count": 43,
   "metadata": {
    "collapsed": false
   },
   "outputs": [
    {
     "data": {
      "text/plain": [
       "[u'Client or Region: AECOM URS',\n",
       " u'Client or Region: ATL Recruiting Multiple',\n",
       " u'Client or Region: Bombardier Ericsson',\n",
       " u'Client or Region: Eastern Canada',\n",
       " u'Client or Region: Edgerock Lite',\n",
       " u'Client or Region: Edgerock Lite Class 2',\n",
       " u'Client or Region: Emerson Curtis Wright',\n",
       " u'Client or Region: Emerson Lyondell AECOM',\n",
       " u'Client or Region: Ericsson',\n",
       " u'Client or Region: Ericsson IBM',\n",
       " u'Client or Region: Gulf Atlantic Multiple',\n",
       " u'Client or Region: HCL',\n",
       " u'Client or Region: IBM',\n",
       " u'Client or Region: IBM Siemens',\n",
       " u'Client or Region: Midwest Multiple',\n",
       " u'Client or Region: Multi Clients Direct Hire',\n",
       " u'Client or Region: Parker',\n",
       " u'Client or Region: Parker LI',\n",
       " u'Client or Region: Schneider Electric Invensys',\n",
       " u'Client or Region: Schneider Electric Invensys Teradyne LI',\n",
       " u'Client or Region: Siemens',\n",
       " u'Client or Region: Siemens Phillips',\n",
       " u'Client or Region: Tech Sol Multiple',\n",
       " u'Client or Region: Teradyne',\n",
       " u'Client or Region: UTC Disney Lyondell',\n",
       " u'Client or Region: West Canada ',\n",
       " u'Client or Region: West Google',\n",
       " u'Client or Region: West Multiple',\n",
       " u'Client or Region: West Western Union',\n",
       " u'Fulfillment Practice Coordinator: Cindy Greenbaum',\n",
       " u'Fulfillment Practice Coordinator: Justin Twist',\n",
       " u'Fulfillment Practice Lead: Beth Alex',\n",
       " u'Fulfillment Practice Lead: Erin Medlin',\n",
       " u'Fulfillment Practice Lead: Sherry Norfleet',\n",
       " u'Fulfillment Practice Manager: Amy Nelson',\n",
       " u'Fulfillment Practice Manager: Brian Mauch',\n",
       " u'Fulfillment Practice Manager: Crystal Meyers',\n",
       " u'Fulfillment Practice Manager: Jim Godfrey',\n",
       " u'Fulfillment Practice Manager: Keeran Persaud',\n",
       " u'Fulfillment Practice Manager: Nikki Diman',\n",
       " u'Fulfillment Practice Manager: Sherry Norfleet',\n",
       " u'Fulfillment Practice Manager: Taylor Grimes',\n",
       " u'GETS',\n",
       " u'Major: Apps Development',\n",
       " u'Major: Business Inteligence',\n",
       " u'Major: Business Intelligence',\n",
       " u'Major: Engineering',\n",
       " u'Major: ERP',\n",
       " u'Major: Infrastructure',\n",
       " u'Major: Other General',\n",
       " u'Major: Project Resources',\n",
       " u'Major: Tech Support',\n",
       " u'Minor: Apps Development',\n",
       " u'Minor: Business Inteligence',\n",
       " u'Minor: Engineering',\n",
       " u'Minor: ERP',\n",
       " u'Minor: Infrastructure',\n",
       " u'Minor: Other General',\n",
       " u'Minor: Project Resources',\n",
       " u'Minor: Tech Support',\n",
       " u'New Hires: 12 Weeks  ',\n",
       " u'New Hires: 12 Weeks  plus ',\n",
       " u'New Hires: New E L 12 Week Ramp',\n",
       " u'New Hires: New Exp 12 Week Ramp',\n",
       " u'New Hires: No Indv Production',\n",
       " u'Onshore or Offshore: Off Shore',\n",
       " u'Onshore or Offshore: On Shore',\n",
       " u'Practice Team: Applications',\n",
       " u'Practice Team: Applications and Project Resources',\n",
       " u'Practice Team: Direct Hire',\n",
       " u'Practice Team: Engineering',\n",
       " u'Practice Team: ERP Business Intel',\n",
       " u'Practice Team: Infrastructure ',\n",
       " u'Practice Team: Managed Programs',\n",
       " u'Practice Team: Project Resource',\n",
       " u'Practice Team: Tech Solutions',\n",
       " u'Role: Backup Recruiter',\n",
       " u'Role: Direct Hire',\n",
       " u'Role: Engagement Lead',\n",
       " u'Role: Jr Recruiter',\n",
       " u'Role: Lead Recruiter',\n",
       " u'Role: Recruiter',\n",
       " u'Role: Sourcer',\n",
       " u'Role: Team Lead',\n",
       " u'Targets Yes or No: No',\n",
       " u'Targets Yes or No: Yes',\n",
       " u'TTS Division: Enterprise',\n",
       " u'TTS Division: Enterprise Program',\n",
       " u'TTS Division: Tech Solutions',\n",
       " u'US or Canada: Canada',\n",
       " u'US or Canada: US',\n",
       " u'Work Location: Atlanta',\n",
       " u'Work Location: Cary NC',\n",
       " u'Work Location: Cross Lanes',\n",
       " u'Work Location: Dallas',\n",
       " u'Work Location: Irvine',\n",
       " u'Work Location: On Site',\n",
       " u'Work Location: Philadelphia',\n",
       " u'Work Location: Troy',\n",
       " u'Work Location: Virtual']"
      ]
     },
     "execution_count": 43,
     "metadata": {},
     "output_type": "execute_result"
    }
   ],
   "source": [
    "existing_tags = get_available_tags()\n",
    "existing_tags"
   ]
  },
  {
   "cell_type": "code",
   "execution_count": null,
   "metadata": {
    "collapsed": true
   },
   "outputs": [],
   "source": []
  }
 ],
 "metadata": {
  "kernelspec": {
   "display_name": "Python 2",
   "language": "python",
   "name": "python2"
  },
  "language_info": {
   "codemirror_mode": {
    "name": "ipython",
    "version": 2
   },
   "file_extension": ".py",
   "mimetype": "text/x-python",
   "name": "python",
   "nbconvert_exporter": "python",
   "pygments_lexer": "ipython2",
   "version": "2.7.11"
  }
 },
 "nbformat": 4,
 "nbformat_minor": 0
}
