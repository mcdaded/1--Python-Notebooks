{
 "cells": [
  {
   "cell_type": "code",
   "execution_count": 1,
   "metadata": {
    "collapsed": true
   },
   "outputs": [],
   "source": [
    "import os\n",
    "import rarfile\n",
    "import zipfile"
   ]
  },
  {
   "cell_type": "code",
   "execution_count": 2,
   "metadata": {
    "collapsed": true
   },
   "outputs": [],
   "source": [
    "media_dir = '/media/dan-share/Books'\n",
    "media_dir += '/TEMP/New Folder/New folder (3)'"
   ]
  },
  {
   "cell_type": "code",
   "execution_count": 4,
   "metadata": {},
   "outputs": [],
   "source": [
    "dir_list = os.listdir(media_dir)\n",
    "#dir_list"
   ]
  },
  {
   "cell_type": "code",
   "execution_count": null,
   "metadata": {
    "collapsed": true
   },
   "outputs": [],
   "source": [
    "dir_list"
   ]
  },
  {
   "cell_type": "code",
   "execution_count": null,
   "metadata": {
    "collapsed": true
   },
   "outputs": [],
   "source": [
    "for _file in dir_list:\n",
    "    if '.rar' in _file:\n",
    "        _name = _file.replace('.rar', '').split('.')\n",
    "        folder_name = ''\n",
    "        for fn in _name:\n",
    "            try:\n",
    "                int(fn)\n",
    "                file_number = fn\n",
    "            except ValueError:\n",
    "                folder_name += ' ' + fn if len(fn) > 1 else fn\n",
    "        target_dir = media_dir + '/' + folder_name.strip()\n",
    "        opened_rar = rarfile.RarFile(media_dir + '/' + _file)\n",
    "        for f in opened_rar.infolist():\n",
    "            if '.txt' not in f.filename:\n",
    "                print(f.filename, f.file_size)\n",
    "        opened_rar.extractall(target_dir)\n",
    "        for _extracted_file in os.listdir(target_dir):\n",
    "            if _file.replace('.rar', '').lower() in _extracted_file.lower():\n",
    "                file_name = folder_name.strip() + '.' + _extracted_file.split('.')[-1]\n",
    "                os.rename(target_dir + '/' + _extracted_file, target_dir + '/' + file_name)"
   ]
  },
  {
   "cell_type": "code",
   "execution_count": null,
   "metadata": {
    "collapsed": true
   },
   "outputs": [],
   "source": [
    "\n",
    "\n",
    "\n"
   ]
  },
  {
   "cell_type": "code",
   "execution_count": null,
   "metadata": {
    "collapsed": true
   },
   "outputs": [],
   "source": []
  },
  {
   "cell_type": "code",
   "execution_count": null,
   "metadata": {
    "collapsed": true
   },
   "outputs": [],
   "source": [
    "media_dir = '/media/dan-share/Books/1. Analytics and Machine Learning'\n",
    "dir_list = os.listdir(media_dir)\n",
    "\n",
    "\n",
    "for d in dir_list:\n",
    "    if os.path.isdir(media_dir + '/' + d):\n",
    "        _temp = media_dir + '/' + d\n",
    "        print(os.listdir(_temp))"
   ]
  },
  {
   "cell_type": "markdown",
   "metadata": {},
   "source": [
    "\n",
    "\n",
    "\n",
    "# Existing / Old Zips\n",
    "\n",
    "\n",
    "\n"
   ]
  },
  {
   "cell_type": "code",
   "execution_count": 13,
   "metadata": {
    "collapsed": true
   },
   "outputs": [],
   "source": [
    "import zipfile"
   ]
  },
  {
   "cell_type": "code",
   "execution_count": null,
   "metadata": {
    "collapsed": true
   },
   "outputs": [],
   "source": [
    "zip_ref = zipfile.ZipFile(path_to_zip_file, 'r')\n",
    "zip_ref.extractall(directory_to_extract_to)\n",
    "zip_ref.close()"
   ]
  },
  {
   "cell_type": "code",
   "execution_count": null,
   "metadata": {
    "collapsed": true
   },
   "outputs": [],
   "source": [
    "import os\n",
    "\n",
    "cwd = os.getcwd()\n",
    "book_dir = cwd + '\\\\books'\n",
    "dir_folders = os.listdir(book_dir)\n",
    "os.chdir(book_dir)\n",
    "\n",
    "for folder in dir_folders:\n",
    "    os.chdir(book_dir)\n",
    "    folder_name = folder\n",
    "    new_name = folder_name.replace('.', ' ')\n",
    "    os.rename(folder_name, new_name)\n",
    "    _dir = book_dir + '\\\\' + new_name\n",
    "    for _file in os.listdir(_dir):\n",
    "        os.chdir(_dir)\n",
    "        file_name = _file\n",
    "        new_name = \" \".join(_file.split('.')[:-1]) + '.' + _file.split('.')[-1]\n",
    "        os.rename(file_name, new_name)\n"
   ]
  },
  {
   "cell_type": "code",
   "execution_count": null,
   "metadata": {
    "collapsed": true
   },
   "outputs": [],
   "source": [
    "def unrar():\n",
    "    for rar in os.listdir(dpath):\n",
    "        filepath = os.path.join(dpath, rar)\n",
    "        opened_rar = rarfile.RarFile(filepath)\n",
    "        for f in opened_rar.infolist():\n",
    "            print (f.filename, f.file_size)\n",
    "        opened_rar.extractall(xpath)"
   ]
  }
 ],
 "metadata": {
  "kernelspec": {
   "display_name": "Conda4.4",
   "language": "python",
   "name": "conda4.4"
  },
  "language_info": {
   "codemirror_mode": {
    "name": "ipython",
    "version": 3
   },
   "file_extension": ".py",
   "mimetype": "text/x-python",
   "name": "python",
   "nbconvert_exporter": "python",
   "pygments_lexer": "ipython3",
   "version": "3.6.2"
  }
 },
 "nbformat": 4,
 "nbformat_minor": 2
}
