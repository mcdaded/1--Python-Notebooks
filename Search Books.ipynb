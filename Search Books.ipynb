{
 "cells": [
  {
   "cell_type": "code",
   "execution_count": 1,
   "metadata": {
    "collapsed": true
   },
   "outputs": [],
   "source": [
    "import os"
   ]
  },
  {
   "cell_type": "code",
   "execution_count": 23,
   "metadata": {},
   "outputs": [],
   "source": [
    "media_dir_base = '/media/dan-share/Books'\n",
    "search_folders = ['1. Analytics and Machine Learning', 'TEMP', 'Programming Books']\n",
    "search_string = 'practical machine learning with python'\n",
    "matches = []\n",
    "for folder in search_folders:\n",
    "    has_folders = False\n",
    "    start_path = f'{media_dir_base}/{folder}'\n",
    "    _dir_list = os.listdir(start_path)\n",
    "    _files_folders = dict([(fname, fname.lower()) for fname in _dir_list])\n",
    "    for fname in _files_folders:\n",
    "        if search_string in _files_folders[fname]:\n",
    "            matches.append(f'{start_path}/{fname}')\n",
    "        elif os.path.isdir(f'{start_path}/{fname}'):\n",
    "            new_start_path = f'{start_path}/{fname}'\n",
    "            _sub_dir_list = os.listdir(new_start_path)\n",
    "            _sub_files_folders = dict([(fname, fname.lower()) for fname in _sub_dir_list])\n",
    "            for new_fname in _sub_files_folders:\n",
    "                if search_string in _sub_files_folders[new_fname]:\n",
    "                    matches.append(f'{new_start_path}/{new_fname}/')\n",
    "                elif os.path.isdir(f'{new_start_path}/{new_fname}'):\n",
    "                    sub_new_start_path = f'{new_start_path}/{new_fname}'\n",
    "                    _new_sub_dir_list = os.listdir(sub_new_start_path)\n",
    "                    _new_sub_files_folders = dict([(fname, fname.lower()) for fname in _new_sub_dir_list])\n",
    "                    for sub_new_fname in _new_sub_files_folders:\n",
    "                        if search_string in _new_sub_files_folders[sub_new_fname]:\n",
    "                            matches.append(f'{sub_new_start_path}/{sub_new_fname}/')"
   ]
  },
  {
   "cell_type": "code",
   "execution_count": 24,
   "metadata": {},
   "outputs": [
    {
     "data": {
      "text/plain": [
       "['/media/dan-share/Books/Programming Books/Practical Machine Learning with Python']"
      ]
     },
     "execution_count": 24,
     "metadata": {},
     "output_type": "execute_result"
    }
   ],
   "source": [
    "matches"
   ]
  },
  {
   "cell_type": "code",
   "execution_count": 21,
   "metadata": {},
   "outputs": [],
   "source": [
    "os.chdir(f'{media_dir_base}')"
   ]
  },
  {
   "cell_type": "code",
   "execution_count": 22,
   "metadata": {},
   "outputs": [
    {
     "name": "stdout",
     "output_type": "stream",
     "text": [
      "./Programming Books/Practical Machine Learning with Python/Practical Machine Learning with Python.pdf\r\n"
     ]
    }
   ],
   "source": [
    "! find . -name \"Practical Machine Learning with Python.*\""
   ]
  },
  {
   "cell_type": "code",
   "execution_count": null,
   "metadata": {
    "collapsed": true
   },
   "outputs": [],
   "source": []
  }
 ],
 "metadata": {
  "kernelspec": {
   "display_name": "Conda4.4",
   "language": "python",
   "name": "conda4.4"
  },
  "language_info": {
   "codemirror_mode": {
    "name": "ipython",
    "version": 3
   },
   "file_extension": ".py",
   "mimetype": "text/x-python",
   "name": "python",
   "nbconvert_exporter": "python",
   "pygments_lexer": "ipython3",
   "version": "3.6.2"
  }
 },
 "nbformat": 4,
 "nbformat_minor": 2
}
