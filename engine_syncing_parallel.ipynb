{
 "cells": [
  {
   "cell_type": "code",
   "execution_count": null,
   "metadata": {
    "collapsed": true
   },
   "outputs": [],
   "source": [
    "# conda install ipyparallal\n",
    "\n",
    "# ipcluster nbextension enable"
   ]
  },
  {
   "cell_type": "code",
   "execution_count": 1,
   "metadata": {
    "collapsed": true
   },
   "outputs": [],
   "source": [
    "import os\n",
    "import sys\n",
    "import pandas as pd\n",
    "import numpy as np\n",
    "from sqlalchemy import create_engine, text\n",
    "from IPython.core.pylabtools import figsize\n",
    "import numpy as np\n",
    "from matplotlib import pyplot as plt\n",
    "%matplotlib inline\n",
    "figsize(11, 9)\n",
    "\n",
    "for pd_option in ['display.max_rows', 'display.max_colwidth', 'display.max_columns']:\n",
    "    pd.set_option(pd_option, 500)  # http://pandas.pydata.org/pandas-docs/stable/generated/pandas.set_option.html"
   ]
  },
  {
   "cell_type": "code",
   "execution_count": 2,
   "metadata": {
    "collapsed": true
   },
   "outputs": [],
   "source": [
    "import paramiko \n",
    "\n",
    "class DevboxCMD:\n",
    "    \"\"\"\n",
    "    Base class for connecting to the MDM DevBox and executing commands.\n",
    "    Possible commands include everything from querying data, executing unix commands, to copying files\n",
    "    \"\"\"\n",
    "    def __init__(self):\n",
    "        ssh_loc = 'C:\\\\Users\\\\location_name\\\\private_key_openssh.key'\n",
    "        self.myPkey = paramiko.RSAKey.from_private_key_file(ssh_loc)\n",
    "        self.client = paramiko.SSHClient()\n",
    "        self.client.set_missing_host_key_policy(paramiko.AutoAddPolicy())\n",
    "        self.client.connect(hostname='', username='', pkey=self.myPkey)\n",
    "        self.cwd = self.client.exec_command('')\n",
    "\n",
    "    def mdm_cmd(self, command):\n",
    "        self.stdin, self.stdout, self.stderr = self.client.exec_command(command)"
   ]
  },
  {
   "cell_type": "code",
   "execution_count": 3,
   "metadata": {
    "collapsed": true
   },
   "outputs": [],
   "source": [
    "from sshtunnel import SSHTunnelForwarder #Run pip install sshtunnel\n",
    "import paramiko\n",
    "\n",
    "def get_mysql_connection():\n",
    "    ssh_loc = 'C:\\\\Users\\\\location_name\\\\private_key_openssh.key'\n",
    "    myPkey = paramiko.RSAKey.from_private_key_file(ssh_loc)\n",
    "    server = SSHTunnelForwarder(\n",
    "        ssh_address_or_host=('', 22), \n",
    "        ssh_username='', \n",
    "        ssh_pkey=myPkey, \n",
    "        # local_bind_address=('127.0.0.1', 5999),\n",
    "        remote_bind_address=('127.0.0.1', 3306) )\n",
    "    server.start()\n",
    "    \n",
    "    local_port = str(server.local_bind_port)\n",
    "    engine = create_engine('mysql+pymysql://root:@localhost:' + local_port +'/insightsquared')\n",
    "    return server, engine\n"
   ]
  },
  {
   "cell_type": "code",
   "execution_count": 4,
   "metadata": {
    "collapsed": true
   },
   "outputs": [],
   "source": [
    "engine = create_engine('sqlite:///fake_db_test.db')\n",
    "connection_to_db = str(engine.url)"
   ]
  },
  {
   "cell_type": "code",
   "execution_count": 8,
   "metadata": {
    "collapsed": false
   },
   "outputs": [
    {
     "name": "stdout",
     "output_type": "stream",
     "text": [
      "The sql extension is already loaded. To reload it, use:\n",
      "  %reload_ext sql\n"
     ]
    },
    {
     "data": {
      "text/plain": [
       "u'Connected: None@fake_db_test.db'"
      ]
     },
     "execution_count": 8,
     "metadata": {},
     "output_type": "execute_result"
    }
   ],
   "source": [
    "%load_ext sql\n",
    "%config SqlMagic.displaylimit = 5\n",
    "%sql $connection_to_db"
   ]
  },
  {
   "cell_type": "code",
   "execution_count": 1,
   "metadata": {
    "collapsed": false
   },
   "outputs": [
    {
     "name": "stdout",
     "output_type": "stream",
     "text": [
      "\n",
      "There are 4 clients with the following id's [0, 1, 2, 3]\n",
      "\n"
     ]
    }
   ],
   "source": [
    "from ipyparallel import Client\n",
    "\n",
    "cluster_clients = Client()\n",
    "cluster_clients.block = True  # use synchronous computations\n",
    "print \"\\nThere are {} clients with the following id's {}\\n\".format(len(cluster_clients.ids), cluster_clients.ids)\n",
    "view = cluster_clients.load_balanced_view()\n",
    "view.block = True"
   ]
  },
  {
   "cell_type": "code",
   "execution_count": 3,
   "metadata": {
    "collapsed": false
   },
   "outputs": [
    {
     "data": {
      "text/plain": [
       "<DirectView [0, 1, 2, 3]>"
      ]
     },
     "execution_count": 3,
     "metadata": {},
     "output_type": "execute_result"
    }
   ],
   "source": [
    "all_engines = cluster_clients[:]\n",
    "all_engines"
   ]
  },
  {
   "cell_type": "code",
   "execution_count": 22,
   "metadata": {
    "collapsed": false
   },
   "outputs": [
    {
     "data": {
      "text/plain": [
       "[42, 42, 42, 42]"
      ]
     },
     "execution_count": 22,
     "metadata": {},
     "output_type": "execute_result"
    }
   ],
   "source": [
    "def my_sum(a, b):\n",
    "    \n",
    "    return a + b\n",
    "\n",
    "my_sum_apply_results = all_engines.apply(my_sum, 11, 31)\n",
    "my_sum_apply_results"
   ]
  },
  {
   "cell_type": "code",
   "execution_count": null,
   "metadata": {
    "collapsed": true
   },
   "outputs": [],
   "source": [
    "my_sum_apply_results.get()"
   ]
  },
  {
   "cell_type": "code",
   "execution_count": 4,
   "metadata": {
    "collapsed": false
   },
   "outputs": [
    {
     "name": "stdout",
     "output_type": "stream",
     "text": [
      "importing numpy on engine(s)\n",
      "importing pandas on engine(s)\n",
      "importing create_engine from sqlalchemy on engine(s)\n",
      "importing paramiko on engine(s)\n"
     ]
    }
   ],
   "source": [
    "with all_engines.sync_imports():\n",
    "    import numpy\n",
    "    import pandas\n",
    "    from sqlalchemy import create_engine\n",
    "    import paramiko"
   ]
  },
  {
   "cell_type": "code",
   "execution_count": 13,
   "metadata": {
    "collapsed": false
   },
   "outputs": [
    {
     "data": {
      "text/plain": [
       "u'0.18.1'"
      ]
     },
     "execution_count": 13,
     "metadata": {},
     "output_type": "execute_result"
    }
   ],
   "source": [
    "pd.__version__"
   ]
  },
  {
   "cell_type": "code",
   "execution_count": 26,
   "metadata": {
    "collapsed": true
   },
   "outputs": [],
   "source": [
    "def slow_var_test(a):\n",
    "    return pandas.__version__, x, my_sum(1, 2)"
   ]
  },
  {
   "cell_type": "code",
   "execution_count": 27,
   "metadata": {
    "collapsed": false
   },
   "outputs": [],
   "source": [
    "results = view.map(slow_var_test, [0, 1, 2, 3])"
   ]
  },
  {
   "cell_type": "code",
   "execution_count": 28,
   "metadata": {
    "collapsed": false
   },
   "outputs": [
    {
     "data": {
      "text/plain": [
       "[(u'0.18.1', 'f', 3),\n",
       " (u'0.18.1', 'f', 3),\n",
       " (u'0.18.1', 'f', 3),\n",
       " (u'0.18.1', 'f', 3)]"
      ]
     },
     "execution_count": 28,
     "metadata": {},
     "output_type": "execute_result"
    }
   ],
   "source": [
    "results"
   ]
  },
  {
   "cell_type": "code",
   "execution_count": 23,
   "metadata": {
    "collapsed": false
   },
   "outputs": [
    {
     "data": {
      "text/plain": [
       "[None, None, None, None]"
      ]
     },
     "execution_count": 23,
     "metadata": {},
     "output_type": "execute_result"
    }
   ],
   "source": [
    "all_engines.push(dict(x='f', my_sum=my_sum))"
   ]
  },
  {
   "cell_type": "code",
   "execution_count": null,
   "metadata": {
    "collapsed": true
   },
   "outputs": [],
   "source": []
  }
 ],
 "metadata": {
  "kernelspec": {
   "display_name": "Python 2",
   "language": "python",
   "name": "python2"
  },
  "language_info": {
   "codemirror_mode": {
    "name": "ipython",
    "version": 2
   },
   "file_extension": ".py",
   "mimetype": "text/x-python",
   "name": "python",
   "nbconvert_exporter": "python",
   "pygments_lexer": "ipython2",
   "version": "2.7.11"
  }
 },
 "nbformat": 4,
 "nbformat_minor": 0
}
