{
 "cells": [
  {
   "cell_type": "code",
   "execution_count": 1,
   "metadata": {
    "collapsed": true
   },
   "outputs": [],
   "source": [
    "import pandas as pd\n",
    "import numpy as np\n",
    "import sklearn\n",
    "import scipy\n",
    "import statsmodels\n",
    "import matplotlib.pyplot as plt\n",
    "%matplotlib inline\n",
    "import theano\n",
    "import keras"
   ]
  },
  {
   "cell_type": "code",
   "execution_count": 10,
   "metadata": {
    "collapsed": true
   },
   "outputs": [],
   "source": [
    "from keras.models import Sequential\n",
    "from keras.layers.core import Dense, Activation, Dropout\n",
    "from keras.optimizers import SGD"
   ]
  },
  {
   "cell_type": "code",
   "execution_count": 11,
   "metadata": {
    "collapsed": true
   },
   "outputs": [],
   "source": [
    "from sklearn import datasets\n",
    "from sklearn.cross_validation import train_test_split\n",
    "from sklearn.preprocessing import StandardScaler\n",
    "from sklearn.metrics import classification_report"
   ]
  },
  {
   "cell_type": "code",
   "execution_count": 12,
   "metadata": {
    "collapsed": true
   },
   "outputs": [],
   "source": [
    "iris = datasets.load_iris()\n",
    "X = iris.data\n",
    "X = StandardScaler().fit_transform(X)\n",
    "y = iris.target"
   ]
  },
  {
   "cell_type": "code",
   "execution_count": 13,
   "metadata": {
    "collapsed": false
   },
   "outputs": [],
   "source": [
    "X_train, X_test, y_train, y_test = train_test_split(X, y, test_size=0.33, random_state=42)"
   ]
  },
  {
   "cell_type": "code",
   "execution_count": null,
   "metadata": {
    "collapsed": true
   },
   "outputs": [],
   "source": [
    "# category needs to be a dummy array of category values "
   ]
  },
  {
   "cell_type": "code",
   "execution_count": 14,
   "metadata": {
    "collapsed": true
   },
   "outputs": [],
   "source": [
    "y_transformed = []\n",
    "for val in y:\n",
    "    yt = [0, 0, 0]\n",
    "    yt[val] = 1\n",
    "    y_transformed = y_transformed + [yt]"
   ]
  },
  {
   "cell_type": "code",
   "execution_count": 15,
   "metadata": {
    "collapsed": false
   },
   "outputs": [],
   "source": [
    "data_input_dim = X.shape[1]\n",
    "nb_classes = 3\n",
    "\n",
    "model = Sequential()\n",
    "model.add(Dense(64, input_dim=data_input_dim, init='uniform', activation='tanh'))\n",
    "model.add(Dropout(0.5))\n",
    "model.add(Dense(64, init='uniform', activation='tanh'))\n",
    "model.add(Dropout(0.5))\n",
    "model.add(Dense(nb_classes, init='uniform', activation='softmax'))\n",
    "\n",
    "sgd = SGD(lr=0.1, decay=1e-6, momentum=0.9, nesterov=True)\n",
    "model.compile(loss='mean_squared_error', optimizer=sgd)"
   ]
  },
  {
   "cell_type": "code",
   "execution_count": 18,
   "metadata": {
    "collapsed": false
   },
   "outputs": [
    {
     "name": "stdout",
     "output_type": "stream",
     "text": [
      "Train on 105 samples, validate on 45 samples\n",
      "Epoch 1/10\n",
      "0s - loss: 0.2198 - acc: 0.4762 - val_loss: 0.4532 - val_acc: 0.0000\n",
      "Epoch 2/10\n",
      "0s - loss: 0.1985 - acc: 0.4762 - val_loss: 0.4286 - val_acc: 0.0000\n",
      "Epoch 3/10\n",
      "0s - loss: 0.1835 - acc: 0.4762 - val_loss: 0.4216 - val_acc: 0.0000\n",
      "Epoch 4/10\n",
      "0s - loss: 0.1808 - acc: 0.4762 - val_loss: 0.4239 - val_acc: 0.0000\n",
      "Epoch 5/10\n",
      "0s - loss: 0.1820 - acc: 0.4762 - val_loss: 0.4259 - val_acc: 0.0000\n",
      "Epoch 6/10\n",
      "0s - loss: 0.1807 - acc: 0.4762 - val_loss: 0.4272 - val_acc: 0.0000\n",
      "Epoch 7/10\n",
      "0s - loss: 0.1792 - acc: 0.4762 - val_loss: 0.4276 - val_acc: 0.0000\n",
      "Epoch 8/10\n",
      "0s - loss: 0.1759 - acc: 0.7714 - val_loss: 0.4289 - val_acc: 0.0000\n",
      "Epoch 9/10\n",
      "0s - loss: 0.1725 - acc: 0.8952 - val_loss: 0.4304 - val_acc: 0.0000\n",
      "Epoch 10/10\n",
      "0s - loss: 0.1651 - acc: 0.9143 - val_loss: 0.4337 - val_acc: 0.0000\n"
     ]
    }
   ],
   "source": [
    "model.fit(X, y_transformed, nb_epoch=10, batch_size=16, validation_split=0.3, show_accuracy=True, verbose=2)\n",
    "preds = model.predict_classes(X_test, verbose=0)"
   ]
  },
  {
   "cell_type": "code",
   "execution_count": 19,
   "metadata": {
    "collapsed": false
   },
   "outputs": [
    {
     "data": {
      "text/plain": [
       "array([1, 0, 1, 1, 1, 0, 1, 1, 1, 1, 1, 0, 0, 0, 0, 1, 1, 1, 1, 1, 0, 1, 0,\n",
       "       1, 1, 1, 1, 1, 0, 0, 0, 0, 1, 0, 0, 1, 1, 0, 0, 0, 1, 1, 1, 0, 0, 1,\n",
       "       1, 1, 1, 1], dtype=int64)"
      ]
     },
     "execution_count": 19,
     "metadata": {},
     "output_type": "execute_result"
    }
   ],
   "source": [
    "preds"
   ]
  },
  {
   "cell_type": "code",
   "execution_count": 20,
   "metadata": {
    "collapsed": false
   },
   "outputs": [
    {
     "data": {
      "text/plain": [
       "array([1, 0, 2, 1, 1, 0, 1, 2, 1, 1, 2, 0, 0, 0, 0, 1, 2, 1, 1, 2, 0, 2, 0,\n",
       "       2, 2, 2, 2, 2, 0, 0, 0, 0, 1, 0, 0, 2, 1, 0, 0, 0, 2, 1, 1, 0, 0, 1,\n",
       "       2, 2, 1, 2])"
      ]
     },
     "execution_count": 20,
     "metadata": {},
     "output_type": "execute_result"
    }
   ],
   "source": [
    "y_test"
   ]
  },
  {
   "cell_type": "code",
   "execution_count": 21,
   "metadata": {
    "collapsed": false
   },
   "outputs": [
    {
     "name": "stdout",
     "output_type": "stream",
     "text": [
      "             precision    recall  f1-score   support\n",
      "\n",
      "          0       1.00      1.00      1.00        19\n",
      "          1       0.48      1.00      0.65        15\n",
      "          2       0.00      0.00      0.00        16\n",
      "\n",
      "avg / total       0.53      0.68      0.58        50\n",
      "\n"
     ]
    },
    {
     "name": "stderr",
     "output_type": "stream",
     "text": [
      "C:\\Users\\Dan\\Anaconda\\lib\\site-packages\\sklearn\\metrics\\classification.py:1074: UndefinedMetricWarning: Precision and F-score are ill-defined and being set to 0.0 in labels with no predicted samples.\n",
      "  'precision', 'predicted', average, warn_for)\n"
     ]
    }
   ],
   "source": [
    "print classification_report(y_test, preds)"
   ]
  },
  {
   "cell_type": "code",
   "execution_count": 115,
   "metadata": {
    "collapsed": true
   },
   "outputs": [],
   "source": [
    "# Make 100 phony data points in NumPy.\n",
    "x_data = np.float32(np.random.rand(2, 100)) # Random input\n",
    "y_data = np.dot([0.100, 0.200], x_data) + 0.300"
   ]
  },
  {
   "cell_type": "code",
   "execution_count": 116,
   "metadata": {
    "collapsed": true
   },
   "outputs": [],
   "source": [
    "data_input_dim = x_data.shape[1]\n",
    "nb_classes = 1\n",
    "\n",
    "model = Sequential()\n",
    "model.add(Dense(64, input_dim=data_input_dim, init='uniform', activation='tanh'))\n",
    "model.add(Dropout(0.5))\n",
    "model.add(Dense(64, init='uniform', activation='tanh'))\n",
    "model.add(Dropout(0.5))\n",
    "model.add(Dense(nb_classes, init='uniform', activation='softmax'))\n",
    "\n",
    "sgd = SGD(lr=0.1, decay=1e-6, momentum=0.9, nesterov=True)\n",
    "model.compile(loss='mean_squared_error', optimizer=sgd)"
   ]
  },
  {
   "cell_type": "code",
   "execution_count": 118,
   "metadata": {
    "collapsed": false
   },
   "outputs": [
    {
     "name": "stdout",
     "output_type": "stream",
     "text": [
      "Train on 1 samples, validate on 1 samples\n",
      "Epoch 1/10\n",
      "0s - loss: 0.1800 - acc: 1.0000 - val_loss: 0.3278 - val_acc: 1.0000\n",
      "Epoch 2/10\n",
      "0s - loss: 0.1800 - acc: 1.0000 - val_loss: 0.3278 - val_acc: 1.0000\n",
      "Epoch 3/10\n",
      "0s - loss: 0.1800 - acc: 1.0000 - val_loss: 0.3278 - val_acc: 1.0000\n",
      "Epoch 4/10\n",
      "0s - loss: 0.1800 - acc: 1.0000 - val_loss: 0.3278 - val_acc: 1.0000\n",
      "Epoch 5/10\n",
      "0s - loss: 0.1800 - acc: 1.0000 - val_loss: 0.3278 - val_acc: 1.0000\n",
      "Epoch 6/10\n",
      "0s - loss: 0.1800 - acc: 1.0000 - val_loss: 0.3278 - val_acc: 1.0000\n",
      "Epoch 7/10\n",
      "0s - loss: 0.1800 - acc: 1.0000 - val_loss: 0.3278 - val_acc: 1.0000\n",
      "Epoch 8/10\n",
      "0s - loss: 0.1800 - acc: 1.0000 - val_loss: 0.3278 - val_acc: 1.0000\n",
      "Epoch 9/10\n",
      "0s - loss: 0.1800 - acc: 1.0000 - val_loss: 0.3278 - val_acc: 1.0000\n",
      "Epoch 10/10\n",
      "0s - loss: 0.1800 - acc: 1.0000 - val_loss: 0.3278 - val_acc: 1.0000\n"
     ]
    },
    {
     "data": {
      "text/plain": [
       "<keras.callbacks.History at 0x209f4128>"
      ]
     },
     "execution_count": 118,
     "metadata": {},
     "output_type": "execute_result"
    }
   ],
   "source": [
    "model.fit(x_data, y_data, nb_epoch=10, batch_size=16, validation_split=0.3, show_accuracy=True, verbose=2)"
   ]
  },
  {
   "cell_type": "code",
   "execution_count": null,
   "metadata": {
    "collapsed": true
   },
   "outputs": [],
   "source": []
  },
  {
   "cell_type": "code",
   "execution_count": null,
   "metadata": {
    "collapsed": true
   },
   "outputs": [],
   "source": []
  }
 ],
 "metadata": {
  "kernelspec": {
   "display_name": "Python 2",
   "language": "python",
   "name": "python2"
  },
  "language_info": {
   "codemirror_mode": {
    "name": "ipython",
    "version": 2
   },
   "file_extension": ".py",
   "mimetype": "text/x-python",
   "name": "python",
   "nbconvert_exporter": "python",
   "pygments_lexer": "ipython2",
   "version": "2.7.10"
  }
 },
 "nbformat": 4,
 "nbformat_minor": 0
}
